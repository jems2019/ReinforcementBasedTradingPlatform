{
  "nbformat": 4,
  "nbformat_minor": 0,
  "metadata": {
    "colab": {
      "name": "custom_anytrading.ipynb",
      "provenance": [],
      "collapsed_sections": [
        "fcSWA-qLGI-S",
        "Rme4u9IWGaNo",
        "UBfSpQNy09ss",
        "po8aSiaxGjnd",
        "1cJCtmUN2nJJ",
        "uk1GgE4PGpcY",
        "xdUTmbIXGt_c",
        "WMhNXW8fGxb-",
        "3rqR0e7aG0jr",
        "FMQ8bZo9Q55j"
      ],
      "toc_visible": true,
      "authorship_tag": "ABX9TyNIqmMYjUIwBK15QUmre1xJ",
      "include_colab_link": true
    },
    "kernelspec": {
      "name": "python3",
      "display_name": "Python 3"
    },
    "accelerator": "GPU"
  },
  "cells": [
    {
      "cell_type": "markdown",
      "metadata": {
        "id": "view-in-github",
        "colab_type": "text"
      },
      "source": [
        "<a href=\"https://colab.research.google.com/github/jems2019/ReinforcementBasedTradingPlatform/blob/master/notebooks/custom_anytrading.ipynb\" target=\"_parent\"><img src=\"https://colab.research.google.com/assets/colab-badge.svg\" alt=\"Open In Colab\"/></a>"
      ]
    },
    {
      "cell_type": "markdown",
      "metadata": {
        "id": "36RQTNuvGNfH",
        "colab_type": "text"
      },
      "source": [
        "## Load libaries, gdrive\n"
      ]
    },
    {
      "cell_type": "code",
      "metadata": {
        "id": "Gsbzffw0AHLc",
        "colab_type": "code",
        "outputId": "5f277b8b-4b04-4be2-b92e-120513608299",
        "colab": {
          "base_uri": "https://localhost:8080/",
          "height": 170
        }
      },
      "source": [
        "# Clone the entire repo.\n",
        "!git clone -l -s https://github.com/jems2019/custom_anytrading.git cloned-repo\n",
        "%cd cloned-repo\n",
        "!ls"
      ],
      "execution_count": 0,
      "outputs": [
        {
          "output_type": "stream",
          "text": [
            "Cloning into 'cloned-repo'...\n",
            "warning: --local is ignored\n",
            "remote: Enumerating objects: 49, done.\u001b[K\n",
            "remote: Counting objects:   2% (1/49)\u001b[K\rremote: Counting objects:   4% (2/49)\u001b[K\rremote: Counting objects:   6% (3/49)\u001b[K\rremote: Counting objects:   8% (4/49)\u001b[K\rremote: Counting objects:  10% (5/49)\u001b[K\rremote: Counting objects:  12% (6/49)\u001b[K\rremote: Counting objects:  14% (7/49)\u001b[K\rremote: Counting objects:  16% (8/49)\u001b[K\rremote: Counting objects:  18% (9/49)\u001b[K\rremote: Counting objects:  20% (10/49)\u001b[K\rremote: Counting objects:  22% (11/49)\u001b[K\rremote: Counting objects:  24% (12/49)\u001b[K\rremote: Counting objects:  26% (13/49)\u001b[K\rremote: Counting objects:  28% (14/49)\u001b[K\rremote: Counting objects:  30% (15/49)\u001b[K\rremote: Counting objects:  32% (16/49)\u001b[K\rremote: Counting objects:  34% (17/49)\u001b[K\rremote: Counting objects:  36% (18/49)\u001b[K\rremote: Counting objects:  38% (19/49)\u001b[K\rremote: Counting objects:  40% (20/49)\u001b[K\rremote: Counting objects:  42% (21/49)\u001b[K\rremote: Counting objects:  44% (22/49)\u001b[K\rremote: Counting objects:  46% (23/49)\u001b[K\rremote: Counting objects:  48% (24/49)\u001b[K\rremote: Counting objects:  51% (25/49)\u001b[K\rremote: Counting objects:  53% (26/49)\u001b[K\rremote: Counting objects:  55% (27/49)\u001b[K\rremote: Counting objects:  57% (28/49)\u001b[K\rremote: Counting objects:  59% (29/49)\u001b[K\rremote: Counting objects:  61% (30/49)\u001b[K\rremote: Counting objects:  63% (31/49)\u001b[K\rremote: Counting objects:  65% (32/49)\u001b[K\rremote: Counting objects:  67% (33/49)\u001b[K\rremote: Counting objects:  69% (34/49)\u001b[K\rremote: Counting objects:  71% (35/49)\u001b[K\rremote: Counting objects:  73% (36/49)\u001b[K\rremote: Counting objects:  75% (37/49)\u001b[K\rremote: Counting objects:  77% (38/49)\u001b[K\rremote: Counting objects:  79% (39/49)\u001b[K\rremote: Counting objects:  81% (40/49)\u001b[K\rremote: Counting objects:  83% (41/49)\u001b[K\rremote: Counting objects:  85% (42/49)\u001b[K\rremote: Counting objects:  87% (43/49)\u001b[K\rremote: Counting objects:  89% (44/49)\u001b[K\rremote: Counting objects:  91% (45/49)\u001b[K\rremote: Counting objects:  93% (46/49)\u001b[K\rremote: Counting objects:  95% (47/49)\u001b[K\rremote: Counting objects:  97% (48/49)\u001b[K\rremote: Counting objects: 100% (49/49)\u001b[K\rremote: Counting objects: 100% (49/49), done.\u001b[K\n",
            "remote: Compressing objects:   2% (1/34)\u001b[K\rremote: Compressing objects:   5% (2/34)\u001b[K\rremote: Compressing objects:   8% (3/34)\u001b[K\rremote: Compressing objects:  11% (4/34)\u001b[K\rremote: Compressing objects:  14% (5/34)\u001b[K\rremote: Compressing objects:  17% (6/34)\u001b[K\rremote: Compressing objects:  20% (7/34)\u001b[K\rremote: Compressing objects:  23% (8/34)\u001b[K\rremote: Compressing objects:  26% (9/34)\u001b[K\rremote: Compressing objects:  29% (10/34)\u001b[K\rremote: Compressing objects:  32% (11/34)\u001b[K\rremote: Compressing objects:  35% (12/34)\u001b[K\rremote: Compressing objects:  38% (13/34)\u001b[K\rremote: Compressing objects:  41% (14/34)\u001b[K\rremote: Compressing objects:  44% (15/34)\u001b[K\rremote: Compressing objects:  47% (16/34)\u001b[K\rremote: Compressing objects:  50% (17/34)\u001b[K\rremote: Compressing objects:  52% (18/34)\u001b[K\rremote: Compressing objects:  55% (19/34)\u001b[K\rremote: Compressing objects:  58% (20/34)\u001b[K\rremote: Compressing objects:  61% (21/34)\u001b[K\rremote: Compressing objects:  64% (22/34)\u001b[K\rremote: Compressing objects:  67% (23/34)\u001b[K\rremote: Compressing objects:  70% (24/34)\u001b[K\rremote: Compressing objects:  73% (25/34)\u001b[K\rremote: Compressing objects:  76% (26/34)\u001b[K\rremote: Compressing objects:  79% (27/34)\u001b[K\rremote: Compressing objects:  82% (28/34)\u001b[K\rremote: Compressing objects:  85% (29/34)\u001b[K\rremote: Compressing objects:  88% (30/34)\u001b[K\rremote: Compressing objects:  91% (31/34)\u001b[K\rremote: Compressing objects:  94% (32/34)\u001b[K\rremote: Compressing objects:  97% (33/34)\u001b[K\rremote: Compressing objects: 100% (34/34)\u001b[K\rremote: Compressing objects: 100% (34/34), done.\u001b[K\n",
            "remote: Total 49 (delta 20), reused 36 (delta 15), pack-reused 0\u001b[K\n",
            "Unpacking objects: 100% (49/49), done.\n",
            "/content/cloned-repo\n",
            "custom_anytrading  test.py\n"
          ],
          "name": "stdout"
        }
      ]
    },
    {
      "cell_type": "code",
      "metadata": {
        "id": "9Dm1mGfTgILG",
        "colab_type": "code",
        "outputId": "34d70fba-d90b-45cf-8ef8-df8bdd76dbcd",
        "colab": {
          "base_uri": "https://localhost:8080/",
          "height": 650
        }
      },
      "source": [
        "# Stable Baselines only supports tensorflow 1.x for now\n",
        "%tensorflow_version 1.x\n",
        "!pip install --upgrade gym==0.14\n",
        "!pip uninstall -y stable-baselines\n",
        "!pip install --upgrade stable-baselines==2.9"
      ],
      "execution_count": 0,
      "outputs": [
        {
          "output_type": "stream",
          "text": [
            "Requirement already up-to-date: gym==0.14 in /usr/local/lib/python3.6/dist-packages (0.14.0)\n",
            "Requirement already satisfied, skipping upgrade: six in /usr/local/lib/python3.6/dist-packages (from gym==0.14) (1.12.0)\n",
            "Requirement already satisfied, skipping upgrade: numpy>=1.10.4 in /usr/local/lib/python3.6/dist-packages (from gym==0.14) (1.18.2)\n",
            "Requirement already satisfied, skipping upgrade: cloudpickle~=1.2.0 in /usr/local/lib/python3.6/dist-packages (from gym==0.14) (1.2.2)\n",
            "Requirement already satisfied, skipping upgrade: scipy in /usr/local/lib/python3.6/dist-packages (from gym==0.14) (1.4.1)\n",
            "Requirement already satisfied, skipping upgrade: pyglet<=1.3.2,>=1.2.0 in /usr/local/lib/python3.6/dist-packages (from gym==0.14) (1.3.2)\n",
            "Requirement already satisfied, skipping upgrade: future in /usr/local/lib/python3.6/dist-packages (from pyglet<=1.3.2,>=1.2.0->gym==0.14) (0.16.0)\n",
            "Uninstalling stable-baselines-2.9.0:\n",
            "  Successfully uninstalled stable-baselines-2.9.0\n",
            "Collecting stable-baselines==2.9\n",
            "  Using cached https://files.pythonhosted.org/packages/c0/05/f6651855083020c0363acf483450c23e38d96f5c18bec8bded113d528da5/stable_baselines-2.9.0-py3-none-any.whl\n",
            "Requirement already satisfied, skipping upgrade: pandas in /usr/local/lib/python3.6/dist-packages (from stable-baselines==2.9) (1.0.3)\n",
            "Requirement already satisfied, skipping upgrade: matplotlib in /usr/local/lib/python3.6/dist-packages (from stable-baselines==2.9) (3.2.1)\n",
            "Requirement already satisfied, skipping upgrade: gym[atari,classic_control]>=0.10.9 in /usr/local/lib/python3.6/dist-packages (from stable-baselines==2.9) (0.14.0)\n",
            "Requirement already satisfied, skipping upgrade: scipy in /usr/local/lib/python3.6/dist-packages (from stable-baselines==2.9) (1.4.1)\n",
            "Requirement already satisfied, skipping upgrade: joblib in /usr/local/lib/python3.6/dist-packages (from stable-baselines==2.9) (0.14.1)\n",
            "Requirement already satisfied, skipping upgrade: cloudpickle>=0.5.5 in /usr/local/lib/python3.6/dist-packages (from stable-baselines==2.9) (1.2.2)\n",
            "Requirement already satisfied, skipping upgrade: numpy in /usr/local/lib/python3.6/dist-packages (from stable-baselines==2.9) (1.18.2)\n",
            "Requirement already satisfied, skipping upgrade: opencv-python in /usr/local/lib/python3.6/dist-packages (from stable-baselines==2.9) (4.1.2.30)\n",
            "Requirement already satisfied, skipping upgrade: pytz>=2017.2 in /usr/local/lib/python3.6/dist-packages (from pandas->stable-baselines==2.9) (2018.9)\n",
            "Requirement already satisfied, skipping upgrade: python-dateutil>=2.6.1 in /usr/local/lib/python3.6/dist-packages (from pandas->stable-baselines==2.9) (2.8.1)\n",
            "Requirement already satisfied, skipping upgrade: pyparsing!=2.0.4,!=2.1.2,!=2.1.6,>=2.0.1 in /usr/local/lib/python3.6/dist-packages (from matplotlib->stable-baselines==2.9) (2.4.7)\n",
            "Requirement already satisfied, skipping upgrade: cycler>=0.10 in /usr/local/lib/python3.6/dist-packages (from matplotlib->stable-baselines==2.9) (0.10.0)\n",
            "Requirement already satisfied, skipping upgrade: kiwisolver>=1.0.1 in /usr/local/lib/python3.6/dist-packages (from matplotlib->stable-baselines==2.9) (1.2.0)\n",
            "Requirement already satisfied, skipping upgrade: pyglet<=1.3.2,>=1.2.0 in /usr/local/lib/python3.6/dist-packages (from gym[atari,classic_control]>=0.10.9->stable-baselines==2.9) (1.3.2)\n",
            "Requirement already satisfied, skipping upgrade: six in /usr/local/lib/python3.6/dist-packages (from gym[atari,classic_control]>=0.10.9->stable-baselines==2.9) (1.12.0)\n",
            "Requirement already satisfied, skipping upgrade: atari-py~=0.2.0; extra == \"atari\" in /usr/local/lib/python3.6/dist-packages (from gym[atari,classic_control]>=0.10.9->stable-baselines==2.9) (0.2.6)\n",
            "Requirement already satisfied, skipping upgrade: Pillow; extra == \"atari\" in /usr/local/lib/python3.6/dist-packages (from gym[atari,classic_control]>=0.10.9->stable-baselines==2.9) (7.0.0)\n",
            "Requirement already satisfied, skipping upgrade: future in /usr/local/lib/python3.6/dist-packages (from pyglet<=1.3.2,>=1.2.0->gym[atari,classic_control]>=0.10.9->stable-baselines==2.9) (0.16.0)\n",
            "Installing collected packages: stable-baselines\n",
            "Successfully installed stable-baselines-2.9.0\n"
          ],
          "name": "stdout"
        },
        {
          "output_type": "display_data",
          "data": {
            "application/vnd.colab-display-data+json": {
              "pip_warning": {
                "packages": [
                  "stable_baselines"
                ]
              }
            }
          },
          "metadata": {
            "tags": []
          }
        }
      ]
    },
    {
      "cell_type": "code",
      "metadata": {
        "id": "jqmlFb3pAV0u",
        "colab_type": "code",
        "outputId": "8f8bf28d-9c92-43cf-bdd8-75316e6e8319",
        "colab": {
          "base_uri": "https://localhost:8080/",
          "height": 34
        }
      },
      "source": [
        "import json\n",
        "import datetime as dt\n",
        "import random \n",
        "import time\n",
        "from datetime import datetime\n",
        "\n",
        "import matplotlib.pyplot as plt\n",
        "\n",
        "import numpy as np\n",
        "import pandas as pd\n",
        "\n",
        "from pandas_datareader.data import DataReader\n",
        "\n",
        "import gym\n",
        "import custom_anytrading\n",
        "\n",
        "import stable_baselines\n",
        "print(stable_baselines.__version__)\n",
        "\n",
        "from stable_baselines.common.policies import MlpPolicy\n",
        "from stable_baselines.common.policies import MlpLnLstmPolicy\n",
        "from stable_baselines.common.policies import CnnLnLstmPolicy\n",
        "\n",
        "#for faster training\n",
        "from stable_baselines.common import make_vec_env\n",
        "#from stable_baselines.common.vec_env import DummyVecEnv, VecNormalize\n",
        "\n",
        "from stable_baselines import PPO2\n",
        "\n",
        "from sklearn.preprocessing import MinMaxScaler"
      ],
      "execution_count": 0,
      "outputs": [
        {
          "output_type": "stream",
          "text": [
            "2.9.0\n"
          ],
          "name": "stdout"
        }
      ]
    },
    {
      "cell_type": "code",
      "metadata": {
        "id": "LCGRippWI8ap",
        "colab_type": "code",
        "outputId": "049736ed-d02b-4fba-9839-5756bc5b4ab7",
        "colab": {
          "base_uri": "https://localhost:8080/",
          "height": 34
        }
      },
      "source": [
        "import pandas_datareader\n",
        "print(pandas_datareader.__version__)"
      ],
      "execution_count": 0,
      "outputs": [
        {
          "output_type": "stream",
          "text": [
            "0.8.1\n"
          ],
          "name": "stdout"
        }
      ]
    },
    {
      "cell_type": "code",
      "metadata": {
        "id": "4G8HyIQ3En5w",
        "colab_type": "code",
        "outputId": "27f16706-6be1-4ade-fe9a-aa3292e92b62",
        "colab": {
          "base_uri": "https://localhost:8080/",
          "height": 34
        }
      },
      "source": [
        "print(pd.__version__)"
      ],
      "execution_count": 0,
      "outputs": [
        {
          "output_type": "stream",
          "text": [
            "1.0.3\n"
          ],
          "name": "stdout"
        }
      ]
    },
    {
      "cell_type": "code",
      "metadata": {
        "id": "T9vVe9vAbDg5",
        "colab_type": "code",
        "outputId": "864a8807-8aca-492e-b4e6-b89be4293557",
        "colab": {
          "base_uri": "https://localhost:8080/",
          "height": 34
        }
      },
      "source": [
        "from google.colab import drive\n",
        "drive.mount('/gdrive')"
      ],
      "execution_count": 0,
      "outputs": [
        {
          "output_type": "stream",
          "text": [
            "Mounted at /gdrive\n"
          ],
          "name": "stdout"
        }
      ]
    },
    {
      "cell_type": "markdown",
      "metadata": {
        "id": "fcSWA-qLGI-S",
        "colab_type": "text"
      },
      "source": [
        "## Load sentiment data"
      ]
    },
    {
      "cell_type": "code",
      "metadata": {
        "id": "7eWG_XpzKboV",
        "colab_type": "code",
        "colab": {}
      },
      "source": [
        "col_order = ['Open', 'High', 'Low', 'Close', 'Volume', 'Adj Close', 'sentiment_score']"
      ],
      "execution_count": 0,
      "outputs": []
    },
    {
      "cell_type": "code",
      "metadata": {
        "id": "QXrIF73XbJ3n",
        "colab_type": "code",
        "outputId": "c9e785df-f261-4661-9273-45c1142a9941",
        "colab": {
          "base_uri": "https://localhost:8080/",
          "height": 237
        }
      },
      "source": [
        "aapl = pd.read_csv('/gdrive/My Drive/Masters project/data/data_with_sent/sent_appl.csv')\n",
        "\n",
        "#fix indexing, nans\n",
        "aapl.drop(columns=['Unnamed: 0'], inplace=True)\n",
        "aapl.set_index('Date', inplace=True)\n",
        "aapl.fillna(0, inplace=True)\n",
        "#aapl = aapl[col_order]\n",
        "aapl.tail()"
      ],
      "execution_count": 0,
      "outputs": [
        {
          "output_type": "execute_result",
          "data": {
            "text/html": [
              "<div>\n",
              "<style scoped>\n",
              "    .dataframe tbody tr th:only-of-type {\n",
              "        vertical-align: middle;\n",
              "    }\n",
              "\n",
              "    .dataframe tbody tr th {\n",
              "        vertical-align: top;\n",
              "    }\n",
              "\n",
              "    .dataframe thead th {\n",
              "        text-align: right;\n",
              "    }\n",
              "</style>\n",
              "<table border=\"1\" class=\"dataframe\">\n",
              "  <thead>\n",
              "    <tr style=\"text-align: right;\">\n",
              "      <th></th>\n",
              "      <th>Open</th>\n",
              "      <th>High</th>\n",
              "      <th>Low</th>\n",
              "      <th>Close</th>\n",
              "      <th>Adj Close</th>\n",
              "      <th>Volume</th>\n",
              "      <th>sentiment_score</th>\n",
              "    </tr>\n",
              "    <tr>\n",
              "      <th>Date</th>\n",
              "      <th></th>\n",
              "      <th></th>\n",
              "      <th></th>\n",
              "      <th></th>\n",
              "      <th></th>\n",
              "      <th></th>\n",
              "      <th></th>\n",
              "    </tr>\n",
              "  </thead>\n",
              "  <tbody>\n",
              "    <tr>\n",
              "      <th>2019-02-27</th>\n",
              "      <td>173.210007</td>\n",
              "      <td>175.000000</td>\n",
              "      <td>172.729996</td>\n",
              "      <td>174.869995</td>\n",
              "      <td>173.539795</td>\n",
              "      <td>27835400.0</td>\n",
              "      <td>-0.049580</td>\n",
              "    </tr>\n",
              "    <tr>\n",
              "      <th>2019-02-28</th>\n",
              "      <td>174.320007</td>\n",
              "      <td>174.910004</td>\n",
              "      <td>172.919998</td>\n",
              "      <td>173.149994</td>\n",
              "      <td>171.832886</td>\n",
              "      <td>28215400.0</td>\n",
              "      <td>-0.016533</td>\n",
              "    </tr>\n",
              "    <tr>\n",
              "      <th>2019-03-01</th>\n",
              "      <td>174.279999</td>\n",
              "      <td>175.149994</td>\n",
              "      <td>172.889999</td>\n",
              "      <td>174.970001</td>\n",
              "      <td>173.639038</td>\n",
              "      <td>25886200.0</td>\n",
              "      <td>0.072413</td>\n",
              "    </tr>\n",
              "    <tr>\n",
              "      <th>2019-03-04</th>\n",
              "      <td>175.690002</td>\n",
              "      <td>177.750000</td>\n",
              "      <td>173.970001</td>\n",
              "      <td>175.850006</td>\n",
              "      <td>174.512360</td>\n",
              "      <td>27436200.0</td>\n",
              "      <td>0.143187</td>\n",
              "    </tr>\n",
              "    <tr>\n",
              "      <th>2019-03-05</th>\n",
              "      <td>175.940002</td>\n",
              "      <td>176.000000</td>\n",
              "      <td>174.539993</td>\n",
              "      <td>175.529999</td>\n",
              "      <td>174.194778</td>\n",
              "      <td>19737400.0</td>\n",
              "      <td>0.064133</td>\n",
              "    </tr>\n",
              "  </tbody>\n",
              "</table>\n",
              "</div>"
            ],
            "text/plain": [
              "                  Open        High  ...      Volume  sentiment_score\n",
              "Date                                ...                             \n",
              "2019-02-27  173.210007  175.000000  ...  27835400.0        -0.049580\n",
              "2019-02-28  174.320007  174.910004  ...  28215400.0        -0.016533\n",
              "2019-03-01  174.279999  175.149994  ...  25886200.0         0.072413\n",
              "2019-03-04  175.690002  177.750000  ...  27436200.0         0.143187\n",
              "2019-03-05  175.940002  176.000000  ...  19737400.0         0.064133\n",
              "\n",
              "[5 rows x 7 columns]"
            ]
          },
          "metadata": {
            "tags": []
          },
          "execution_count": 32
        }
      ]
    },
    {
      "cell_type": "code",
      "metadata": {
        "id": "S65MuX4GWVeb",
        "colab_type": "code",
        "outputId": "0cedd56c-76d8-42ee-c09a-eed76029eba6",
        "colab": {
          "base_uri": "https://localhost:8080/",
          "height": 455
        }
      },
      "source": [
        "fb = pd.read_csv('/gdrive/My Drive/Masters project/data/data_with_sent/sent_fb.csv')\n",
        "\n",
        "#fix indexing\n",
        "fb.drop(columns=['Unnamed: 0'], inplace=True)\n",
        "fb.set_index('Date', inplace=True)\n",
        "fb.fillna(0, inplace=True)\n",
        "fb"
      ],
      "execution_count": 0,
      "outputs": [
        {
          "output_type": "execute_result",
          "data": {
            "text/html": [
              "<div>\n",
              "<style scoped>\n",
              "    .dataframe tbody tr th:only-of-type {\n",
              "        vertical-align: middle;\n",
              "    }\n",
              "\n",
              "    .dataframe tbody tr th {\n",
              "        vertical-align: top;\n",
              "    }\n",
              "\n",
              "    .dataframe thead th {\n",
              "        text-align: right;\n",
              "    }\n",
              "</style>\n",
              "<table border=\"1\" class=\"dataframe\">\n",
              "  <thead>\n",
              "    <tr style=\"text-align: right;\">\n",
              "      <th></th>\n",
              "      <th>Open</th>\n",
              "      <th>High</th>\n",
              "      <th>Low</th>\n",
              "      <th>Close</th>\n",
              "      <th>Adj Close</th>\n",
              "      <th>Volume</th>\n",
              "      <th>Sentiment Score</th>\n",
              "    </tr>\n",
              "    <tr>\n",
              "      <th>Date</th>\n",
              "      <th></th>\n",
              "      <th></th>\n",
              "      <th></th>\n",
              "      <th></th>\n",
              "      <th></th>\n",
              "      <th></th>\n",
              "      <th></th>\n",
              "    </tr>\n",
              "  </thead>\n",
              "  <tbody>\n",
              "    <tr>\n",
              "      <th>2012-05-18</th>\n",
              "      <td>42.049999</td>\n",
              "      <td>45.000000</td>\n",
              "      <td>38.000000</td>\n",
              "      <td>38.230000</td>\n",
              "      <td>38.230000</td>\n",
              "      <td>573576400</td>\n",
              "      <td>0.011953</td>\n",
              "    </tr>\n",
              "    <tr>\n",
              "      <th>2012-05-21</th>\n",
              "      <td>36.529999</td>\n",
              "      <td>36.660000</td>\n",
              "      <td>33.000000</td>\n",
              "      <td>34.029999</td>\n",
              "      <td>34.029999</td>\n",
              "      <td>168192700</td>\n",
              "      <td>0.184933</td>\n",
              "    </tr>\n",
              "    <tr>\n",
              "      <th>2012-05-22</th>\n",
              "      <td>32.610001</td>\n",
              "      <td>33.590000</td>\n",
              "      <td>30.940001</td>\n",
              "      <td>31.000000</td>\n",
              "      <td>31.000000</td>\n",
              "      <td>101786600</td>\n",
              "      <td>-0.059887</td>\n",
              "    </tr>\n",
              "    <tr>\n",
              "      <th>2012-05-23</th>\n",
              "      <td>31.370001</td>\n",
              "      <td>32.500000</td>\n",
              "      <td>31.360001</td>\n",
              "      <td>32.000000</td>\n",
              "      <td>32.000000</td>\n",
              "      <td>73600000</td>\n",
              "      <td>0.131733</td>\n",
              "    </tr>\n",
              "    <tr>\n",
              "      <th>2012-05-24</th>\n",
              "      <td>32.950001</td>\n",
              "      <td>33.209999</td>\n",
              "      <td>31.770000</td>\n",
              "      <td>33.029999</td>\n",
              "      <td>33.029999</td>\n",
              "      <td>50237200</td>\n",
              "      <td>0.063067</td>\n",
              "    </tr>\n",
              "    <tr>\n",
              "      <th>...</th>\n",
              "      <td>...</td>\n",
              "      <td>...</td>\n",
              "      <td>...</td>\n",
              "      <td>...</td>\n",
              "      <td>...</td>\n",
              "      <td>...</td>\n",
              "      <td>...</td>\n",
              "    </tr>\n",
              "    <tr>\n",
              "      <th>2019-12-20</th>\n",
              "      <td>207.479996</td>\n",
              "      <td>207.710007</td>\n",
              "      <td>203.429993</td>\n",
              "      <td>206.300003</td>\n",
              "      <td>206.300003</td>\n",
              "      <td>27306900</td>\n",
              "      <td>0.067080</td>\n",
              "    </tr>\n",
              "    <tr>\n",
              "      <th>2019-12-23</th>\n",
              "      <td>206.699997</td>\n",
              "      <td>208.589996</td>\n",
              "      <td>205.679993</td>\n",
              "      <td>206.179993</td>\n",
              "      <td>206.179993</td>\n",
              "      <td>13348900</td>\n",
              "      <td>0.035373</td>\n",
              "    </tr>\n",
              "    <tr>\n",
              "      <th>2019-12-24</th>\n",
              "      <td>206.300003</td>\n",
              "      <td>206.789993</td>\n",
              "      <td>205.000000</td>\n",
              "      <td>205.119995</td>\n",
              "      <td>205.119995</td>\n",
              "      <td>6046300</td>\n",
              "      <td>0.053587</td>\n",
              "    </tr>\n",
              "    <tr>\n",
              "      <th>2019-12-26</th>\n",
              "      <td>205.570007</td>\n",
              "      <td>207.820007</td>\n",
              "      <td>205.309998</td>\n",
              "      <td>207.789993</td>\n",
              "      <td>207.789993</td>\n",
              "      <td>9350700</td>\n",
              "      <td>0.107187</td>\n",
              "    </tr>\n",
              "    <tr>\n",
              "      <th>2019-12-27</th>\n",
              "      <td>208.669998</td>\n",
              "      <td>208.929993</td>\n",
              "      <td>206.589996</td>\n",
              "      <td>208.100006</td>\n",
              "      <td>208.100006</td>\n",
              "      <td>10284200</td>\n",
              "      <td>-0.004593</td>\n",
              "    </tr>\n",
              "  </tbody>\n",
              "</table>\n",
              "<p>1915 rows × 7 columns</p>\n",
              "</div>"
            ],
            "text/plain": [
              "                  Open        High  ...     Volume  Sentiment Score\n",
              "Date                                ...                            \n",
              "2012-05-18   42.049999   45.000000  ...  573576400         0.011953\n",
              "2012-05-21   36.529999   36.660000  ...  168192700         0.184933\n",
              "2012-05-22   32.610001   33.590000  ...  101786600        -0.059887\n",
              "2012-05-23   31.370001   32.500000  ...   73600000         0.131733\n",
              "2012-05-24   32.950001   33.209999  ...   50237200         0.063067\n",
              "...                ...         ...  ...        ...              ...\n",
              "2019-12-20  207.479996  207.710007  ...   27306900         0.067080\n",
              "2019-12-23  206.699997  208.589996  ...   13348900         0.035373\n",
              "2019-12-24  206.300003  206.789993  ...    6046300         0.053587\n",
              "2019-12-26  205.570007  207.820007  ...    9350700         0.107187\n",
              "2019-12-27  208.669998  208.929993  ...   10284200        -0.004593\n",
              "\n",
              "[1915 rows x 7 columns]"
            ]
          },
          "metadata": {
            "tags": []
          },
          "execution_count": 6
        }
      ]
    },
    {
      "cell_type": "code",
      "metadata": {
        "id": "lJrf0W7izUx_",
        "colab_type": "code",
        "outputId": "4501ec13-7ec7-43d7-893b-379e1fe912c4",
        "colab": {
          "base_uri": "https://localhost:8080/",
          "height": 455
        }
      },
      "source": [
        "amzn = pd.read_csv('/gdrive/My Drive/Masters project/data/data_with_sent/sent_amaz.csv')\n",
        "\n",
        "#fix indexing\n",
        "amzn.drop(columns=['Unnamed: 0'], inplace=True)\n",
        "amzn.set_index('Date', inplace=True)\n",
        "amzn.fillna(0, inplace=True)\n",
        "amzn"
      ],
      "execution_count": 0,
      "outputs": [
        {
          "output_type": "execute_result",
          "data": {
            "text/html": [
              "<div>\n",
              "<style scoped>\n",
              "    .dataframe tbody tr th:only-of-type {\n",
              "        vertical-align: middle;\n",
              "    }\n",
              "\n",
              "    .dataframe tbody tr th {\n",
              "        vertical-align: top;\n",
              "    }\n",
              "\n",
              "    .dataframe thead th {\n",
              "        text-align: right;\n",
              "    }\n",
              "</style>\n",
              "<table border=\"1\" class=\"dataframe\">\n",
              "  <thead>\n",
              "    <tr style=\"text-align: right;\">\n",
              "      <th></th>\n",
              "      <th>Open</th>\n",
              "      <th>High</th>\n",
              "      <th>Low</th>\n",
              "      <th>Close</th>\n",
              "      <th>Adj Close</th>\n",
              "      <th>Volume</th>\n",
              "      <th>Sentiment Score</th>\n",
              "    </tr>\n",
              "    <tr>\n",
              "      <th>Date</th>\n",
              "      <th></th>\n",
              "      <th></th>\n",
              "      <th></th>\n",
              "      <th></th>\n",
              "      <th></th>\n",
              "      <th></th>\n",
              "      <th></th>\n",
              "    </tr>\n",
              "  </thead>\n",
              "  <tbody>\n",
              "    <tr>\n",
              "      <th>2000-01-03</th>\n",
              "      <td>81.500000</td>\n",
              "      <td>89.562500</td>\n",
              "      <td>79.046875</td>\n",
              "      <td>89.375000</td>\n",
              "      <td>89.375000</td>\n",
              "      <td>16117600</td>\n",
              "      <td>0.010847</td>\n",
              "    </tr>\n",
              "    <tr>\n",
              "      <th>2000-01-04</th>\n",
              "      <td>85.375000</td>\n",
              "      <td>91.500000</td>\n",
              "      <td>81.750000</td>\n",
              "      <td>81.937500</td>\n",
              "      <td>81.937500</td>\n",
              "      <td>17487400</td>\n",
              "      <td>-0.019460</td>\n",
              "    </tr>\n",
              "    <tr>\n",
              "      <th>2000-01-05</th>\n",
              "      <td>70.500000</td>\n",
              "      <td>75.125000</td>\n",
              "      <td>68.000000</td>\n",
              "      <td>69.750000</td>\n",
              "      <td>69.750000</td>\n",
              "      <td>38457400</td>\n",
              "      <td>0.070560</td>\n",
              "    </tr>\n",
              "    <tr>\n",
              "      <th>2000-01-06</th>\n",
              "      <td>71.312500</td>\n",
              "      <td>72.687500</td>\n",
              "      <td>64.000000</td>\n",
              "      <td>65.562500</td>\n",
              "      <td>65.562500</td>\n",
              "      <td>18752000</td>\n",
              "      <td>0.062627</td>\n",
              "    </tr>\n",
              "    <tr>\n",
              "      <th>2000-01-07</th>\n",
              "      <td>67.000000</td>\n",
              "      <td>70.500000</td>\n",
              "      <td>66.187500</td>\n",
              "      <td>69.562500</td>\n",
              "      <td>69.562500</td>\n",
              "      <td>10505400</td>\n",
              "      <td>0.014447</td>\n",
              "    </tr>\n",
              "    <tr>\n",
              "      <th>...</th>\n",
              "      <td>...</td>\n",
              "      <td>...</td>\n",
              "      <td>...</td>\n",
              "      <td>...</td>\n",
              "      <td>...</td>\n",
              "      <td>...</td>\n",
              "      <td>...</td>\n",
              "    </tr>\n",
              "    <tr>\n",
              "      <th>2019-11-22</th>\n",
              "      <td>1739.020020</td>\n",
              "      <td>1746.430054</td>\n",
              "      <td>1731.000000</td>\n",
              "      <td>1745.719971</td>\n",
              "      <td>1745.719971</td>\n",
              "      <td>2479100</td>\n",
              "      <td>0.078200</td>\n",
              "    </tr>\n",
              "    <tr>\n",
              "      <th>2019-11-25</th>\n",
              "      <td>1753.250000</td>\n",
              "      <td>1777.420044</td>\n",
              "      <td>1753.239990</td>\n",
              "      <td>1773.839966</td>\n",
              "      <td>1773.839966</td>\n",
              "      <td>3486200</td>\n",
              "      <td>0.161833</td>\n",
              "    </tr>\n",
              "    <tr>\n",
              "      <th>2019-11-26</th>\n",
              "      <td>1779.920044</td>\n",
              "      <td>1797.030029</td>\n",
              "      <td>1778.349976</td>\n",
              "      <td>1796.939941</td>\n",
              "      <td>1796.939941</td>\n",
              "      <td>3181200</td>\n",
              "      <td>0.126760</td>\n",
              "    </tr>\n",
              "    <tr>\n",
              "      <th>2019-11-27</th>\n",
              "      <td>1801.000000</td>\n",
              "      <td>1824.500000</td>\n",
              "      <td>1797.310059</td>\n",
              "      <td>1818.510010</td>\n",
              "      <td>1818.510010</td>\n",
              "      <td>3025600</td>\n",
              "      <td>0.085653</td>\n",
              "    </tr>\n",
              "    <tr>\n",
              "      <th>2019-11-29</th>\n",
              "      <td>1817.780029</td>\n",
              "      <td>1824.689941</td>\n",
              "      <td>1800.790039</td>\n",
              "      <td>1800.800049</td>\n",
              "      <td>1800.800049</td>\n",
              "      <td>1923400</td>\n",
              "      <td>0.000000</td>\n",
              "    </tr>\n",
              "  </tbody>\n",
              "</table>\n",
              "<p>5010 rows × 7 columns</p>\n",
              "</div>"
            ],
            "text/plain": [
              "                   Open         High  ...    Volume  Sentiment Score\n",
              "Date                                  ...                           \n",
              "2000-01-03    81.500000    89.562500  ...  16117600         0.010847\n",
              "2000-01-04    85.375000    91.500000  ...  17487400        -0.019460\n",
              "2000-01-05    70.500000    75.125000  ...  38457400         0.070560\n",
              "2000-01-06    71.312500    72.687500  ...  18752000         0.062627\n",
              "2000-01-07    67.000000    70.500000  ...  10505400         0.014447\n",
              "...                 ...          ...  ...       ...              ...\n",
              "2019-11-22  1739.020020  1746.430054  ...   2479100         0.078200\n",
              "2019-11-25  1753.250000  1777.420044  ...   3486200         0.161833\n",
              "2019-11-26  1779.920044  1797.030029  ...   3181200         0.126760\n",
              "2019-11-27  1801.000000  1824.500000  ...   3025600         0.085653\n",
              "2019-11-29  1817.780029  1824.689941  ...   1923400         0.000000\n",
              "\n",
              "[5010 rows x 7 columns]"
            ]
          },
          "metadata": {
            "tags": []
          },
          "execution_count": 7
        }
      ]
    },
    {
      "cell_type": "code",
      "metadata": {
        "id": "3MwohSCuSdRN",
        "colab_type": "code",
        "outputId": "2056968d-8858-48f5-eb4e-a997be30b3f6",
        "colab": {
          "base_uri": "https://localhost:8080/",
          "height": 455
        }
      },
      "source": [
        "goog = pd.read_csv('/gdrive/My Drive/Masters project/data/data_with_sent/sent_goog.csv')\n",
        "\n",
        "#fix indexing\n",
        "goog.drop(columns=['Unnamed: 0'], inplace=True)\n",
        "goog.set_index('Date', inplace=True)\n",
        "goog.fillna(0, inplace=True)\n",
        "goog"
      ],
      "execution_count": 0,
      "outputs": [
        {
          "output_type": "execute_result",
          "data": {
            "text/html": [
              "<div>\n",
              "<style scoped>\n",
              "    .dataframe tbody tr th:only-of-type {\n",
              "        vertical-align: middle;\n",
              "    }\n",
              "\n",
              "    .dataframe tbody tr th {\n",
              "        vertical-align: top;\n",
              "    }\n",
              "\n",
              "    .dataframe thead th {\n",
              "        text-align: right;\n",
              "    }\n",
              "</style>\n",
              "<table border=\"1\" class=\"dataframe\">\n",
              "  <thead>\n",
              "    <tr style=\"text-align: right;\">\n",
              "      <th></th>\n",
              "      <th>Open</th>\n",
              "      <th>High</th>\n",
              "      <th>Low</th>\n",
              "      <th>Close</th>\n",
              "      <th>Adj Close</th>\n",
              "      <th>Volume</th>\n",
              "      <th>Sentiment Score</th>\n",
              "    </tr>\n",
              "    <tr>\n",
              "      <th>Date</th>\n",
              "      <th></th>\n",
              "      <th></th>\n",
              "      <th></th>\n",
              "      <th></th>\n",
              "      <th></th>\n",
              "      <th></th>\n",
              "      <th></th>\n",
              "    </tr>\n",
              "  </thead>\n",
              "  <tbody>\n",
              "    <tr>\n",
              "      <th>2006-09-11</th>\n",
              "      <td>188.423737</td>\n",
              "      <td>191.626740</td>\n",
              "      <td>188.179657</td>\n",
              "      <td>191.327850</td>\n",
              "      <td>191.327850</td>\n",
              "      <td>9092200</td>\n",
              "      <td>0.296000</td>\n",
              "    </tr>\n",
              "    <tr>\n",
              "      <th>2006-09-12</th>\n",
              "      <td>191.781158</td>\n",
              "      <td>195.631729</td>\n",
              "      <td>191.721375</td>\n",
              "      <td>195.218277</td>\n",
              "      <td>195.218277</td>\n",
              "      <td>10925100</td>\n",
              "      <td>0.000000</td>\n",
              "    </tr>\n",
              "    <tr>\n",
              "      <th>2006-09-13</th>\n",
              "      <td>196.837204</td>\n",
              "      <td>202.620529</td>\n",
              "      <td>196.812302</td>\n",
              "      <td>202.525879</td>\n",
              "      <td>202.525879</td>\n",
              "      <td>19609500</td>\n",
              "      <td>0.000000</td>\n",
              "    </tr>\n",
              "    <tr>\n",
              "      <th>2006-09-14</th>\n",
              "      <td>201.395126</td>\n",
              "      <td>202.381424</td>\n",
              "      <td>200.214554</td>\n",
              "      <td>201.235718</td>\n",
              "      <td>201.235718</td>\n",
              "      <td>10772300</td>\n",
              "      <td>0.000000</td>\n",
              "    </tr>\n",
              "    <tr>\n",
              "      <th>2006-09-15</th>\n",
              "      <td>202.979187</td>\n",
              "      <td>204.259384</td>\n",
              "      <td>202.610565</td>\n",
              "      <td>204.174698</td>\n",
              "      <td>204.174698</td>\n",
              "      <td>15735000</td>\n",
              "      <td>0.000000</td>\n",
              "    </tr>\n",
              "    <tr>\n",
              "      <th>...</th>\n",
              "      <td>...</td>\n",
              "      <td>...</td>\n",
              "      <td>...</td>\n",
              "      <td>...</td>\n",
              "      <td>...</td>\n",
              "      <td>...</td>\n",
              "      <td>...</td>\n",
              "    </tr>\n",
              "    <tr>\n",
              "      <th>2019-12-20</th>\n",
              "      <td>1363.349976</td>\n",
              "      <td>1363.640015</td>\n",
              "      <td>1349.000000</td>\n",
              "      <td>1349.589966</td>\n",
              "      <td>1349.589966</td>\n",
              "      <td>3315000</td>\n",
              "      <td>-0.021073</td>\n",
              "    </tr>\n",
              "    <tr>\n",
              "      <th>2019-12-23</th>\n",
              "      <td>1355.869995</td>\n",
              "      <td>1359.800049</td>\n",
              "      <td>1346.510010</td>\n",
              "      <td>1348.839966</td>\n",
              "      <td>1348.839966</td>\n",
              "      <td>883100</td>\n",
              "      <td>0.000000</td>\n",
              "    </tr>\n",
              "    <tr>\n",
              "      <th>2019-12-24</th>\n",
              "      <td>1348.500000</td>\n",
              "      <td>1350.260010</td>\n",
              "      <td>1342.780029</td>\n",
              "      <td>1343.560059</td>\n",
              "      <td>1343.560059</td>\n",
              "      <td>347500</td>\n",
              "      <td>0.015853</td>\n",
              "    </tr>\n",
              "    <tr>\n",
              "      <th>2019-12-26</th>\n",
              "      <td>1346.170044</td>\n",
              "      <td>1361.327026</td>\n",
              "      <td>1344.469971</td>\n",
              "      <td>1360.400024</td>\n",
              "      <td>1360.400024</td>\n",
              "      <td>667500</td>\n",
              "      <td>0.002933</td>\n",
              "    </tr>\n",
              "    <tr>\n",
              "      <th>2019-12-27</th>\n",
              "      <td>1362.989990</td>\n",
              "      <td>1364.530029</td>\n",
              "      <td>1349.310059</td>\n",
              "      <td>1351.890015</td>\n",
              "      <td>1351.890015</td>\n",
              "      <td>1038400</td>\n",
              "      <td>0.048320</td>\n",
              "    </tr>\n",
              "  </tbody>\n",
              "</table>\n",
              "<p>3348 rows × 7 columns</p>\n",
              "</div>"
            ],
            "text/plain": [
              "                   Open         High  ...    Volume  Sentiment Score\n",
              "Date                                  ...                           \n",
              "2006-09-11   188.423737   191.626740  ...   9092200         0.296000\n",
              "2006-09-12   191.781158   195.631729  ...  10925100         0.000000\n",
              "2006-09-13   196.837204   202.620529  ...  19609500         0.000000\n",
              "2006-09-14   201.395126   202.381424  ...  10772300         0.000000\n",
              "2006-09-15   202.979187   204.259384  ...  15735000         0.000000\n",
              "...                 ...          ...  ...       ...              ...\n",
              "2019-12-20  1363.349976  1363.640015  ...   3315000        -0.021073\n",
              "2019-12-23  1355.869995  1359.800049  ...    883100         0.000000\n",
              "2019-12-24  1348.500000  1350.260010  ...    347500         0.015853\n",
              "2019-12-26  1346.170044  1361.327026  ...    667500         0.002933\n",
              "2019-12-27  1362.989990  1364.530029  ...   1038400         0.048320\n",
              "\n",
              "[3348 rows x 7 columns]"
            ]
          },
          "metadata": {
            "tags": []
          },
          "execution_count": 8
        }
      ]
    },
    {
      "cell_type": "markdown",
      "metadata": {
        "id": "Uj1rVSrUS4tS",
        "colab_type": "text"
      },
      "source": [
        "## put sentiment data into dict for cycle training"
      ]
    },
    {
      "cell_type": "code",
      "metadata": {
        "id": "PiFJL6FKSkAW",
        "colab_type": "code",
        "colab": {}
      },
      "source": [
        "stock_lib = {\n",
        "    'aapl': aapl,\n",
        "    'fb':fb,\n",
        "    'amzn':amzn,\n",
        "    'goog':goog,\n",
        "}"
      ],
      "execution_count": 0,
      "outputs": []
    },
    {
      "cell_type": "code",
      "metadata": {
        "id": "JB4RVQf1TdfP",
        "colab_type": "code",
        "outputId": "179f90b8-3c19-4560-a20d-4925f644ec5f",
        "colab": {
          "base_uri": "https://localhost:8080/",
          "height": 35
        }
      },
      "source": [
        "symbols = list(stock_lib.keys())\n",
        "symbols"
      ],
      "execution_count": 0,
      "outputs": [
        {
          "output_type": "execute_result",
          "data": {
            "text/plain": [
              "['aapl', 'fb', 'amzn', 'goog']"
            ]
          },
          "metadata": {
            "tags": []
          },
          "execution_count": 91
        }
      ]
    },
    {
      "cell_type": "code",
      "metadata": {
        "id": "cNWn6DZjS9JQ",
        "colab_type": "code",
        "outputId": "132bc1af-cc9c-4de1-fe06-98d2719e19de",
        "colab": {
          "base_uri": "https://localhost:8080/",
          "height": 455
        }
      },
      "source": [
        "stock_lib['aapl']"
      ],
      "execution_count": 0,
      "outputs": [
        {
          "output_type": "execute_result",
          "data": {
            "text/html": [
              "<div>\n",
              "<style scoped>\n",
              "    .dataframe tbody tr th:only-of-type {\n",
              "        vertical-align: middle;\n",
              "    }\n",
              "\n",
              "    .dataframe tbody tr th {\n",
              "        vertical-align: top;\n",
              "    }\n",
              "\n",
              "    .dataframe thead th {\n",
              "        text-align: right;\n",
              "    }\n",
              "</style>\n",
              "<table border=\"1\" class=\"dataframe\">\n",
              "  <thead>\n",
              "    <tr style=\"text-align: right;\">\n",
              "      <th></th>\n",
              "      <th>Open</th>\n",
              "      <th>High</th>\n",
              "      <th>Low</th>\n",
              "      <th>Close</th>\n",
              "      <th>Adj Close</th>\n",
              "      <th>Volume</th>\n",
              "      <th>sentiment_score</th>\n",
              "    </tr>\n",
              "    <tr>\n",
              "      <th>Date</th>\n",
              "      <th></th>\n",
              "      <th></th>\n",
              "      <th></th>\n",
              "      <th></th>\n",
              "      <th></th>\n",
              "      <th></th>\n",
              "      <th></th>\n",
              "    </tr>\n",
              "  </thead>\n",
              "  <tbody>\n",
              "    <tr>\n",
              "      <th>1999-10-01</th>\n",
              "      <td>2.218750</td>\n",
              "      <td>2.229911</td>\n",
              "      <td>2.125000</td>\n",
              "      <td>2.204241</td>\n",
              "      <td>1.923671</td>\n",
              "      <td>153697600.0</td>\n",
              "      <td>-0.012380</td>\n",
              "    </tr>\n",
              "    <tr>\n",
              "      <th>1999-10-04</th>\n",
              "      <td>2.227679</td>\n",
              "      <td>2.316964</td>\n",
              "      <td>2.227679</td>\n",
              "      <td>2.305804</td>\n",
              "      <td>2.012305</td>\n",
              "      <td>114839200.0</td>\n",
              "      <td>0.000000</td>\n",
              "    </tr>\n",
              "    <tr>\n",
              "      <th>1999-10-05</th>\n",
              "      <td>2.343750</td>\n",
              "      <td>2.433036</td>\n",
              "      <td>2.312500</td>\n",
              "      <td>2.426339</td>\n",
              "      <td>2.117498</td>\n",
              "      <td>203551600.0</td>\n",
              "      <td>0.000000</td>\n",
              "    </tr>\n",
              "    <tr>\n",
              "      <th>1999-10-06</th>\n",
              "      <td>2.477679</td>\n",
              "      <td>2.486607</td>\n",
              "      <td>2.392857</td>\n",
              "      <td>2.399554</td>\n",
              "      <td>2.094123</td>\n",
              "      <td>201068000.0</td>\n",
              "      <td>0.000000</td>\n",
              "    </tr>\n",
              "    <tr>\n",
              "      <th>1999-10-07</th>\n",
              "      <td>2.444196</td>\n",
              "      <td>2.450893</td>\n",
              "      <td>2.316964</td>\n",
              "      <td>2.370536</td>\n",
              "      <td>2.068798</td>\n",
              "      <td>151471600.0</td>\n",
              "      <td>0.000000</td>\n",
              "    </tr>\n",
              "    <tr>\n",
              "      <th>...</th>\n",
              "      <td>...</td>\n",
              "      <td>...</td>\n",
              "      <td>...</td>\n",
              "      <td>...</td>\n",
              "      <td>...</td>\n",
              "      <td>...</td>\n",
              "      <td>...</td>\n",
              "    </tr>\n",
              "    <tr>\n",
              "      <th>2019-02-27</th>\n",
              "      <td>173.210007</td>\n",
              "      <td>175.000000</td>\n",
              "      <td>172.729996</td>\n",
              "      <td>174.869995</td>\n",
              "      <td>173.539795</td>\n",
              "      <td>27835400.0</td>\n",
              "      <td>-0.049580</td>\n",
              "    </tr>\n",
              "    <tr>\n",
              "      <th>2019-02-28</th>\n",
              "      <td>174.320007</td>\n",
              "      <td>174.910004</td>\n",
              "      <td>172.919998</td>\n",
              "      <td>173.149994</td>\n",
              "      <td>171.832886</td>\n",
              "      <td>28215400.0</td>\n",
              "      <td>-0.016533</td>\n",
              "    </tr>\n",
              "    <tr>\n",
              "      <th>2019-03-01</th>\n",
              "      <td>174.279999</td>\n",
              "      <td>175.149994</td>\n",
              "      <td>172.889999</td>\n",
              "      <td>174.970001</td>\n",
              "      <td>173.639038</td>\n",
              "      <td>25886200.0</td>\n",
              "      <td>0.072413</td>\n",
              "    </tr>\n",
              "    <tr>\n",
              "      <th>2019-03-04</th>\n",
              "      <td>175.690002</td>\n",
              "      <td>177.750000</td>\n",
              "      <td>173.970001</td>\n",
              "      <td>175.850006</td>\n",
              "      <td>174.512360</td>\n",
              "      <td>27436200.0</td>\n",
              "      <td>0.143187</td>\n",
              "    </tr>\n",
              "    <tr>\n",
              "      <th>2019-03-05</th>\n",
              "      <td>175.940002</td>\n",
              "      <td>176.000000</td>\n",
              "      <td>174.539993</td>\n",
              "      <td>175.529999</td>\n",
              "      <td>174.194778</td>\n",
              "      <td>19737400.0</td>\n",
              "      <td>0.064133</td>\n",
              "    </tr>\n",
              "  </tbody>\n",
              "</table>\n",
              "<p>4886 rows × 7 columns</p>\n",
              "</div>"
            ],
            "text/plain": [
              "                  Open        High  ...       Volume  sentiment_score\n",
              "Date                                ...                              \n",
              "1999-10-01    2.218750    2.229911  ...  153697600.0        -0.012380\n",
              "1999-10-04    2.227679    2.316964  ...  114839200.0         0.000000\n",
              "1999-10-05    2.343750    2.433036  ...  203551600.0         0.000000\n",
              "1999-10-06    2.477679    2.486607  ...  201068000.0         0.000000\n",
              "1999-10-07    2.444196    2.450893  ...  151471600.0         0.000000\n",
              "...                ...         ...  ...          ...              ...\n",
              "2019-02-27  173.210007  175.000000  ...   27835400.0        -0.049580\n",
              "2019-02-28  174.320007  174.910004  ...   28215400.0        -0.016533\n",
              "2019-03-01  174.279999  175.149994  ...   25886200.0         0.072413\n",
              "2019-03-04  175.690002  177.750000  ...   27436200.0         0.143187\n",
              "2019-03-05  175.940002  176.000000  ...   19737400.0         0.064133\n",
              "\n",
              "[4886 rows x 7 columns]"
            ]
          },
          "metadata": {
            "tags": []
          },
          "execution_count": 92
        }
      ]
    },
    {
      "cell_type": "markdown",
      "metadata": {
        "id": "Rme4u9IWGaNo",
        "colab_type": "text"
      },
      "source": [
        "## Load regular data\n"
      ]
    },
    {
      "cell_type": "code",
      "metadata": {
        "id": "Ek6J1Fd2OY7s",
        "colab_type": "code",
        "colab": {}
      },
      "source": [
        "symbol = 'AAPL'"
      ],
      "execution_count": 0,
      "outputs": []
    },
    {
      "cell_type": "code",
      "metadata": {
        "id": "FDyVXBzEHlRu",
        "colab_type": "code",
        "outputId": "b7ed94f1-5628-41e2-f596-feba4051a3e7",
        "colab": {
          "base_uri": "https://localhost:8080/",
          "height": 486
        }
      },
      "source": [
        "data = DataReader(symbol, 'yahoo', start='2000-01-01', end='2018-12-31')\n",
        "plt.plot(data['High'])\n",
        "plt.plot(data['Low'])\n",
        "plt.show()\n",
        "data.tail()"
      ],
      "execution_count": 0,
      "outputs": [
        {
          "output_type": "display_data",
          "data": {
            "image/png": "[encoded data removed]",
            "text/plain": [
              "<Figure size 432x288 with 1 Axes>"
            ]
          },
          "metadata": {
            "tags": []
          }
        },
        {
          "output_type": "execute_result",
          "data": {
            "text/html": [
              "<div>\n",
              "<style scoped>\n",
              "    .dataframe tbody tr th:only-of-type {\n",
              "        vertical-align: middle;\n",
              "    }\n",
              "\n",
              "    .dataframe tbody tr th {\n",
              "        vertical-align: top;\n",
              "    }\n",
              "\n",
              "    .dataframe thead th {\n",
              "        text-align: right;\n",
              "    }\n",
              "</style>\n",
              "<table border=\"1\" class=\"dataframe\">\n",
              "  <thead>\n",
              "    <tr style=\"text-align: right;\">\n",
              "      <th></th>\n",
              "      <th>High</th>\n",
              "      <th>Low</th>\n",
              "      <th>Open</th>\n",
              "      <th>Close</th>\n",
              "      <th>Volume</th>\n",
              "      <th>Adj Close</th>\n",
              "    </tr>\n",
              "    <tr>\n",
              "      <th>Date</th>\n",
              "      <th></th>\n",
              "      <th></th>\n",
              "      <th></th>\n",
              "      <th></th>\n",
              "      <th></th>\n",
              "      <th></th>\n",
              "    </tr>\n",
              "  </thead>\n",
              "  <tbody>\n",
              "    <tr>\n",
              "      <th>2018-12-24</th>\n",
              "      <td>151.550003</td>\n",
              "      <td>146.589996</td>\n",
              "      <td>148.149994</td>\n",
              "      <td>146.830002</td>\n",
              "      <td>37169200.0</td>\n",
              "      <td>144.314041</td>\n",
              "    </tr>\n",
              "    <tr>\n",
              "      <th>2018-12-26</th>\n",
              "      <td>157.229996</td>\n",
              "      <td>146.720001</td>\n",
              "      <td>148.300003</td>\n",
              "      <td>157.169998</td>\n",
              "      <td>58582500.0</td>\n",
              "      <td>154.476852</td>\n",
              "    </tr>\n",
              "    <tr>\n",
              "      <th>2018-12-27</th>\n",
              "      <td>156.770004</td>\n",
              "      <td>150.070007</td>\n",
              "      <td>155.839996</td>\n",
              "      <td>156.149994</td>\n",
              "      <td>53117100.0</td>\n",
              "      <td>153.474335</td>\n",
              "    </tr>\n",
              "    <tr>\n",
              "      <th>2018-12-28</th>\n",
              "      <td>158.520004</td>\n",
              "      <td>154.550003</td>\n",
              "      <td>157.500000</td>\n",
              "      <td>156.229996</td>\n",
              "      <td>42291400.0</td>\n",
              "      <td>153.552979</td>\n",
              "    </tr>\n",
              "    <tr>\n",
              "      <th>2018-12-31</th>\n",
              "      <td>159.360001</td>\n",
              "      <td>156.479996</td>\n",
              "      <td>158.529999</td>\n",
              "      <td>157.740005</td>\n",
              "      <td>35003500.0</td>\n",
              "      <td>155.037109</td>\n",
              "    </tr>\n",
              "  </tbody>\n",
              "</table>\n",
              "</div>"
            ],
            "text/plain": [
              "                  High         Low  ...      Volume   Adj Close\n",
              "Date                                ...                        \n",
              "2018-12-24  151.550003  146.589996  ...  37169200.0  144.314041\n",
              "2018-12-26  157.229996  146.720001  ...  58582500.0  154.476852\n",
              "2018-12-27  156.770004  150.070007  ...  53117100.0  153.474335\n",
              "2018-12-28  158.520004  154.550003  ...  42291400.0  153.552979\n",
              "2018-12-31  159.360001  156.479996  ...  35003500.0  155.037109\n",
              "\n",
              "[5 rows x 6 columns]"
            ]
          },
          "metadata": {
            "tags": []
          },
          "execution_count": 12
        }
      ]
    },
    {
      "cell_type": "code",
      "metadata": {
        "id": "vMsff8AAfp84",
        "colab_type": "code",
        "outputId": "bf3d1416-28d8-4823-8031-a7475f16d71a",
        "colab": {
          "base_uri": "https://localhost:8080/",
          "height": 486
        }
      },
      "source": [
        "test_data = DataReader(symbol, \n",
        "                       'yahoo', \n",
        "                       #start='2019-06-01', \n",
        "                       start='2020-01-01',\n",
        "                       )\n",
        "plt.plot(test_data['High'])\n",
        "plt.plot(test_data['Low'])\n",
        "plt.show()\n",
        "test_data.tail()"
      ],
      "execution_count": 0,
      "outputs": [
        {
          "output_type": "display_data",
          "data": {
            "image/png": "[encoded data removed]",
            "text/plain": [
              "<Figure size 432x288 with 1 Axes>"
            ]
          },
          "metadata": {
            "tags": []
          }
        },
        {
          "output_type": "execute_result",
          "data": {
            "text/html": [
              "<div>\n",
              "<style scoped>\n",
              "    .dataframe tbody tr th:only-of-type {\n",
              "        vertical-align: middle;\n",
              "    }\n",
              "\n",
              "    .dataframe tbody tr th {\n",
              "        vertical-align: top;\n",
              "    }\n",
              "\n",
              "    .dataframe thead th {\n",
              "        text-align: right;\n",
              "    }\n",
              "</style>\n",
              "<table border=\"1\" class=\"dataframe\">\n",
              "  <thead>\n",
              "    <tr style=\"text-align: right;\">\n",
              "      <th></th>\n",
              "      <th>High</th>\n",
              "      <th>Low</th>\n",
              "      <th>Open</th>\n",
              "      <th>Close</th>\n",
              "      <th>Volume</th>\n",
              "      <th>Adj Close</th>\n",
              "    </tr>\n",
              "    <tr>\n",
              "      <th>Date</th>\n",
              "      <th></th>\n",
              "      <th></th>\n",
              "      <th></th>\n",
              "      <th></th>\n",
              "      <th></th>\n",
              "      <th></th>\n",
              "    </tr>\n",
              "  </thead>\n",
              "  <tbody>\n",
              "    <tr>\n",
              "      <th>2020-03-26</th>\n",
              "      <td>258.679993</td>\n",
              "      <td>246.360001</td>\n",
              "      <td>246.520004</td>\n",
              "      <td>258.440002</td>\n",
              "      <td>63021800.0</td>\n",
              "      <td>258.440002</td>\n",
              "    </tr>\n",
              "    <tr>\n",
              "      <th>2020-03-27</th>\n",
              "      <td>255.869995</td>\n",
              "      <td>247.050003</td>\n",
              "      <td>252.750000</td>\n",
              "      <td>247.740005</td>\n",
              "      <td>51054200.0</td>\n",
              "      <td>247.740005</td>\n",
              "    </tr>\n",
              "    <tr>\n",
              "      <th>2020-03-30</th>\n",
              "      <td>255.520004</td>\n",
              "      <td>249.399994</td>\n",
              "      <td>250.740005</td>\n",
              "      <td>254.809998</td>\n",
              "      <td>41994100.0</td>\n",
              "      <td>254.809998</td>\n",
              "    </tr>\n",
              "    <tr>\n",
              "      <th>2020-03-31</th>\n",
              "      <td>262.489990</td>\n",
              "      <td>252.000000</td>\n",
              "      <td>255.600006</td>\n",
              "      <td>254.289993</td>\n",
              "      <td>49147500.0</td>\n",
              "      <td>254.289993</td>\n",
              "    </tr>\n",
              "    <tr>\n",
              "      <th>2020-04-01</th>\n",
              "      <td>248.720001</td>\n",
              "      <td>239.130005</td>\n",
              "      <td>246.500000</td>\n",
              "      <td>240.910004</td>\n",
              "      <td>39970688.0</td>\n",
              "      <td>240.910004</td>\n",
              "    </tr>\n",
              "  </tbody>\n",
              "</table>\n",
              "</div>"
            ],
            "text/plain": [
              "                  High         Low  ...      Volume   Adj Close\n",
              "Date                                ...                        \n",
              "2020-03-26  258.679993  246.360001  ...  63021800.0  258.440002\n",
              "2020-03-27  255.869995  247.050003  ...  51054200.0  247.740005\n",
              "2020-03-30  255.520004  249.399994  ...  41994100.0  254.809998\n",
              "2020-03-31  262.489990  252.000000  ...  49147500.0  254.289993\n",
              "2020-04-01  248.720001  239.130005  ...  39970688.0  240.910004\n",
              "\n",
              "[5 rows x 6 columns]"
            ]
          },
          "metadata": {
            "tags": []
          },
          "execution_count": 19
        }
      ]
    },
    {
      "cell_type": "markdown",
      "metadata": {
        "id": "UBfSpQNy09ss",
        "colab_type": "text"
      },
      "source": [
        "## Load a group of stocks for cycle training"
      ]
    },
    {
      "cell_type": "code",
      "metadata": {
        "id": "tlL7V6aTPAwd",
        "colab_type": "code",
        "colab": {}
      },
      "source": [
        ""
      ],
      "execution_count": 0,
      "outputs": []
    },
    {
      "cell_type": "code",
      "metadata": {
        "id": "PHwUAEj81D5_",
        "colab_type": "code",
        "colab": {}
      },
      "source": [
        "symbols = ['AAPL', 'GOOG', 'FB', 'AMZN', 'TWTR', 'TSLA', 'KO', 'MCD']\n",
        "start_date = '2000-01-01'\n",
        "end_date = datetime.now()"
      ],
      "execution_count": 0,
      "outputs": []
    },
    {
      "cell_type": "code",
      "metadata": {
        "id": "SM80GQRJ1t1Y",
        "colab_type": "code",
        "outputId": "a63a2941-566f-405f-f1c7-9f19b6d60444",
        "colab": {
          "base_uri": "https://localhost:8080/",
          "height": 162
        }
      },
      "source": [
        "stock_lib = dict()\n",
        "for s in symbols:\n",
        "    print('Loading ' + s + '...')\n",
        "    stock_lib[s] = DataReader(s, 'yahoo', start=start_date, end=end_date)"
      ],
      "execution_count": 0,
      "outputs": [
        {
          "output_type": "stream",
          "text": [
            "Loading AAPL...\n",
            "Loading GOOG...\n",
            "Loading FB...\n",
            "Loading AMZN...\n",
            "Loading TWTR...\n",
            "Loading TSLA...\n",
            "Loading KO...\n",
            "Loading MCD...\n"
          ],
          "name": "stdout"
        }
      ]
    },
    {
      "cell_type": "code",
      "metadata": {
        "id": "0jQ2N8MH5VAL",
        "colab_type": "code",
        "outputId": "5768496b-0114-4ca6-a185-6769f644e9d7",
        "colab": {
          "base_uri": "https://localhost:8080/",
          "height": 455
        }
      },
      "source": [
        "stock_lib['AAPL']"
      ],
      "execution_count": 0,
      "outputs": [
        {
          "output_type": "execute_result",
          "data": {
            "text/html": [
              "<div>\n",
              "<style scoped>\n",
              "    .dataframe tbody tr th:only-of-type {\n",
              "        vertical-align: middle;\n",
              "    }\n",
              "\n",
              "    .dataframe tbody tr th {\n",
              "        vertical-align: top;\n",
              "    }\n",
              "\n",
              "    .dataframe thead th {\n",
              "        text-align: right;\n",
              "    }\n",
              "</style>\n",
              "<table border=\"1\" class=\"dataframe\">\n",
              "  <thead>\n",
              "    <tr style=\"text-align: right;\">\n",
              "      <th></th>\n",
              "      <th>High</th>\n",
              "      <th>Low</th>\n",
              "      <th>Open</th>\n",
              "      <th>Close</th>\n",
              "      <th>Volume</th>\n",
              "      <th>Adj Close</th>\n",
              "    </tr>\n",
              "    <tr>\n",
              "      <th>Date</th>\n",
              "      <th></th>\n",
              "      <th></th>\n",
              "      <th></th>\n",
              "      <th></th>\n",
              "      <th></th>\n",
              "      <th></th>\n",
              "    </tr>\n",
              "  </thead>\n",
              "  <tbody>\n",
              "    <tr>\n",
              "      <th>2000-01-03</th>\n",
              "      <td>4.017857</td>\n",
              "      <td>3.631696</td>\n",
              "      <td>3.745536</td>\n",
              "      <td>3.997768</td>\n",
              "      <td>133949200.0</td>\n",
              "      <td>3.470226</td>\n",
              "    </tr>\n",
              "    <tr>\n",
              "      <th>2000-01-04</th>\n",
              "      <td>3.950893</td>\n",
              "      <td>3.613839</td>\n",
              "      <td>3.866071</td>\n",
              "      <td>3.660714</td>\n",
              "      <td>128094400.0</td>\n",
              "      <td>3.177650</td>\n",
              "    </tr>\n",
              "    <tr>\n",
              "      <th>2000-01-05</th>\n",
              "      <td>3.948661</td>\n",
              "      <td>3.678571</td>\n",
              "      <td>3.705357</td>\n",
              "      <td>3.714286</td>\n",
              "      <td>194580400.0</td>\n",
              "      <td>3.224152</td>\n",
              "    </tr>\n",
              "    <tr>\n",
              "      <th>2000-01-06</th>\n",
              "      <td>3.821429</td>\n",
              "      <td>3.392857</td>\n",
              "      <td>3.790179</td>\n",
              "      <td>3.392857</td>\n",
              "      <td>191993200.0</td>\n",
              "      <td>2.945139</td>\n",
              "    </tr>\n",
              "    <tr>\n",
              "      <th>2000-01-07</th>\n",
              "      <td>3.607143</td>\n",
              "      <td>3.410714</td>\n",
              "      <td>3.446429</td>\n",
              "      <td>3.553571</td>\n",
              "      <td>115183600.0</td>\n",
              "      <td>3.084645</td>\n",
              "    </tr>\n",
              "    <tr>\n",
              "      <th>...</th>\n",
              "      <td>...</td>\n",
              "      <td>...</td>\n",
              "      <td>...</td>\n",
              "      <td>...</td>\n",
              "      <td>...</td>\n",
              "      <td>...</td>\n",
              "    </tr>\n",
              "    <tr>\n",
              "      <th>2020-03-27</th>\n",
              "      <td>255.869995</td>\n",
              "      <td>247.050003</td>\n",
              "      <td>252.750000</td>\n",
              "      <td>247.740005</td>\n",
              "      <td>51054200.0</td>\n",
              "      <td>247.740005</td>\n",
              "    </tr>\n",
              "    <tr>\n",
              "      <th>2020-03-30</th>\n",
              "      <td>255.520004</td>\n",
              "      <td>249.399994</td>\n",
              "      <td>250.740005</td>\n",
              "      <td>254.809998</td>\n",
              "      <td>41994100.0</td>\n",
              "      <td>254.809998</td>\n",
              "    </tr>\n",
              "    <tr>\n",
              "      <th>2020-03-31</th>\n",
              "      <td>262.489990</td>\n",
              "      <td>252.000000</td>\n",
              "      <td>255.600006</td>\n",
              "      <td>254.289993</td>\n",
              "      <td>49250500.0</td>\n",
              "      <td>254.289993</td>\n",
              "    </tr>\n",
              "    <tr>\n",
              "      <th>2020-04-01</th>\n",
              "      <td>248.720001</td>\n",
              "      <td>239.130005</td>\n",
              "      <td>246.500000</td>\n",
              "      <td>240.910004</td>\n",
              "      <td>43956200.0</td>\n",
              "      <td>240.910004</td>\n",
              "    </tr>\n",
              "    <tr>\n",
              "      <th>2020-04-02</th>\n",
              "      <td>244.348907</td>\n",
              "      <td>236.899994</td>\n",
              "      <td>240.339996</td>\n",
              "      <td>238.860001</td>\n",
              "      <td>28518240.0</td>\n",
              "      <td>238.860001</td>\n",
              "    </tr>\n",
              "  </tbody>\n",
              "</table>\n",
              "<p>5095 rows × 6 columns</p>\n",
              "</div>"
            ],
            "text/plain": [
              "                  High         Low  ...       Volume   Adj Close\n",
              "Date                                ...                         \n",
              "2000-01-03    4.017857    3.631696  ...  133949200.0    3.470226\n",
              "2000-01-04    3.950893    3.613839  ...  128094400.0    3.177650\n",
              "2000-01-05    3.948661    3.678571  ...  194580400.0    3.224152\n",
              "2000-01-06    3.821429    3.392857  ...  191993200.0    2.945139\n",
              "2000-01-07    3.607143    3.410714  ...  115183600.0    3.084645\n",
              "...                ...         ...  ...          ...         ...\n",
              "2020-03-27  255.869995  247.050003  ...   51054200.0  247.740005\n",
              "2020-03-30  255.520004  249.399994  ...   41994100.0  254.809998\n",
              "2020-03-31  262.489990  252.000000  ...   49250500.0  254.289993\n",
              "2020-04-01  248.720001  239.130005  ...   43956200.0  240.910004\n",
              "2020-04-02  244.348907  236.899994  ...   28518240.0  238.860001\n",
              "\n",
              "[5095 rows x 6 columns]"
            ]
          },
          "metadata": {
            "tags": []
          },
          "execution_count": 74
        }
      ]
    },
    {
      "cell_type": "markdown",
      "metadata": {
        "id": "po8aSiaxGjnd",
        "colab_type": "text"
      },
      "source": [
        "## build training environments"
      ]
    },
    {
      "cell_type": "code",
      "metadata": {
        "id": "8JsRR2-tjkHd",
        "colab_type": "code",
        "colab": {}
      },
      "source": [
        "# test_data = data.tail(200)\n",
        "# train_data = data.head(-500)"
      ],
      "execution_count": 0,
      "outputs": []
    },
    {
      "cell_type": "code",
      "metadata": {
        "id": "fKBtPqHlmDfZ",
        "colab_type": "code",
        "colab": {}
      },
      "source": [
        "env = gym.make(\n",
        "    'custom_stocks-v0',\n",
        "    stock_df = data,\n",
        "    pred_df = data,\n",
        "    window_size = 14,\n",
        "    initial_balance = 5000,\n",
        "    min_percent_loss = .5,\n",
        "    with_pred = False\n",
        "    )"
      ],
      "execution_count": 0,
      "outputs": []
    },
    {
      "cell_type": "code",
      "metadata": {
        "id": "ybtQ0pfSBXU9",
        "colab_type": "code",
        "outputId": "6f82394e-d182-4604-86c5-ab3880c68d91",
        "colab": {
          "base_uri": "https://localhost:8080/",
          "height": 403
        }
      },
      "source": [
        "print(\"env information:\")\n",
        "print(\"> shape:\", env.shape)\n",
        "print(\"> df.shape:\", env.df.shape)\n",
        "\n",
        "env.reset()\n",
        "\n",
        "obs, rewards, done, info = env.step([0,0,1,0])\n",
        "print(obs)"
      ],
      "execution_count": 0,
      "outputs": [
        {
          "output_type": "stream",
          "text": [
            "env information:\n",
            "> shape: (14, 6)\n",
            "> df.shape: (4779, 6)\n",
            "                High       Low      Open     Close    Volume  Adj Close\n",
            "Date                                                                   \n",
            "2002-04-11  0.004240  0.004102  0.004188  0.004136  0.049837   0.003129\n",
            "2002-04-12  0.004231  0.004047  0.004182  0.004197  0.038051   0.003182\n",
            "2002-04-15  0.004225  0.004117  0.004197  0.004179  0.035223   0.003166\n",
            "2002-04-16  0.004483  0.004216  0.004225  0.004406  0.077921   0.003363\n",
            "2002-04-17  0.004538  0.004296  0.004464  0.004520  0.048347   0.003462\n",
            "2002-04-18  0.004338  0.004142  0.004332  0.004305  0.049086   0.003275\n",
            "2002-04-19  0.004329  0.004157  0.004329  0.004173  0.045523   0.003161\n",
            "2002-04-22  0.004157  0.003942  0.004130  0.004035  0.031167   0.003041\n",
            "2002-04-23  0.004111  0.003899  0.004038  0.003949  0.026297   0.002966\n",
            "2002-04-24  0.004025  0.003774  0.003964  0.003801  0.013696   0.002838\n",
            "2002-04-25  0.003976  0.003734  0.003737  0.003909  0.020978   0.002931\n",
            "2002-04-26  0.003985  0.003565  0.003958  0.003568  0.035984   0.002636\n",
            "2002-04-29  0.003890  0.003592  0.003614  0.003860  0.031555   0.002889\n",
            "2002-04-30  0.003988  0.003795  0.003838  0.003955  0.032730   0.002971\n"
          ],
          "name": "stdout"
        },
        {
          "output_type": "stream",
          "text": [
            "/content/cloned-repo/custom_anytrading/envs/custom_stock_env.py:180: RuntimeWarning: invalid value encountered in double_scalars\n",
            "  self.cost_basis = (prev_cost + additional_cost) / (self.shares_held + shares_bought)\n"
          ],
          "name": "stderr"
        }
      ]
    },
    {
      "cell_type": "code",
      "metadata": {
        "id": "dEGWUKpBBh4F",
        "colab_type": "code",
        "colab": {}
      },
      "source": [
        "num_envs = 8\n",
        "\n",
        "vec_env = make_vec_env(\n",
        "    custom_anytrading.envs.CustomStockEnv, \n",
        "    env_kwargs = {'stock_df' : data,\n",
        "                'pred_df' : data,\n",
        "                'window_size' : 14,\n",
        "                'initial_balance' : 5000,\n",
        "                'min_percent_loss' : .5,\n",
        "                'with_pred' : False\n",
        "                },\n",
        "    n_envs=num_envs)"
      ],
      "execution_count": 0,
      "outputs": []
    },
    {
      "cell_type": "markdown",
      "metadata": {
        "id": "1cJCtmUN2nJJ",
        "colab_type": "text"
      },
      "source": [
        "## cycle stock training envs\n"
      ]
    },
    {
      "cell_type": "code",
      "metadata": {
        "id": "dbZmZEdu86ry",
        "colab_type": "code",
        "colab": {}
      },
      "source": [
        "#needed to load the custom_anytrading.envs?\n",
        "temp = gym.make(\n",
        "    'custom_stocks-v0',\n",
        "    stock_df = stock_lib[symbols[0]],\n",
        "    pred_df = stock_lib[symbols[0]],\n",
        "    window_size = 14,\n",
        "    initial_balance = 5000,\n",
        "    min_percent_loss = .5,\n",
        "    with_pred = True\n",
        "    )"
      ],
      "execution_count": 0,
      "outputs": []
    },
    {
      "cell_type": "code",
      "metadata": {
        "id": "qLeIHGAu2jck",
        "colab_type": "code",
        "outputId": "5ea36ca4-ee18-48c8-c9a2-1f3a5f38533b",
        "colab": {
          "base_uri": "https://localhost:8080/",
          "height": 90
        }
      },
      "source": [
        "cycle_stock_envs = dict()\n",
        "num_envs = 8\n",
        "\n",
        "for s in stock_lib.keys():\n",
        "    print('Building env for ' + s)\n",
        "    cycle_stock_envs[s] = make_vec_env(\n",
        "            custom_anytrading.envs.CustomStockEnv, \n",
        "            env_kwargs = {'stock_df' : stock_lib[s],\n",
        "            'pred_df' : stock_lib[s],\n",
        "            'window_size' : 14,\n",
        "            'initial_balance' : 5000,\n",
        "            'min_percent_loss' : .5,\n",
        "            'with_pred' : True\n",
        "            },\n",
        "        n_envs=num_envs)"
      ],
      "execution_count": 0,
      "outputs": [
        {
          "output_type": "stream",
          "text": [
            "Building env for aapl\n",
            "Building env for fb\n",
            "Building env for amzn\n",
            "Building env for goog\n"
          ],
          "name": "stdout"
        }
      ]
    },
    {
      "cell_type": "markdown",
      "metadata": {
        "id": "uk1GgE4PGpcY",
        "colab_type": "text"
      },
      "source": [
        "## Build and train model"
      ]
    },
    {
      "cell_type": "code",
      "metadata": {
        "id": "iy4xOpn9HVMg",
        "colab_type": "code",
        "colab": {}
      },
      "source": [
        "model = PPO2(MlpPolicy, cycle_stock_envs['AAPL'])"
      ],
      "execution_count": 0,
      "outputs": []
    },
    {
      "cell_type": "code",
      "metadata": {
        "id": "wdQ35h5FBlrc",
        "colab_type": "code",
        "outputId": "4ed6259b-41b4-472b-93c1-4696715a4bd9",
        "colab": {
          "base_uri": "https://localhost:8080/",
          "height": 90
        }
      },
      "source": [
        "%%time\n",
        "model.learn(\n",
        "    total_timesteps=2000000,\n",
        "    )\n",
        "\n",
        "model.save('/gdrive/My Drive/Masters project/data/models/aapl_trained_model_pred.zip')"
      ],
      "execution_count": 0,
      "outputs": [
        {
          "output_type": "stream",
          "text": [
            "/content/cloned-repo/custom_anytrading/envs/custom_stock_env.py:180: RuntimeWarning: invalid value encountered in double_scalars\n",
            "  self.cost_basis = (prev_cost + additional_cost) / (self.shares_held + shares_bought)\n"
          ],
          "name": "stderr"
        },
        {
          "output_type": "stream",
          "text": [
            "CPU times: user 37min, sys: 45.6 s, total: 37min 45s\n",
            "Wall time: 34min 44s\n"
          ],
          "name": "stdout"
        }
      ]
    },
    {
      "cell_type": "markdown",
      "metadata": {
        "id": "QZVD8fZe0Vhh",
        "colab_type": "text"
      },
      "source": [
        "### cycle stock envs in trading\n"
      ]
    },
    {
      "cell_type": "code",
      "metadata": {
        "id": "hpGHWI1l5oKZ",
        "colab_type": "code",
        "colab": {}
      },
      "source": [
        "model = PPO2(MlpPolicy, cycle_stock_envs[symbols[0]])"
      ],
      "execution_count": 0,
      "outputs": []
    },
    {
      "cell_type": "code",
      "metadata": {
        "id": "n-GoH62k0aDe",
        "colab_type": "code",
        "outputId": "499448c5-8b7f-4e0b-c6cb-7e687d7aeba8",
        "colab": {
          "base_uri": "https://localhost:8080/",
          "height": 417
        }
      },
      "source": [
        "num_cycles = 2\n",
        "start_time = time.time()\n",
        "\n",
        "for x in range(num_cycles):\n",
        "    print('On cycle ' + str(x+1))\n",
        "    for s in cycle_stock_envs.keys():\n",
        "        print('Training on ' + s)\n",
        "        model.set_env(cycle_stock_envs[s])\n",
        "        model.learn(total_timesteps = 250000)\n",
        "        print('elapsed time: ' + str((time.time()-start_time)/60) + ' min')\n",
        "    print('Saving model')\n",
        "    model.save('/gdrive/My Drive/Masters project/data/models/cycle_trained_model_sent_pred_2_cycle.zip')\n",
        "\n"
      ],
      "execution_count": 0,
      "outputs": [
        {
          "output_type": "stream",
          "text": [
            "On cycle 1\n",
            "Training on aapl\n"
          ],
          "name": "stdout"
        },
        {
          "output_type": "stream",
          "text": [
            "/content/cloned-repo/custom_anytrading/envs/custom_stock_env.py:180: RuntimeWarning: invalid value encountered in double_scalars\n",
            "  self.cost_basis = (prev_cost + additional_cost) / (self.shares_held + shares_bought)\n"
          ],
          "name": "stderr"
        },
        {
          "output_type": "stream",
          "text": [
            "elapsed time: 3.630121115843455 min\n",
            "Training on fb\n",
            "elapsed time: 8.514829345544179 min\n",
            "Training on amzn\n",
            "elapsed time: 13.378830103079478 min\n",
            "Training on goog\n",
            "elapsed time: 18.223041252295175 min\n",
            "Saving model\n",
            "On cycle 2\n",
            "Training on aapl\n",
            "elapsed time: 21.77551728884379 min\n",
            "Training on fb\n",
            "elapsed time: 26.626224120457966 min\n",
            "Training on amzn\n",
            "elapsed time: 31.459122069676717 min\n",
            "Training on goog\n",
            "elapsed time: 36.28467314640681 min\n",
            "Saving model\n"
          ],
          "name": "stdout"
        }
      ]
    },
    {
      "cell_type": "markdown",
      "metadata": {
        "id": "xdUTmbIXGt_c",
        "colab_type": "text"
      },
      "source": [
        "## load a trained model"
      ]
    },
    {
      "cell_type": "code",
      "metadata": {
        "id": "584yHSZbisa_",
        "colab_type": "code",
        "colab": {}
      },
      "source": [
        "#sent_model = PPO2.load('/gdrive/My Drive/Masters project/data/models/aapl_trained_model_sent_real_pred.zip')\n",
        "\n",
        "aapl_base_model = PPO2.load('/gdrive/My Drive/Masters project/data/models/aapl_trained_model_base.zip')\n",
        "\n",
        "cycle_base_model = PPO2.load('/gdrive/My Drive/Masters project/data/models/cycle_trained_model_base.zip')\n",
        "\n",
        "aapl_sent_model = PPO2.load('/gdrive/My Drive/Masters project/data/models/aapl_trained_model_sent_real_pred.zip')\n",
        "\n",
        "cycle_sent_model = PPO2.load('/gdrive/My Drive/Masters project/data/models/cycle_trained_model_sent_pred.zip')"
      ],
      "execution_count": 0,
      "outputs": []
    },
    {
      "cell_type": "markdown",
      "metadata": {
        "id": "WMhNXW8fGxb-",
        "colab_type": "text"
      },
      "source": [
        "## build a testing env"
      ]
    },
    {
      "cell_type": "code",
      "metadata": {
        "id": "bzheWkXdGOzA",
        "colab_type": "code",
        "outputId": "2bd12365-bdf2-4321-bcf4-ea693dae1831",
        "colab": {
          "base_uri": "https://localhost:8080/",
          "height": 455
        }
      },
      "source": [
        "# symbol = 'FB'\n",
        "# data = DataReader(symbol, 'yahoo', start='2018-01-01', end='2020-01-01')\n",
        "# test_data = DataReader(symbol, 'yahoo', start='2019-06-01', end='2019-12-31')\n",
        "\n",
        "# Load sentiment data\n",
        "test_data = pd.read_csv('/gdrive/My Drive/Masters project/data/data_with_sent/aapl_sent_test.csv')\n",
        "test_data.set_index('Date', inplace=True)\n",
        "data = aapl\n",
        "test_data"
      ],
      "execution_count": 0,
      "outputs": [
        {
          "output_type": "execute_result",
          "data": {
            "text/html": [
              "<div>\n",
              "<style scoped>\n",
              "    .dataframe tbody tr th:only-of-type {\n",
              "        vertical-align: middle;\n",
              "    }\n",
              "\n",
              "    .dataframe tbody tr th {\n",
              "        vertical-align: top;\n",
              "    }\n",
              "\n",
              "    .dataframe thead th {\n",
              "        text-align: right;\n",
              "    }\n",
              "</style>\n",
              "<table border=\"1\" class=\"dataframe\">\n",
              "  <thead>\n",
              "    <tr style=\"text-align: right;\">\n",
              "      <th></th>\n",
              "      <th>Open</th>\n",
              "      <th>High</th>\n",
              "      <th>Low</th>\n",
              "      <th>Close</th>\n",
              "      <th>Adj Close</th>\n",
              "      <th>Volume</th>\n",
              "      <th>Sentiment Score</th>\n",
              "    </tr>\n",
              "    <tr>\n",
              "      <th>Date</th>\n",
              "      <th></th>\n",
              "      <th></th>\n",
              "      <th></th>\n",
              "      <th></th>\n",
              "      <th></th>\n",
              "      <th></th>\n",
              "      <th></th>\n",
              "    </tr>\n",
              "  </thead>\n",
              "  <tbody>\n",
              "    <tr>\n",
              "      <th>2020-01-02</th>\n",
              "      <td>296.239990</td>\n",
              "      <td>300.600006</td>\n",
              "      <td>295.190002</td>\n",
              "      <td>300.350006</td>\n",
              "      <td>299.638885</td>\n",
              "      <td>33870100.0</td>\n",
              "      <td>0.123113</td>\n",
              "    </tr>\n",
              "    <tr>\n",
              "      <th>2020-01-03</th>\n",
              "      <td>297.149994</td>\n",
              "      <td>300.579987</td>\n",
              "      <td>296.500000</td>\n",
              "      <td>297.429993</td>\n",
              "      <td>296.725769</td>\n",
              "      <td>36580700.0</td>\n",
              "      <td>0.143487</td>\n",
              "    </tr>\n",
              "    <tr>\n",
              "      <th>2020-01-06</th>\n",
              "      <td>293.790009</td>\n",
              "      <td>299.959991</td>\n",
              "      <td>292.750000</td>\n",
              "      <td>299.799988</td>\n",
              "      <td>299.090149</td>\n",
              "      <td>29596800.0</td>\n",
              "      <td>0.110053</td>\n",
              "    </tr>\n",
              "    <tr>\n",
              "      <th>2020-01-07</th>\n",
              "      <td>299.839996</td>\n",
              "      <td>300.899994</td>\n",
              "      <td>297.480011</td>\n",
              "      <td>298.390015</td>\n",
              "      <td>297.683533</td>\n",
              "      <td>27218000.0</td>\n",
              "      <td>0.169673</td>\n",
              "    </tr>\n",
              "    <tr>\n",
              "      <th>2020-01-08</th>\n",
              "      <td>297.160004</td>\n",
              "      <td>304.440002</td>\n",
              "      <td>297.160004</td>\n",
              "      <td>303.190002</td>\n",
              "      <td>302.472137</td>\n",
              "      <td>33019800.0</td>\n",
              "      <td>0.116347</td>\n",
              "    </tr>\n",
              "    <tr>\n",
              "      <th>...</th>\n",
              "      <td>...</td>\n",
              "      <td>...</td>\n",
              "      <td>...</td>\n",
              "      <td>...</td>\n",
              "      <td>...</td>\n",
              "      <td>...</td>\n",
              "      <td>...</td>\n",
              "    </tr>\n",
              "    <tr>\n",
              "      <th>2020-03-25</th>\n",
              "      <td>250.750000</td>\n",
              "      <td>258.250000</td>\n",
              "      <td>244.300003</td>\n",
              "      <td>245.520004</td>\n",
              "      <td>245.520004</td>\n",
              "      <td>75900500.0</td>\n",
              "      <td>-0.104667</td>\n",
              "    </tr>\n",
              "    <tr>\n",
              "      <th>2020-03-26</th>\n",
              "      <td>246.520004</td>\n",
              "      <td>258.679993</td>\n",
              "      <td>246.360001</td>\n",
              "      <td>258.440002</td>\n",
              "      <td>258.440002</td>\n",
              "      <td>63021800.0</td>\n",
              "      <td>-0.021880</td>\n",
              "    </tr>\n",
              "    <tr>\n",
              "      <th>2020-03-27</th>\n",
              "      <td>252.750000</td>\n",
              "      <td>255.869995</td>\n",
              "      <td>247.050003</td>\n",
              "      <td>247.740005</td>\n",
              "      <td>247.740005</td>\n",
              "      <td>51054200.0</td>\n",
              "      <td>0.115967</td>\n",
              "    </tr>\n",
              "    <tr>\n",
              "      <th>2020-03-30</th>\n",
              "      <td>250.740005</td>\n",
              "      <td>255.520004</td>\n",
              "      <td>249.399994</td>\n",
              "      <td>254.809998</td>\n",
              "      <td>254.809998</td>\n",
              "      <td>41994100.0</td>\n",
              "      <td>0.130080</td>\n",
              "    </tr>\n",
              "    <tr>\n",
              "      <th>2020-03-31</th>\n",
              "      <td>255.600006</td>\n",
              "      <td>262.489990</td>\n",
              "      <td>252.000000</td>\n",
              "      <td>254.289993</td>\n",
              "      <td>254.289993</td>\n",
              "      <td>49250500.0</td>\n",
              "      <td>0.040727</td>\n",
              "    </tr>\n",
              "  </tbody>\n",
              "</table>\n",
              "<p>62 rows × 7 columns</p>\n",
              "</div>"
            ],
            "text/plain": [
              "                  Open        High  ...      Volume  Sentiment Score\n",
              "Date                                ...                             \n",
              "2020-01-02  296.239990  300.600006  ...  33870100.0         0.123113\n",
              "2020-01-03  297.149994  300.579987  ...  36580700.0         0.143487\n",
              "2020-01-06  293.790009  299.959991  ...  29596800.0         0.110053\n",
              "2020-01-07  299.839996  300.899994  ...  27218000.0         0.169673\n",
              "2020-01-08  297.160004  304.440002  ...  33019800.0         0.116347\n",
              "...                ...         ...  ...         ...              ...\n",
              "2020-03-25  250.750000  258.250000  ...  75900500.0        -0.104667\n",
              "2020-03-26  246.520004  258.679993  ...  63021800.0        -0.021880\n",
              "2020-03-27  252.750000  255.869995  ...  51054200.0         0.115967\n",
              "2020-03-30  250.740005  255.520004  ...  41994100.0         0.130080\n",
              "2020-03-31  255.600006  262.489990  ...  49250500.0         0.040727\n",
              "\n",
              "[62 rows x 7 columns]"
            ]
          },
          "metadata": {
            "tags": []
          },
          "execution_count": 97
        }
      ]
    },
    {
      "cell_type": "code",
      "metadata": {
        "id": "V_p8_-JvXNFj",
        "colab_type": "code",
        "outputId": "3ff46226-8d7d-4963-f99b-7eafb190967f",
        "colab": {
          "base_uri": "https://localhost:8080/",
          "height": 35
        }
      },
      "source": [
        "test_env = gym.make(\n",
        "    'custom_stocks-v0',\n",
        "    stock_df = test_data,\n",
        "    pred_df = test_data,\n",
        "    window_size = 14,\n",
        "    initial_balance = 5000,\n",
        "    min_percent_loss = 1,\n",
        "    with_pred = True,\n",
        "    test_env = True,\n",
        "    train_df = data\n",
        "    )"
      ],
      "execution_count": 0,
      "outputs": [
        {
          "output_type": "stream",
          "text": [
            "This is a testing environment, scaling based on training data.\n"
          ],
          "name": "stdout"
        }
      ]
    },
    {
      "cell_type": "code",
      "metadata": {
        "id": "lLrYD7f4Xi46",
        "colab_type": "code",
        "outputId": "1858c872-3cf0-4f83-e0d8-4925bfafb3e9",
        "colab": {
          "base_uri": "https://localhost:8080/",
          "height": 665
        }
      },
      "source": [
        "print(\"env information:\")\n",
        "print(\"> shape:\", test_env.shape)\n",
        "print(\"> df.shape:\", test_env.df.shape)\n",
        "\n",
        "test_env.reset()\n",
        "\n",
        "obs, rewards, done, info = test_env.step([0,0,1,0])\n",
        "print(obs)\n",
        "\n",
        "plt.plot(test_env.scale_df['High'])\n",
        "plt.plot(test_env.scale_df['Low'])\n",
        "plt.show()"
      ],
      "execution_count": 0,
      "outputs": [
        {
          "output_type": "stream",
          "text": [
            "env information:\n",
            "> shape: (14, 7)\n",
            "> df.shape: (62, 7)\n",
            "        Open      High       Low  ...  Adj Close    Volume  Sentiment Score\n",
            "0   1.365825  1.371886  1.360366  ...   1.358810  0.008465         0.036633\n",
            "1   1.362988  1.370037  1.353231  ...   1.365370  0.008823         0.094407\n",
            "2   1.373003  1.386242  1.361269  ...   1.361425  0.014521         0.293060\n",
            "3   1.329204  1.336554  1.306939  ...   1.321289  0.016607         0.083800\n",
            "4   1.340122  1.365051  1.338359  ...   1.358767  0.016647         0.041007\n",
            "5   1.391056  1.405670  1.377860  ...   1.387282  0.023961        -0.009940\n",
            "6   1.374250  1.389509  1.366556  ...   1.385267  0.011840         0.061727\n",
            "7   1.375926  1.383448  1.321596  ...   1.323690  0.021707         0.086873\n",
            "8   1.304446  1.343947  1.295506  ...   1.320045  0.018239         0.028740\n",
            "9   1.351770  1.370381  1.344549  ...   1.363741  0.013177         0.041293\n",
            "10  1.387058  1.392388  1.367416  ...   1.374890  0.010767        -0.013047\n",
            "11  1.382975  1.394366  1.373046  ...   1.391013  0.008952         0.074920\n",
            "12  1.382116  1.386543  1.363332  ...   1.372058  0.010612         0.077333\n",
            "13  1.346913  1.378591  1.345494  ...   1.378591  0.009483         0.075867\n",
            "\n",
            "[14 rows x 7 columns]\n"
          ],
          "name": "stdout"
        },
        {
          "output_type": "stream",
          "text": [
            "/content/cloned-repo/custom_anytrading/envs/custom_stock_env.py:180: RuntimeWarning: invalid value encountered in double_scalars\n",
            "  self.cost_basis = (prev_cost + additional_cost) / (self.shares_held + shares_bought)\n"
          ],
          "name": "stderr"
        },
        {
          "output_type": "display_data",
          "data": {
            "image/png": "[encoded data removed]",
            "text/plain": [
              "<Figure size 432x288 with 1 Axes>"
            ]
          },
          "metadata": {
            "tags": []
          }
        }
      ]
    },
    {
      "cell_type": "markdown",
      "metadata": {
        "id": "3rqR0e7aG0jr",
        "colab_type": "text"
      },
      "source": [
        "# Run a testing simulation"
      ]
    },
    {
      "cell_type": "code",
      "metadata": {
        "id": "EOZno9ggGr6N",
        "colab_type": "code",
        "colab": {}
      },
      "source": [
        "def test_model(model, env, sims):\n",
        "    profits = []\n",
        "    stocks_held = []\n",
        "    net_worth = []\n",
        "\n",
        "    for i in range(sims):\n",
        "        obs = env.reset()\n",
        "        stocks_held = []\n",
        "        net_worth = []\n",
        "        while True:\n",
        "            action, _states = model.predict(obs)\n",
        "            obs, rewards, done, info = env.step(action)\n",
        "            stocks_held.append(info['shares'])\n",
        "            net_worth.append(info['net_worth'])\n",
        "            if done:\n",
        "                if(i%10 == 0):\n",
        "                    print('finished sim %d/%d'%(i,sims))\n",
        "                profits.append(info['profit'])\n",
        "                break\n",
        "\n",
        "\n",
        "    pos_count = len(list(filter(lambda x: (x >= 0), profits))) \n",
        "    print('made profit - ' + str(pos_count/len(profits)))\n",
        "    print('mean profit - ' + str(np.mean(profits)))\n",
        "\n",
        "    plt.hist(profits)\n",
        "    plt.show()\n",
        "\n",
        "    #env.render()\n",
        "\n",
        "    print('stocks held per time')\n",
        "    plt.plot(stocks_held)\n",
        "    plt.show()\n",
        "\n",
        "    print('net worth per time')\n",
        "    plt.plot(net_worth)\n",
        "    plt.show()"
      ],
      "execution_count": 0,
      "outputs": []
    },
    {
      "cell_type": "code",
      "metadata": {
        "id": "cOS6gaTCMoxG",
        "colab_type": "code",
        "colab": {}
      },
      "source": [
        "def rand_test_env(env, sims):\n",
        "    profits = []\n",
        "    stocks_held = []\n",
        "    net_worth = []\n",
        "\n",
        "    for i in range(sims):\n",
        "        obs = env.reset()\n",
        "        stocks_held = []\n",
        "        net_worth = []\n",
        "        while True:\n",
        "            #random action\n",
        "            action = [random.uniform(0, 1), random.uniform(0, 1), random.uniform(0, 1), random.uniform(0, 1)]\n",
        "\n",
        "            obs, rewards, done, info = env.step(action)\n",
        "            stocks_held.append(info['shares'])\n",
        "            net_worth.append(info['net_worth'])\n",
        "            if done:\n",
        "                if(i%10 == 0):\n",
        "                    print('finished sim %d/%d'%(i,sims))\n",
        "                profits.append(info['profit'])\n",
        "                break\n",
        "\n",
        "\n",
        "    pos_count = len(list(filter(lambda x: (x >= 0), profits))) \n",
        "    print('made profit - ' + str(pos_count/len(profits)))\n",
        "    print('mean profit - ' + str(np.mean(profits)))\n",
        "\n",
        "\n",
        "    plt.hist(profits)\n",
        "    plt.show()\n",
        "\n",
        "    #env.render()\n",
        "\n",
        "    print('stocks held per time')\n",
        "    plt.plot(stocks_held)\n",
        "    plt.show()\n",
        "\n",
        "    print('net worth per time')\n",
        "    plt.plot(net_worth)\n",
        "    plt.show()"
      ],
      "execution_count": 0,
      "outputs": []
    },
    {
      "cell_type": "code",
      "metadata": {
        "id": "F25LoqC_NPmx",
        "colab_type": "code",
        "outputId": "a92804b4-be86-4833-935a-e19d40a9de58",
        "colab": {
          "base_uri": "https://localhost:8080/",
          "height": 1000
        }
      },
      "source": [
        "rand_test_env(test_env, 100)"
      ],
      "execution_count": 0,
      "outputs": [
        {
          "output_type": "stream",
          "text": [
            "finished sim 0/100\n",
            "finished sim 10/100\n",
            "finished sim 20/100\n",
            "finished sim 30/100\n",
            "finished sim 40/100\n",
            "finished sim 50/100\n",
            "finished sim 60/100\n"
          ],
          "name": "stdout"
        },
        {
          "output_type": "stream",
          "text": [
            "/content/cloned-repo/custom_anytrading/envs/custom_stock_env.py:180: RuntimeWarning: invalid value encountered in double_scalars\n",
            "  self.cost_basis = (prev_cost + additional_cost) / (self.shares_held + shares_bought)\n"
          ],
          "name": "stderr"
        },
        {
          "output_type": "stream",
          "text": [
            "finished sim 70/100\n",
            "finished sim 80/100\n",
            "finished sim 90/100\n",
            "made profit - 0.13\n",
            "mean profit - -297.003174742596\n"
          ],
          "name": "stdout"
        },
        {
          "output_type": "display_data",
          "data": {
            "image/png": "[encoded data removed]",
            "text/plain": [
              "<Figure size 432x288 with 1 Axes>"
            ]
          },
          "metadata": {
            "tags": []
          }
        },
        {
          "output_type": "stream",
          "text": [
            "stocks held per time\n"
          ],
          "name": "stdout"
        },
        {
          "output_type": "display_data",
          "data": {
            "image/png": "[encoded data removed]",
            "text/plain": [
              "<Figure size 432x288 with 1 Axes>"
            ]
          },
          "metadata": {
            "tags": []
          }
        },
        {
          "output_type": "stream",
          "text": [
            "net worth per time\n"
          ],
          "name": "stdout"
        },
        {
          "output_type": "display_data",
          "data": {
            "image/png": "[encoded data removed]",
            "text/plain": [
              "<Figure size 432x288 with 1 Axes>"
            ]
          },
          "metadata": {
            "tags": []
          }
        }
      ]
    },
    {
      "cell_type": "code",
      "metadata": {
        "id": "z8FKCyQTdQsh",
        "colab_type": "code",
        "outputId": "cbc9478b-aafb-45b6-ab75-04560dda5671",
        "colab": {
          "base_uri": "https://localhost:8080/",
          "height": 1000
        }
      },
      "source": [
        "test_model(model, test_env, 100)"
      ],
      "execution_count": 0,
      "outputs": [
        {
          "output_type": "stream",
          "text": [
            "/content/cloned-repo/custom_anytrading/envs/custom_stock_env.py:180: RuntimeWarning: invalid value encountered in double_scalars\n",
            "  self.cost_basis = (prev_cost + additional_cost) / (self.shares_held + shares_bought)\n"
          ],
          "name": "stderr"
        },
        {
          "output_type": "stream",
          "text": [
            "finished sim 0/100\n",
            "finished sim 10/100\n",
            "finished sim 20/100\n",
            "finished sim 30/100\n",
            "finished sim 40/100\n",
            "finished sim 50/100\n",
            "finished sim 60/100\n",
            "finished sim 70/100\n",
            "finished sim 80/100\n",
            "finished sim 90/100\n",
            "made profit - 0.42\n",
            "mean profit - -78.49201204541197\n"
          ],
          "name": "stdout"
        },
        {
          "output_type": "display_data",
          "data": {
            "image/png": "[encoded data removed]",
            "text/plain": [
              "<Figure size 432x288 with 1 Axes>"
            ]
          },
          "metadata": {
            "tags": []
          }
        },
        {
          "output_type": "stream",
          "text": [
            "stocks held per time\n"
          ],
          "name": "stdout"
        },
        {
          "output_type": "display_data",
          "data": {
            "image/png": "[encoded data removed]",
            "text/plain": [
              "<Figure size 432x288 with 1 Axes>"
            ]
          },
          "metadata": {
            "tags": []
          }
        },
        {
          "output_type": "stream",
          "text": [
            "net worth per time\n"
          ],
          "name": "stdout"
        },
        {
          "output_type": "display_data",
          "data": {
            "image/png": "[encoded data removed]",
            "text/plain": [
              "<Figure size 432x288 with 1 Axes>"
            ]
          },
          "metadata": {
            "tags": []
          }
        }
      ]
    },
    {
      "cell_type": "code",
      "metadata": {
        "id": "w6vO1mATHNhf",
        "colab_type": "code",
        "outputId": "c61ae68e-3c7e-4fc3-9210-0b92b18d9c98",
        "colab": {
          "base_uri": "https://localhost:8080/",
          "height": 1000
        }
      },
      "source": [
        "test_model(aapl_base_model, test_env, 100)"
      ],
      "execution_count": 0,
      "outputs": [
        {
          "output_type": "stream",
          "text": [
            "/content/cloned-repo/custom_anytrading/envs/custom_stock_env.py:180: RuntimeWarning: invalid value encountered in double_scalars\n",
            "  self.cost_basis = (prev_cost + additional_cost) / (self.shares_held + shares_bought)\n"
          ],
          "name": "stderr"
        },
        {
          "output_type": "stream",
          "text": [
            "finished sim 0/100\n",
            "finished sim 10/100\n",
            "finished sim 20/100\n",
            "finished sim 30/100\n",
            "finished sim 40/100\n",
            "finished sim 50/100\n",
            "finished sim 60/100\n",
            "finished sim 70/100\n",
            "finished sim 80/100\n",
            "finished sim 90/100\n",
            "made profit - 0.69\n",
            "mean profit - 129.9693263721134\n"
          ],
          "name": "stdout"
        },
        {
          "output_type": "display_data",
          "data": {
            "image/png": "[encoded data removed]",
            "text/plain": [
              "<Figure size 432x288 with 1 Axes>"
            ]
          },
          "metadata": {
            "tags": []
          }
        },
        {
          "output_type": "stream",
          "text": [
            "stocks held per time\n"
          ],
          "name": "stdout"
        },
        {
          "output_type": "display_data",
          "data": {
            "image/png": "[encoded data removed]",
            "text/plain": [
              "<Figure size 432x288 with 1 Axes>"
            ]
          },
          "metadata": {
            "tags": []
          }
        },
        {
          "output_type": "stream",
          "text": [
            "net worth per time\n"
          ],
          "name": "stdout"
        },
        {
          "output_type": "display_data",
          "data": {
            "image/png": "[encoded data removed]",
            "text/plain": [
              "<Figure size 432x288 with 1 Axes>"
            ]
          },
          "metadata": {
            "tags": []
          }
        }
      ]
    },
    {
      "cell_type": "markdown",
      "metadata": {
        "id": "FMQ8bZo9Q55j",
        "colab_type": "text"
      },
      "source": [
        "## test the sentiment model"
      ]
    },
    {
      "cell_type": "code",
      "metadata": {
        "id": "EASBYb1wlF9N",
        "colab_type": "code",
        "outputId": "1c02c616-2796-405e-9804-3bf5c7def249",
        "colab": {
          "base_uri": "https://localhost:8080/",
          "height": 36
        }
      },
      "source": [
        "data = aapl\n",
        "\n",
        "test_env = gym.make(\n",
        "    'custom_stocks-v0',\n",
        "    stock_df = data.tail(200),\n",
        "    pred_df = data.tail(200),\n",
        "    window_size = 14,\n",
        "    initial_balance = 5000,\n",
        "    min_percent_loss = 1,\n",
        "    with_pred = True,\n",
        "    test_env = True,\n",
        "    train_df = data.head(-500)\n",
        "    )"
      ],
      "execution_count": 0,
      "outputs": [
        {
          "output_type": "stream",
          "text": [
            "This is a testing environment, scaling based on training data.\n"
          ],
          "name": "stdout"
        }
      ]
    },
    {
      "cell_type": "code",
      "metadata": {
        "id": "aTDGBicnQ_qH",
        "colab_type": "code",
        "outputId": "6006d63b-af5e-4105-b716-c62772c92bb0",
        "colab": {
          "base_uri": "https://localhost:8080/",
          "height": 697
        }
      },
      "source": [
        "print(\"env information:\")\n",
        "print(\"> shape:\", test_env.shape)\n",
        "print(\"> df.shape:\", test_env.df.shape)\n",
        "\n",
        "test_env.reset()\n",
        "\n",
        "obs, rewards, done, info = test_env.step([0,0,1,0])\n",
        "print(obs)\n",
        "\n",
        "plt.plot(test_env.scale_df['High'])\n",
        "plt.plot(test_env.scale_df['Low'])\n",
        "plt.show()"
      ],
      "execution_count": 0,
      "outputs": [
        {
          "output_type": "stream",
          "text": [
            "env information:\n",
            "> shape: (14, 7)\n",
            "> df.shape: (200, 7)\n",
            "        Open      High       Low  ...  Adj Close    Volume  sentiment_score\n",
            "0   1.366479  1.375227  1.364758  ...   1.347048  0.003834         0.022900\n",
            "1   1.373865  1.377163  1.359668  ...   1.335931  0.006396         0.067707\n",
            "2   1.367627  1.367770  1.358090  ...   1.336635  0.006380         0.032527\n",
            "3   1.356728  1.357660  1.344036  ...   1.322844  0.028113         0.017347\n",
            "4   1.341311  1.350920  1.336435  ...   1.322140  0.004687         0.074553\n",
            "5   1.321664  1.330197  1.309546  ...   1.300680  0.012865        -0.149687\n",
            "6   1.330341  1.336435  1.325895  ...   1.306379  0.005848        -0.127927\n",
            "7   1.336794  1.344681  1.320230  ...   1.299062  0.008603         0.014393\n",
            "8   1.328691  1.328906  1.318509  ...   1.295262  0.009409         0.062287\n",
            "9   1.309188  1.320087  1.290043  ...   1.275913  0.011827        -0.127067\n",
            "10  1.306248  1.331631  1.303021  ...   1.291815  0.007984         0.008713\n",
            "11  1.322310  1.337009  1.313705  ...   1.289915  0.008372         0.150880\n",
            "12  1.314207  1.329337  1.312056  ...   1.299343  0.004080         0.096647\n",
            "13  1.329910  1.336364  1.305674  ...   1.296599  0.006991         0.000000\n",
            "\n",
            "[14 rows x 7 columns]\n"
          ],
          "name": "stdout"
        },
        {
          "output_type": "stream",
          "text": [
            "/content/cloned-repo/custom_anytrading/envs/custom_stock_env.py:180: RuntimeWarning: invalid value encountered in double_scalars\n",
            "  self.cost_basis = (prev_cost + additional_cost) / (self.shares_held + shares_bought)\n"
          ],
          "name": "stderr"
        },
        {
          "output_type": "display_data",
          "data": {
            "image/png": "[encoded data removed]",
            "text/plain": [
              "<Figure size 432x288 with 1 Axes>"
            ]
          },
          "metadata": {
            "tags": []
          }
        }
      ]
    },
    {
      "cell_type": "code",
      "metadata": {
        "id": "oVeIk5gaRBDE",
        "colab_type": "code",
        "outputId": "b85b01f0-5ac6-4e02-ca59-24ec0701e9ff",
        "colab": {
          "base_uri": "https://localhost:8080/",
          "height": 712
        }
      },
      "source": [
        "profits = []\n",
        "sims = 100\n",
        "\n",
        "for i in range(sims):\n",
        "    obs = test_env.reset()\n",
        "    while True:\n",
        "        action, _states = sent_model.predict(obs)\n",
        "        obs, rewards, done, info = test_env.step(action)\n",
        "        if done:\n",
        "            if(i%10 == 0):\n",
        "                print('finished sim %d/%d'%(i,sims))\n",
        "            profits.append(info['profit'])\n",
        "            break\n",
        "\n",
        "print(profits)\n",
        "\n",
        "pos_count = len(list(filter(lambda x: (x >= 0), profits))) \n",
        "print('made profit - ' + str(pos_count/len(profits)))\n",
        "\n",
        "plt.hist(profits)\n",
        "plt.show()\n",
        "\n",
        "test_env.render()"
      ],
      "execution_count": 0,
      "outputs": [
        {
          "output_type": "stream",
          "text": [
            "/content/cloned-repo/custom_anytrading/envs/custom_stock_env.py:180: RuntimeWarning: invalid value encountered in double_scalars\n",
            "  self.cost_basis = (prev_cost + additional_cost) / (self.shares_held + shares_bought)\n"
          ],
          "name": "stderr"
        },
        {
          "output_type": "stream",
          "text": [
            "finished sim 0/100\n",
            "finished sim 10/100\n",
            "finished sim 20/100\n",
            "finished sim 30/100\n",
            "finished sim 40/100\n",
            "finished sim 50/100\n",
            "finished sim 60/100\n",
            "finished sim 70/100\n",
            "finished sim 80/100\n",
            "finished sim 90/100\n",
            "[2307.456070263337, 3756.9039918443123, 2191.660030144515, 2194.5763109500267, 3750.9760342986483, 1928.1895452908748, 2557.104162094206, 3102.6185883117587, 1071.688630884325, 2389.8758037253792, 1663.6522880063621, 2050.9681623276365, 2379.379501374756, 2888.5150092618887, 3500.1267084943865, 2930.2367990928515, 3838.020015514776, 2949.143715690425, 2487.302515303769, 2437.14322895247, 1764.462553099549, 2524.995309318736, 3922.719880625842, 1796.4268765659926, 2378.4500887507475, 1843.8055725203685, 2969.9553914041317, 2036.4900480414408, 1829.2416205346171, 2928.715086561967, 2412.4481708567573, 3792.772357822734, 1945.901530011889, 2305.988072432444, 2608.4384853524407, 3750.632788966719, 3029.283826388668, 1868.4264796756433, 2869.7908750428696, 2874.6780783311087, 4222.652978117143, 2913.1330870571783, 2060.8081429125887, 2616.610040127195, 2256.5319966131583, 2184.3649890867036, 2781.115673287123, 3330.7299267305825, 1906.7263138970457, 2356.2301280410156, 3408.3181181158943, 2989.2201123644136, 2527.4233419073144, 2790.829373894888, 1601.4854844775182, 2082.8535239821276, 1166.8602069961398, 2120.5473002149674, 1897.4682575335664, 2959.809522547118, 2780.315555580931, 2128.3881139204186, 2617.7663707403544, 3203.9072360972204, 3312.9476262483568, 3080.455385283496, 2453.4921800070597, 2603.0827002865653, 1706.6545558233383, 2361.157800685447, 2437.8436447973227, 3025.1483550114854, 2971.4099074384085, 3237.626674509169, 1536.284204146098, 3293.896702686501, 2945.256842762692, 2587.3465940817723, 2809.9285020204607, 2227.661416382656, 3231.1885960899, 2704.5089562632093, 1598.3614600594192, 2604.9426587900953, 3285.8596347629627, 2275.2721741175856, 4234.377755948666, 2272.9829259116723, 1584.5145528440853, 1645.9301024044507, 869.4675432443801, 2363.5159910910206, 2247.800180511318, 2872.1848653614315, 3364.5691923937866, 2235.691574538222, 2623.013402512841, 1702.6208072964728, 2586.496346230704, 1693.045326273852]\n",
            "made profit - 1.0\n"
          ],
          "name": "stdout"
        },
        {
          "output_type": "display_data",
          "data": {
            "image/png": "[encoded data removed]",
            "text/plain": [
              "<Figure size 432x288 with 1 Axes>"
            ]
          },
          "metadata": {
            "tags": []
          }
        },
        {
          "output_type": "stream",
          "text": [
            "mode: with predictions\n",
            "Step: 14\n",
            "initial_balance: 5000\n",
            "min_balance: 0\n",
            "Balance: 53.58382846058066\n",
            "Shares held: 39 (Total sold: 514)\n",
            "Avg cost for held shares: 143.15697861236157 (Total sales value: 103358.3327504478)\n",
            "Net worth: 6693.045326273852 (Max net worth: 6849.259183294014)\n",
            "Profit: 1693.045326273852\n"
          ],
          "name": "stdout"
        }
      ]
    },
    {
      "cell_type": "markdown",
      "metadata": {
        "id": "zzZ7eJWTjvoU",
        "colab_type": "text"
      },
      "source": [
        "# Load LSTM model for predictions"
      ]
    },
    {
      "cell_type": "code",
      "metadata": {
        "id": "9Flddex3lyZH",
        "colab_type": "code",
        "outputId": "5bafb0b0-a6b0-4d9a-b077-abcdbb19f701",
        "colab": {
          "base_uri": "https://localhost:8080/",
          "height": 139
        }
      },
      "source": [
        "import numpy as np \n",
        "import pandas as pd \n",
        "import matplotlib.pyplot as plt \n",
        "from sklearn.preprocessing import MinMaxScaler\n",
        "from keras.models import Sequential\n",
        "from keras.layers import Dense,LSTM,Dropout\n",
        "from pandas_datareader.data import DataReader\n",
        "from tensorflow.python.keras.models import load_model\n",
        "import datetime\n",
        "from datetime import date, datetime, timedelta\n",
        "\n",
        "from google.colab import drive\n",
        "drive.mount('/content/drive')\n",
        "lstm_model_path = '/content/drive/My Drive/Masters project/LSTM_model_4.h5'\n"
      ],
      "execution_count": 0,
      "outputs": [
        {
          "output_type": "stream",
          "text": [
            "Using TensorFlow backend.\n"
          ],
          "name": "stderr"
        },
        {
          "output_type": "stream",
          "text": [
            "Go to this URL in a browser: https://accounts.google.com/o/oauth2/auth?client_id=947318989803-6bn6qk8qdgf4n4g3pfee6491hc0brc4i.apps.googleusercontent.com&redirect_uri=urn%3aietf%3awg%3aoauth%3a2.0%3aoob&response_type=code&scope=email%20https%3a%2f%2fwww.googleapis.com%2fauth%2fdocs.test%20https%3a%2f%2fwww.googleapis.com%2fauth%2fdrive%20https%3a%2f%2fwww.googleapis.com%2fauth%2fdrive.photos.readonly%20https%3a%2f%2fwww.googleapis.com%2fauth%2fpeopleapi.readonly\n",
            "\n",
            "Enter your authorization code:\n",
            "··········\n",
            "Mounted at /content/drive\n"
          ],
          "name": "stdout"
        }
      ]
    },
    {
      "cell_type": "code",
      "metadata": {
        "id": "4YnE0UAij2nf",
        "colab_type": "code",
        "outputId": "008a27fe-a715-433e-91b2-0caf7d521db4",
        "colab": {
          "base_uri": "https://localhost:8080/",
          "height": 388
        }
      },
      "source": [
        "# Method parameters: stock ticker, start date, number of days to predict\n",
        "# Return: dataframe with predictions\n",
        "\n",
        "class LSTMStockPrediction():\n",
        "    # ticker - stock ticker\n",
        "    # d - day (YYYY-MM-DD) to start the prediction\n",
        "    # n - number of days to predict starting from date d\n",
        "    def __init__(self, model):\n",
        "\n",
        "        self.model = model\n",
        "        self.history_len = 60\n",
        "\n",
        "    def predict(self, ticker, d, n):\n",
        "        # getting previous 90 days of stock data\n",
        "        startDate = datetime.strptime(d, '%Y-%m-%d') - timedelta(days=self.history_len+self.history_len)\n",
        "        # Preparing data for prediction\n",
        "        data = DataReader(ticker, 'yahoo', start=startDate, end=d)\n",
        "\n",
        "        # Using last 60 stock data for LSTM model\n",
        "        inputClosing = data.tail(self.history_len)\n",
        "\n",
        "        sc = MinMaxScaler(feature_range=(0,1)) # scaling data\n",
        "        inputClosing_scaled = sc.fit_transform(inputClosing)\n",
        "\n",
        "        # output list\n",
        "        out = []\n",
        "\n",
        "        #for n days, do predictions\n",
        "        #appends the results for \n",
        "        for i in range(n):\n",
        "            #reshape input for model\n",
        "            model_input = np.reshape(inputClosing_scaled[i:i+self.history_len,:].T, (data.shape[1],self.history_len,1))\n",
        "            #do predictions\n",
        "            pred = self.model.predict(model_input)\n",
        "            #reflip and transform\n",
        "            predicted_price = sc.inverse_transform(pred.T)\n",
        "            #put the results to the end of the history array and fix dims\n",
        "            inputClosing_scaled = np.append(inputClosing_scaled, [pred]).reshape(inputClosing_scaled.shape[0]+1 ,data.shape[1])\n",
        "            inputClosing_scaled = np.expand_dims(inputClosing_scaled, axis=1)\n",
        "            #put results to out array\n",
        "            out.append(predicted_price)\n",
        "\n",
        "        #convert array to dataframe, use the colums from data\n",
        "        out = pd.DataFrame(np.concatenate(out), columns=data.columns)\n",
        "        return out\n",
        "\n",
        "\n",
        "lstm_model_path = '/content/drive/My Drive/Masters project/LSTM_model_4.h5'\n",
        "model = load_model(lstm_model_path)\n",
        "lstm = LSTMStockPrediction(model)\n",
        "lstm.predict('FB', '2020-01-01', 7)"
      ],
      "execution_count": 0,
      "outputs": [
        {
          "output_type": "stream",
          "text": [
            "WARNING:tensorflow:From /tensorflow-1.15.2/python3.6/tensorflow_core/python/ops/resource_variable_ops.py:1630: calling BaseResourceVariable.__init__ (from tensorflow.python.ops.resource_variable_ops) with constraint is deprecated and will be removed in a future version.\n",
            "Instructions for updating:\n",
            "If using Keras pass *_constraint arguments to layers.\n",
            "WARNING:tensorflow:From /tensorflow-1.15.2/python3.6/tensorflow_core/python/ops/math_grad.py:1424: where (from tensorflow.python.ops.array_ops) is deprecated and will be removed in a future version.\n",
            "Instructions for updating:\n",
            "Use tf.where in 2.0, which has the same broadcast rule as np.where\n"
          ],
          "name": "stdout"
        },
        {
          "output_type": "execute_result",
          "data": {
            "text/html": [
              "<div>\n",
              "<style scoped>\n",
              "    .dataframe tbody tr th:only-of-type {\n",
              "        vertical-align: middle;\n",
              "    }\n",
              "\n",
              "    .dataframe tbody tr th {\n",
              "        vertical-align: top;\n",
              "    }\n",
              "\n",
              "    .dataframe thead th {\n",
              "        text-align: right;\n",
              "    }\n",
              "</style>\n",
              "<table border=\"1\" class=\"dataframe\">\n",
              "  <thead>\n",
              "    <tr style=\"text-align: right;\">\n",
              "      <th></th>\n",
              "      <th>High</th>\n",
              "      <th>Low</th>\n",
              "      <th>Open</th>\n",
              "      <th>Close</th>\n",
              "      <th>Volume</th>\n",
              "      <th>Adj Close</th>\n",
              "    </tr>\n",
              "  </thead>\n",
              "  <tbody>\n",
              "    <tr>\n",
              "      <th>0</th>\n",
              "      <td>210.855881</td>\n",
              "      <td>208.357361</td>\n",
              "      <td>209.891296</td>\n",
              "      <td>209.743820</td>\n",
              "      <td>12297311.0</td>\n",
              "      <td>209.743820</td>\n",
              "    </tr>\n",
              "    <tr>\n",
              "      <th>1</th>\n",
              "      <td>210.876205</td>\n",
              "      <td>208.452606</td>\n",
              "      <td>210.182205</td>\n",
              "      <td>209.660675</td>\n",
              "      <td>10456580.0</td>\n",
              "      <td>209.660675</td>\n",
              "    </tr>\n",
              "    <tr>\n",
              "      <th>2</th>\n",
              "      <td>210.806915</td>\n",
              "      <td>208.386963</td>\n",
              "      <td>210.259979</td>\n",
              "      <td>209.540024</td>\n",
              "      <td>9309792.0</td>\n",
              "      <td>209.540024</td>\n",
              "    </tr>\n",
              "    <tr>\n",
              "      <th>3</th>\n",
              "      <td>210.891098</td>\n",
              "      <td>208.454544</td>\n",
              "      <td>210.396652</td>\n",
              "      <td>209.633835</td>\n",
              "      <td>8829104.0</td>\n",
              "      <td>209.633835</td>\n",
              "    </tr>\n",
              "    <tr>\n",
              "      <th>4</th>\n",
              "      <td>211.222366</td>\n",
              "      <td>208.781708</td>\n",
              "      <td>210.733841</td>\n",
              "      <td>210.019089</td>\n",
              "      <td>8792432.0</td>\n",
              "      <td>210.019089</td>\n",
              "    </tr>\n",
              "    <tr>\n",
              "      <th>5</th>\n",
              "      <td>211.764847</td>\n",
              "      <td>209.343536</td>\n",
              "      <td>211.278488</td>\n",
              "      <td>210.633835</td>\n",
              "      <td>8923505.0</td>\n",
              "      <td>210.633835</td>\n",
              "    </tr>\n",
              "    <tr>\n",
              "      <th>6</th>\n",
              "      <td>212.417084</td>\n",
              "      <td>210.033524</td>\n",
              "      <td>211.953506</td>\n",
              "      <td>211.354843</td>\n",
              "      <td>9007411.0</td>\n",
              "      <td>211.354843</td>\n",
              "    </tr>\n",
              "  </tbody>\n",
              "</table>\n",
              "</div>"
            ],
            "text/plain": [
              "         High         Low        Open       Close      Volume   Adj Close\n",
              "0  210.855881  208.357361  209.891296  209.743820  12297311.0  209.743820\n",
              "1  210.876205  208.452606  210.182205  209.660675  10456580.0  209.660675\n",
              "2  210.806915  208.386963  210.259979  209.540024   9309792.0  209.540024\n",
              "3  210.891098  208.454544  210.396652  209.633835   8829104.0  209.633835\n",
              "4  211.222366  208.781708  210.733841  210.019089   8792432.0  210.019089\n",
              "5  211.764847  209.343536  211.278488  210.633835   8923505.0  210.633835\n",
              "6  212.417084  210.033524  211.953506  211.354843   9007411.0  211.354843"
            ]
          },
          "metadata": {
            "tags": []
          },
          "execution_count": 44
        }
      ]
    },
    {
      "cell_type": "markdown",
      "metadata": {
        "id": "K1koyhaq1wgW",
        "colab_type": "text"
      },
      "source": [
        "# load PPO2 model for real time predictions"
      ]
    },
    {
      "cell_type": "code",
      "metadata": {
        "id": "9iF_dYYe1vzz",
        "colab_type": "code",
        "colab": {}
      },
      "source": [
        "class RLModel():\n",
        "    def __init__(self, rl_model, pred_model, sent_crawler):\n",
        "\n",
        "        self.rl_model = rl_model\n",
        "        #length of observation\n",
        "        self.obs_len = 14\n",
        "        #date for scaling historical data\n",
        "        self.scaling_start_date = '2016-01-01'\n",
        "\n",
        "        self.pred_model = pred_model\n",
        "        self.sent_crawler = sent_crawler\n",
        "\n",
        "    def _scale_df(self, scaling_df, target_df):\n",
        "        price_columns = ['Open', 'High', 'Low', 'Close', 'Adj Close']\n",
        "        high = scaling_df['High'].max()\n",
        "        low = scaling_df['Adj Close'].min()\n",
        "        diff = high - low\n",
        "\n",
        "        #scale stock info by same scales\n",
        "        target_df[price_columns] = target_df[price_columns].applymap(lambda x: ((x-low)/diff))\n",
        "\n",
        "        #scale volume by itself\n",
        "        scaler = MinMaxScaler()\n",
        "        scaler.fit(scaling_df['Volume'].to_numpy().reshape(-1, 1))\n",
        "        target_df['Volume'] = scaler.transform(target_df['Volume'].to_numpy().reshape(-1, 1))\n",
        "\n",
        "        return target_df\n",
        "\n",
        "    def get_action(self, ticker, day):\n",
        "        #get data\n",
        "        history_start_date = datetime.strptime(day, '%Y-%m-%d') - timedelta(days=self.obs_len)\n",
        "\n",
        "        scaling_df =  DataReader(ticker, 'yahoo', start=self.scaling_start_date)\n",
        "        history_df =  DataReader(ticker, 'yahoo', start=history_start_date, end=day)\n",
        "        history_df = history_df.tail(self.obs_len//2)\n",
        "\n",
        "        #get sentiment for history_df\n",
        "        sent_df = sent_crawler.get_sentiment(ticker, history_df.index)\n",
        "\n",
        "        # merge sent and stock together\n",
        "        history_df = pd.merge(history_df, sent_df, on='Date')\n",
        "        history_df.fillna(inplace=True, value=0)\n",
        "\n",
        "        #make lstm prediction data\n",
        "        pred_df = self.pred_model.predict(ticker, day, self.obs_len//2)\n",
        "\n",
        "        #combine historical data and prediction data\n",
        "        obs_df = history_df.append(pred_df, ignore_index=True)\n",
        "        # set sentiment for future pred at 0\n",
        "        obs_df.fillna(inplace=True, value=0)\n",
        "\n",
        "        #scale data\n",
        "        obs_df = self._scale_df(scaling_df, obs_df)\n",
        "        print(obs_df)\n",
        "\n",
        "        #rearrange input to match the training data\n",
        "        col_order = ['Open', 'High', 'Low', 'Close', 'Adj Close', 'Volume', 'Sentiment Score']\n",
        "        obs_df = obs_df[col_order]\n",
        "\n",
        "        #make rl prediction\n",
        "        action, _states = self.rl_model.predict(obs_df)\n",
        "\n",
        "        return action \n"
      ],
      "execution_count": 0,
      "outputs": []
    },
    {
      "cell_type": "code",
      "metadata": {
        "id": "3iHdxOdM5NE-",
        "colab_type": "code",
        "outputId": "bf21f692-f5c8-4d7f-e96b-9b8302ed6814",
        "colab": {
          "base_uri": "https://localhost:8080/",
          "height": 1000
        }
      },
      "source": [
        "\n",
        "aapl_sent_model = PPO2.load('/content/drive/My Drive/Masters project/data/models/aapl_trained_model_sent_real_pred.zip')\n",
        "lstm_model = LSTMStockPrediction(load_model('/content/drive/My Drive/Masters project/LSTM_model_4.h5'))\n",
        "sent_crawler = SentimentCrawler()\n",
        "\n",
        "test_model = RLModel(aapl_sent_model, lstm_model, sent_crawler)\n",
        "today = datetime.today().strftime('%Y-%m-%d')\n",
        "test_model.get_action('AAPL', '2020-01-01')"
      ],
      "execution_count": 0,
      "outputs": [
        {
          "output_type": "stream",
          "text": [
            "WARNING:tensorflow:From /usr/local/lib/python3.6/dist-packages/stable_baselines/common/tf_util.py:58: The name tf.ConfigProto is deprecated. Please use tf.compat.v1.ConfigProto instead.\n",
            "\n",
            "WARNING:tensorflow:From /usr/local/lib/python3.6/dist-packages/stable_baselines/common/tf_util.py:67: The name tf.Session is deprecated. Please use tf.compat.v1.Session instead.\n",
            "\n",
            "WARNING:tensorflow:From /usr/local/lib/python3.6/dist-packages/stable_baselines/common/policies.py:115: The name tf.variable_scope is deprecated. Please use tf.compat.v1.variable_scope instead.\n",
            "\n",
            "WARNING:tensorflow:From /usr/local/lib/python3.6/dist-packages/stable_baselines/common/input.py:25: The name tf.placeholder is deprecated. Please use tf.compat.v1.placeholder instead.\n",
            "\n",
            "WARNING:tensorflow:From /usr/local/lib/python3.6/dist-packages/stable_baselines/common/policies.py:560: flatten (from tensorflow.python.layers.core) is deprecated and will be removed in a future version.\n",
            "Instructions for updating:\n",
            "Use keras.layers.flatten instead.\n",
            "WARNING:tensorflow:From /tensorflow-1.15.2/python3.6/tensorflow_core/python/layers/core.py:332: Layer.apply (from tensorflow.python.keras.engine.base_layer) is deprecated and will be removed in a future version.\n",
            "Instructions for updating:\n",
            "Please use `layer.__call__` method instead.\n",
            "WARNING:tensorflow:From /usr/local/lib/python3.6/dist-packages/stable_baselines/a2c/utils.py:156: The name tf.get_variable is deprecated. Please use tf.compat.v1.get_variable instead.\n",
            "\n",
            "WARNING:tensorflow:From /usr/local/lib/python3.6/dist-packages/stable_baselines/common/distributions.py:418: The name tf.random_normal is deprecated. Please use tf.random.normal instead.\n",
            "\n",
            "WARNING:tensorflow:From /usr/local/lib/python3.6/dist-packages/stable_baselines/ppo2/ppo2.py:194: The name tf.summary.scalar is deprecated. Please use tf.compat.v1.summary.scalar instead.\n",
            "\n",
            "WARNING:tensorflow:From /usr/local/lib/python3.6/dist-packages/stable_baselines/ppo2/ppo2.py:202: The name tf.trainable_variables is deprecated. Please use tf.compat.v1.trainable_variables instead.\n",
            "\n",
            "WARNING:tensorflow:From /usr/local/lib/python3.6/dist-packages/stable_baselines/ppo2/ppo2.py:210: The name tf.train.AdamOptimizer is deprecated. Please use tf.compat.v1.train.AdamOptimizer instead.\n",
            "\n",
            "WARNING:tensorflow:From /usr/local/lib/python3.6/dist-packages/stable_baselines/ppo2/ppo2.py:244: The name tf.global_variables_initializer is deprecated. Please use tf.compat.v1.global_variables_initializer instead.\n",
            "\n",
            "WARNING:tensorflow:From /usr/local/lib/python3.6/dist-packages/stable_baselines/ppo2/ppo2.py:246: The name tf.summary.merge_all is deprecated. Please use tf.compat.v1.summary.merge_all instead.\n",
            "\n",
            "[nltk_data] Downloading package vader_lexicon to /root/nltk_data...\n",
            "[nltk_data]   Package vader_lexicon is already up-to-date!\n",
            "2020-04-02 00:00:00\n",
            "https://www.marketwatch.com/search?q=AAPL&m=Keyword&rpp=15&mp=806&bd=true&bd=false&bdv=4%2F2%2F2020&rs=true\n",
            "2020-04-03 00:00:00\n",
            "https://www.marketwatch.com/search?q=AAPL&m=Keyword&rpp=15&mp=806&bd=true&bd=false&bdv=4%2F3%2F2020&rs=true\n",
            "2020-04-06 00:00:00\n",
            "https://www.marketwatch.com/search?q=AAPL&m=Keyword&rpp=15&mp=806&bd=true&bd=false&bdv=4%2F6%2F2020&rs=true\n",
            "2020-04-07 00:00:00\n",
            "https://www.marketwatch.com/search?q=AAPL&m=Keyword&rpp=15&mp=806&bd=true&bd=false&bdv=4%2F7%2F2020&rs=true\n",
            "2020-04-08 00:00:00\n",
            "https://www.marketwatch.com/search?q=AAPL&m=Keyword&rpp=15&mp=806&bd=true&bd=false&bdv=4%2F8%2F2020&rs=true\n",
            "2020-04-09 00:00:00\n",
            "https://www.marketwatch.com/search?q=AAPL&m=Keyword&rpp=15&mp=806&bd=true&bd=false&bdv=4%2F9%2F2020&rs=true\n",
            "2020-04-13 00:00:00\n",
            "https://www.marketwatch.com/search?q=AAPL&m=Keyword&rpp=15&mp=806&bd=true&bd=false&bdv=4%2F13%2F2020&rs=true\n",
            "        High       Low      Open  ...    Volume  Adj Close  Sentiment Score\n",
            "0   0.659190  0.625191  0.639368  ...  0.246882   0.658283        -0.019727\n",
            "1   0.661456  0.633722  0.649505  ...  0.173005   0.643777        -0.056653\n",
            "2   0.733204  0.676622  0.682886  ...  0.320415   0.730566         0.123733\n",
            "3   0.768604  0.716266  0.764894  ...  0.322601   0.718038         0.229607\n",
            "4   0.750759  0.725456  0.731679  ...  0.252950   0.745402         0.229453\n",
            "5   0.761886  0.739756  0.756240  ...  0.239060   0.753314         0.173313\n",
            "6   0.776269  0.744454  0.754633  ...  0.157518   0.774991        -0.173107\n",
            "7   0.728163  0.693975  0.707964  ...  0.245277   0.711199         0.000000\n",
            "8   0.746514  0.713787  0.727115  ...  0.246676   0.731198         0.000000\n",
            "9   0.761717  0.731093  0.742761  ...  0.243020   0.748260         0.000000\n",
            "10  0.771630  0.743134  0.752699  ...  0.236579   0.759701         0.000000\n",
            "11  0.776660  0.749925  0.757403  ...  0.230147   0.765659         0.000000\n",
            "12  0.778732  0.753297  0.758939  ...  0.225647   0.768087         0.000000\n",
            "13  0.780026  0.755552  0.759625  ...  0.223666   0.769376         0.000000\n",
            "\n",
            "[14 rows x 7 columns]\n",
            "[1. 1. 1. 1.]\n"
          ],
          "name": "stdout"
        },
        {
          "output_type": "execute_result",
          "data": {
            "text/plain": [
              "array([1., 1., 1., 1.], dtype=float32)"
            ]
          },
          "metadata": {
            "tags": []
          },
          "execution_count": 47
        }
      ]
    },
    {
      "cell_type": "code",
      "metadata": {
        "id": "MuvTViHh8jJs",
        "colab_type": "code",
        "outputId": "11150c74-6976-4d7e-9b74-fe116c7a4f55",
        "colab": {
          "base_uri": "https://localhost:8080/",
          "height": 578
        }
      },
      "source": [
        "test_model.get_action('AAPL', '2018-01-01')"
      ],
      "execution_count": 0,
      "outputs": [
        {
          "output_type": "stream",
          "text": [
            "2017-12-20 00:00:00\n",
            "https://www.marketwatch.com/search?q=AAPL&m=Keyword&rpp=15&mp=806&bd=true&bd=false&bdv=12%2F20%2F2017&rs=true\n",
            "2017-12-21 00:00:00\n",
            "https://www.marketwatch.com/search?q=AAPL&m=Keyword&rpp=15&mp=806&bd=true&bd=false&bdv=12%2F21%2F2017&rs=true\n",
            "2017-12-22 00:00:00\n",
            "https://www.marketwatch.com/search?q=AAPL&m=Keyword&rpp=15&mp=806&bd=true&bd=false&bdv=12%2F22%2F2017&rs=true\n",
            "2017-12-26 00:00:00\n",
            "https://www.marketwatch.com/search?q=AAPL&m=Keyword&rpp=15&mp=806&bd=true&bd=false&bdv=12%2F26%2F2017&rs=true\n",
            "2017-12-27 00:00:00\n",
            "https://www.marketwatch.com/search?q=AAPL&m=Keyword&rpp=15&mp=806&bd=true&bd=false&bdv=12%2F27%2F2017&rs=true\n",
            "2017-12-28 00:00:00\n",
            "https://www.marketwatch.com/search?q=AAPL&m=Keyword&rpp=15&mp=806&bd=true&bd=false&bdv=12%2F28%2F2017&rs=true\n",
            "2017-12-29 00:00:00\n",
            "https://www.marketwatch.com/search?q=AAPL&m=Keyword&rpp=15&mp=806&bd=true&bd=false&bdv=12%2F29%2F2017&rs=true\n",
            "        High       Low      Open  ...    Volume  Adj Close  Sentiment Score\n",
            "0   0.371830  0.362887  0.369563  ...  0.099286   0.344663         0.111320\n",
            "1   0.374302  0.366390  0.366678  ...  0.078584   0.347297        -0.007580\n",
            "2   0.371830  0.368038  0.368780  ...  0.040878   0.347297        -0.007580\n",
            "3   0.355551  0.348175  0.352790  ...  0.178870   0.329579         0.162580\n",
            "4   0.352708  0.348298  0.349906  ...  0.083078   0.329699         0.168067\n",
            "5   0.357118  0.351472  0.353615  ...  0.041950   0.331614         0.108553\n",
            "6   0.351925  0.346279  0.351637  ...  0.119975   0.324232         0.077767\n",
            "7   0.369312  0.363267  0.365496  ...  0.093426   0.343712         0.000000\n",
            "8   0.365183  0.359537  0.361862  ...  0.086669   0.339744         0.000000\n",
            "9   0.362709  0.357330  0.359855  ...  0.083937   0.337283         0.000000\n",
            "10  0.362220  0.356956  0.359682  ...  0.084008   0.336701         0.000000\n",
            "11  0.363319  0.358054  0.360913  ...  0.085252   0.337667         0.000000\n",
            "12  0.365266  0.359941  0.362846  ...  0.086344   0.339496         0.000000\n",
            "13  0.367367  0.361974  0.364859  ...  0.086616   0.341518         0.000000\n",
            "\n",
            "[14 rows x 7 columns]\n",
            "[0.7654313 1.        1.        1.       ]\n"
          ],
          "name": "stdout"
        },
        {
          "output_type": "execute_result",
          "data": {
            "text/plain": [
              "array([0.7654313, 1.       , 1.       , 1.       ], dtype=float32)"
            ]
          },
          "metadata": {
            "tags": []
          },
          "execution_count": 49
        }
      ]
    },
    {
      "cell_type": "markdown",
      "metadata": {
        "id": "Gn623g2PIq-i",
        "colab_type": "text"
      },
      "source": [
        "# test Sentiment "
      ]
    },
    {
      "cell_type": "code",
      "metadata": {
        "id": "KpRS-aE8SA4A",
        "colab_type": "code",
        "outputId": "7fc6afed-c510-4572-9421-e29bcb97bba0",
        "colab": {
          "base_uri": "https://localhost:8080/",
          "height": 271
        }
      },
      "source": [
        "!pip install alpha-vantage"
      ],
      "execution_count": 0,
      "outputs": [
        {
          "output_type": "stream",
          "text": [
            "Collecting alpha-vantage\n",
            "  Downloading https://files.pythonhosted.org/packages/c9/72/c3a2a8371f94515a2f0b1203dc152cf8d82dc17baeea0c1af5a23d10eca7/alpha_vantage-2.1.3.tar.gz\n",
            "Requirement already satisfied: requests in /usr/local/lib/python3.6/dist-packages (from alpha-vantage) (2.21.0)\n",
            "Requirement already satisfied: certifi>=2017.4.17 in /usr/local/lib/python3.6/dist-packages (from requests->alpha-vantage) (2019.11.28)\n",
            "Requirement already satisfied: chardet<3.1.0,>=3.0.2 in /usr/local/lib/python3.6/dist-packages (from requests->alpha-vantage) (3.0.4)\n",
            "Requirement already satisfied: urllib3<1.25,>=1.21.1 in /usr/local/lib/python3.6/dist-packages (from requests->alpha-vantage) (1.24.3)\n",
            "Requirement already satisfied: idna<2.9,>=2.5 in /usr/local/lib/python3.6/dist-packages (from requests->alpha-vantage) (2.8)\n",
            "Building wheels for collected packages: alpha-vantage\n",
            "  Building wheel for alpha-vantage (setup.py) ... \u001b[?25l\u001b[?25hdone\n",
            "  Created wheel for alpha-vantage: filename=alpha_vantage-2.1.3-cp36-none-any.whl size=14870 sha256=7fa39f4bb68db9b1476656b07c5b87d993872cee851a97fd0b5af695a674917d\n",
            "  Stored in directory: /root/.cache/pip/wheels/d4/75/c2/483b0a988fd965b1128c1396a0ffadfb8903bd2bb569220048\n",
            "Successfully built alpha-vantage\n",
            "Installing collected packages: alpha-vantage\n",
            "Successfully installed alpha-vantage-2.1.3\n"
          ],
          "name": "stdout"
        }
      ]
    },
    {
      "cell_type": "code",
      "metadata": {
        "id": "-fbJxLGqRw2C",
        "colab_type": "code",
        "outputId": "38c10657-5886-4861-905e-78299a11bcc9",
        "colab": {
          "base_uri": "https://localhost:8080/",
          "height": 51
        }
      },
      "source": [
        "# import future\n",
        "from bs4 import BeautifulSoup\n",
        "from datetime import date, datetime, timedelta\n",
        "\n",
        "import requests\n",
        "import nltk\n",
        "import warnings\n",
        "import json\n",
        "import pdb\n",
        "from nltk.sentiment.vader import SentimentIntensityAnalyzer\n",
        "\n",
        "from pandas_datareader.data import DataReader\n",
        "\n",
        "# from flask import Flask, request, jsonify\n",
        "# from flask_restful import Api, Resource, reqparse\n",
        "\n",
        "import random\n",
        "import pandas as pd\n",
        "\n",
        "# from alpha_vantage.timeseries import TimeSeries\n",
        "# from alpha_vantage.techindicators import TechIndicators\n",
        "# from alpha_vantage.sectorperformance import SectorPerformances\n",
        "\n",
        "warnings.filterwarnings('ignore')\n",
        "nltk.download('vader_lexicon')\n",
        "sent_analysis = SentimentIntensityAnalyzer()"
      ],
      "execution_count": 0,
      "outputs": [
        {
          "output_type": "stream",
          "text": [
            "[nltk_data] Downloading package vader_lexicon to /root/nltk_data...\n",
            "[nltk_data]   Package vader_lexicon is already up-to-date!\n"
          ],
          "name": "stdout"
        }
      ]
    },
    {
      "cell_type": "code",
      "metadata": {
        "id": "sWYiGyD9MEyr",
        "colab_type": "code",
        "outputId": "4da3dab3-5a6c-4138-d9c9-46f75a21e373",
        "colab": {
          "base_uri": "https://localhost:8080/",
          "height": 34
        }
      },
      "source": [
        "nltk.__version__"
      ],
      "execution_count": 0,
      "outputs": [
        {
          "output_type": "execute_result",
          "data": {
            "text/plain": [
              "'3.2.5'"
            ]
          },
          "metadata": {
            "tags": []
          },
          "execution_count": 60
        }
      ]
    },
    {
      "cell_type": "code",
      "metadata": {
        "id": "_YaSgE65qzm0",
        "colab_type": "code",
        "outputId": "0659ac65-2898-48f4-89bd-5a7456a49627",
        "colab": {
          "base_uri": "https://localhost:8080/",
          "height": 681
        }
      },
      "source": [
        "today = datetime.today().strftime('%Y-%m-%d')\n",
        "\n",
        "print(today)\n",
        "history_start_date = datetime.strptime(str(today), '%Y-%m-%d') - timedelta(days=14)\n",
        "\n",
        "history_df =  DataReader('AAPL', 'yahoo', start=history_start_date, end=today)\n",
        "history_df = history_df.tail(7)\n",
        "print(history_df.index)\n",
        "\n",
        "sent_crawler = SentimentCrawler()\n",
        "\n",
        "sent_data = sent_crawler.get_sentiment('AAPL', history_df.index)\n",
        "\n"
      ],
      "execution_count": 0,
      "outputs": [
        {
          "output_type": "stream",
          "text": [
            "2020-04-13\n",
            "DatetimeIndex(['2020-04-02', '2020-04-03', '2020-04-06', '2020-04-07',\n",
            "               '2020-04-08', '2020-04-09', '2020-04-13'],\n",
            "              dtype='datetime64[ns]', name='Date', freq=None)\n",
            "[nltk_data] Downloading package vader_lexicon to /root/nltk_data...\n",
            "[nltk_data]   Package vader_lexicon is already up-to-date!\n",
            "2020-04-02 00:00:00\n",
            "https://www.marketwatch.com/search?q=AAPL&m=Keyword&rpp=15&mp=806&bd=true&bd=false&bdv=4%2F2%2F2020&rs=true\n",
            "2020-04-03 00:00:00\n",
            "https://www.marketwatch.com/search?q=AAPL&m=Keyword&rpp=15&mp=806&bd=true&bd=false&bdv=4%2F3%2F2020&rs=true\n",
            "2020-04-06 00:00:00\n",
            "https://www.marketwatch.com/search?q=AAPL&m=Keyword&rpp=15&mp=806&bd=true&bd=false&bdv=4%2F6%2F2020&rs=true\n",
            "2020-04-07 00:00:00\n",
            "https://www.marketwatch.com/search?q=AAPL&m=Keyword&rpp=15&mp=806&bd=true&bd=false&bdv=4%2F7%2F2020&rs=true\n",
            "2020-04-08 00:00:00\n",
            "https://www.marketwatch.com/search?q=AAPL&m=Keyword&rpp=15&mp=806&bd=true&bd=false&bdv=4%2F8%2F2020&rs=true\n",
            "2020-04-09 00:00:00\n",
            "https://www.marketwatch.com/search?q=AAPL&m=Keyword&rpp=15&mp=806&bd=true&bd=false&bdv=4%2F9%2F2020&rs=true\n",
            "2020-04-13 00:00:00\n",
            "https://www.marketwatch.com/search?q=AAPL&m=Keyword&rpp=15&mp=806&bd=true&bd=false&bdv=4%2F13%2F2020&rs=true\n"
          ],
          "name": "stdout"
        },
        {
          "output_type": "error",
          "ename": "MergeError",
          "evalue": "ignored",
          "traceback": [
            "\u001b[0;31m---------------------------------------------------------------------------\u001b[0m",
            "\u001b[0;31mMergeError\u001b[0m                                Traceback (most recent call last)",
            "\u001b[0;32m<ipython-input-32-bedab55c2a28>\u001b[0m in \u001b[0;36m<module>\u001b[0;34m()\u001b[0m\n\u001b[1;32m     12\u001b[0m \u001b[0msent_data\u001b[0m \u001b[0;34m=\u001b[0m \u001b[0msent_crawler\u001b[0m\u001b[0;34m.\u001b[0m\u001b[0mget_sentiment\u001b[0m\u001b[0;34m(\u001b[0m\u001b[0;34m'AAPL'\u001b[0m\u001b[0;34m,\u001b[0m \u001b[0mhistory_df\u001b[0m\u001b[0;34m.\u001b[0m\u001b[0mindex\u001b[0m\u001b[0;34m)\u001b[0m\u001b[0;34m\u001b[0m\u001b[0;34m\u001b[0m\u001b[0m\n\u001b[1;32m     13\u001b[0m \u001b[0;34m\u001b[0m\u001b[0m\n\u001b[0;32m---> 14\u001b[0;31m \u001b[0mpd\u001b[0m\u001b[0;34m.\u001b[0m\u001b[0mmerge\u001b[0m\u001b[0;34m(\u001b[0m\u001b[0mhistory_df\u001b[0m\u001b[0;34m,\u001b[0m \u001b[0msent_data\u001b[0m\u001b[0;34m,\u001b[0m \u001b[0mleft_index\u001b[0m\u001b[0;34m=\u001b[0m\u001b[0;32mTrue\u001b[0m\u001b[0;34m)\u001b[0m\u001b[0;34m\u001b[0m\u001b[0;34m\u001b[0m\u001b[0m\n\u001b[0m",
            "\u001b[0;32m/usr/local/lib/python3.6/dist-packages/pandas/core/reshape/merge.py\u001b[0m in \u001b[0;36mmerge\u001b[0;34m(left, right, how, on, left_on, right_on, left_index, right_index, sort, suffixes, copy, indicator, validate)\u001b[0m\n\u001b[1;32m     84\u001b[0m         \u001b[0mcopy\u001b[0m\u001b[0;34m=\u001b[0m\u001b[0mcopy\u001b[0m\u001b[0;34m,\u001b[0m\u001b[0;34m\u001b[0m\u001b[0;34m\u001b[0m\u001b[0m\n\u001b[1;32m     85\u001b[0m         \u001b[0mindicator\u001b[0m\u001b[0;34m=\u001b[0m\u001b[0mindicator\u001b[0m\u001b[0;34m,\u001b[0m\u001b[0;34m\u001b[0m\u001b[0;34m\u001b[0m\u001b[0m\n\u001b[0;32m---> 86\u001b[0;31m         \u001b[0mvalidate\u001b[0m\u001b[0;34m=\u001b[0m\u001b[0mvalidate\u001b[0m\u001b[0;34m,\u001b[0m\u001b[0;34m\u001b[0m\u001b[0;34m\u001b[0m\u001b[0m\n\u001b[0m\u001b[1;32m     87\u001b[0m     )\n\u001b[1;32m     88\u001b[0m     \u001b[0;32mreturn\u001b[0m \u001b[0mop\u001b[0m\u001b[0;34m.\u001b[0m\u001b[0mget_result\u001b[0m\u001b[0;34m(\u001b[0m\u001b[0;34m)\u001b[0m\u001b[0;34m\u001b[0m\u001b[0;34m\u001b[0m\u001b[0m\n",
            "\u001b[0;32m/usr/local/lib/python3.6/dist-packages/pandas/core/reshape/merge.py\u001b[0m in \u001b[0;36m__init__\u001b[0;34m(self, left, right, how, on, left_on, right_on, axis, left_index, right_index, sort, suffixes, copy, indicator, validate)\u001b[0m\n\u001b[1;32m    618\u001b[0m             \u001b[0mwarnings\u001b[0m\u001b[0;34m.\u001b[0m\u001b[0mwarn\u001b[0m\u001b[0;34m(\u001b[0m\u001b[0mmsg\u001b[0m\u001b[0;34m,\u001b[0m \u001b[0mUserWarning\u001b[0m\u001b[0;34m)\u001b[0m\u001b[0;34m\u001b[0m\u001b[0;34m\u001b[0m\u001b[0m\n\u001b[1;32m    619\u001b[0m \u001b[0;34m\u001b[0m\u001b[0m\n\u001b[0;32m--> 620\u001b[0;31m         \u001b[0mself\u001b[0m\u001b[0;34m.\u001b[0m\u001b[0m_validate_specification\u001b[0m\u001b[0;34m(\u001b[0m\u001b[0;34m)\u001b[0m\u001b[0;34m\u001b[0m\u001b[0;34m\u001b[0m\u001b[0m\n\u001b[0m\u001b[1;32m    621\u001b[0m \u001b[0;34m\u001b[0m\u001b[0m\n\u001b[1;32m    622\u001b[0m         \u001b[0;31m# note this function has side effects\u001b[0m\u001b[0;34m\u001b[0m\u001b[0;34m\u001b[0m\u001b[0;34m\u001b[0m\u001b[0m\n",
            "\u001b[0;32m/usr/local/lib/python3.6/dist-packages/pandas/core/reshape/merge.py\u001b[0m in \u001b[0;36m_validate_specification\u001b[0;34m(self)\u001b[0m\n\u001b[1;32m   1181\u001b[0m             \u001b[0;32melif\u001b[0m \u001b[0mself\u001b[0m\u001b[0;34m.\u001b[0m\u001b[0mleft_index\u001b[0m\u001b[0;34m:\u001b[0m\u001b[0;34m\u001b[0m\u001b[0;34m\u001b[0m\u001b[0m\n\u001b[1;32m   1182\u001b[0m                 \u001b[0;32mif\u001b[0m \u001b[0mself\u001b[0m\u001b[0;34m.\u001b[0m\u001b[0mright_on\u001b[0m \u001b[0;32mis\u001b[0m \u001b[0;32mNone\u001b[0m\u001b[0;34m:\u001b[0m\u001b[0;34m\u001b[0m\u001b[0;34m\u001b[0m\u001b[0m\n\u001b[0;32m-> 1183\u001b[0;31m                     \u001b[0;32mraise\u001b[0m \u001b[0mMergeError\u001b[0m\u001b[0;34m(\u001b[0m\u001b[0;34m\"Must pass right_on or right_index=True\"\u001b[0m\u001b[0;34m)\u001b[0m\u001b[0;34m\u001b[0m\u001b[0;34m\u001b[0m\u001b[0m\n\u001b[0m\u001b[1;32m   1184\u001b[0m             \u001b[0;32melif\u001b[0m \u001b[0mself\u001b[0m\u001b[0;34m.\u001b[0m\u001b[0mright_index\u001b[0m\u001b[0;34m:\u001b[0m\u001b[0;34m\u001b[0m\u001b[0;34m\u001b[0m\u001b[0m\n\u001b[1;32m   1185\u001b[0m                 \u001b[0;32mif\u001b[0m \u001b[0mself\u001b[0m\u001b[0;34m.\u001b[0m\u001b[0mleft_on\u001b[0m \u001b[0;32mis\u001b[0m \u001b[0;32mNone\u001b[0m\u001b[0;34m:\u001b[0m\u001b[0;34m\u001b[0m\u001b[0;34m\u001b[0m\u001b[0m\n",
            "\u001b[0;31mMergeError\u001b[0m: Must pass right_on or right_index=True"
          ]
        }
      ]
    },
    {
      "cell_type": "code",
      "metadata": {
        "id": "aoIdUc0C2MmX",
        "colab_type": "code",
        "outputId": "71fa2791-d5e8-4162-9b5b-42178fef482b",
        "colab": {
          "base_uri": "https://localhost:8080/",
          "height": 483
        }
      },
      "source": [
        "temp = pd.merge(history_df, sent_data, on='Date')\n",
        "\n",
        "x = temp.append(history_df, ignore_index=True)\n",
        "\n",
        "x"
      ],
      "execution_count": 0,
      "outputs": [
        {
          "output_type": "execute_result",
          "data": {
            "text/html": [
              "<div>\n",
              "<style scoped>\n",
              "    .dataframe tbody tr th:only-of-type {\n",
              "        vertical-align: middle;\n",
              "    }\n",
              "\n",
              "    .dataframe tbody tr th {\n",
              "        vertical-align: top;\n",
              "    }\n",
              "\n",
              "    .dataframe thead th {\n",
              "        text-align: right;\n",
              "    }\n",
              "</style>\n",
              "<table border=\"1\" class=\"dataframe\">\n",
              "  <thead>\n",
              "    <tr style=\"text-align: right;\">\n",
              "      <th></th>\n",
              "      <th>High</th>\n",
              "      <th>Low</th>\n",
              "      <th>Open</th>\n",
              "      <th>Close</th>\n",
              "      <th>Volume</th>\n",
              "      <th>Adj Close</th>\n",
              "      <th>Sentiment Score</th>\n",
              "    </tr>\n",
              "  </thead>\n",
              "  <tbody>\n",
              "    <tr>\n",
              "      <th>0</th>\n",
              "      <td>245.149994</td>\n",
              "      <td>236.899994</td>\n",
              "      <td>240.339996</td>\n",
              "      <td>244.929993</td>\n",
              "      <td>41483500</td>\n",
              "      <td>244.929993</td>\n",
              "      <td>-0.019727</td>\n",
              "    </tr>\n",
              "    <tr>\n",
              "      <th>1</th>\n",
              "      <td>245.699997</td>\n",
              "      <td>238.970001</td>\n",
              "      <td>242.800003</td>\n",
              "      <td>241.410004</td>\n",
              "      <td>32470000</td>\n",
              "      <td>241.410004</td>\n",
              "      <td>-0.056653</td>\n",
              "    </tr>\n",
              "    <tr>\n",
              "      <th>2</th>\n",
              "      <td>263.109985</td>\n",
              "      <td>249.380005</td>\n",
              "      <td>250.899994</td>\n",
              "      <td>262.470001</td>\n",
              "      <td>50455100</td>\n",
              "      <td>262.470001</td>\n",
              "      <td>0.123733</td>\n",
              "    </tr>\n",
              "    <tr>\n",
              "      <th>3</th>\n",
              "      <td>271.700012</td>\n",
              "      <td>259.000000</td>\n",
              "      <td>270.799988</td>\n",
              "      <td>259.429993</td>\n",
              "      <td>50721800</td>\n",
              "      <td>259.429993</td>\n",
              "      <td>0.229607</td>\n",
              "    </tr>\n",
              "    <tr>\n",
              "      <th>4</th>\n",
              "      <td>267.369995</td>\n",
              "      <td>261.230011</td>\n",
              "      <td>262.739990</td>\n",
              "      <td>266.070007</td>\n",
              "      <td>42223800</td>\n",
              "      <td>266.070007</td>\n",
              "      <td>0.229453</td>\n",
              "    </tr>\n",
              "    <tr>\n",
              "      <th>5</th>\n",
              "      <td>270.070007</td>\n",
              "      <td>264.700012</td>\n",
              "      <td>268.700012</td>\n",
              "      <td>267.989990</td>\n",
              "      <td>40529100</td>\n",
              "      <td>267.989990</td>\n",
              "      <td>0.173313</td>\n",
              "    </tr>\n",
              "    <tr>\n",
              "      <th>6</th>\n",
              "      <td>273.559998</td>\n",
              "      <td>265.839996</td>\n",
              "      <td>268.309998</td>\n",
              "      <td>273.250000</td>\n",
              "      <td>30580451</td>\n",
              "      <td>273.250000</td>\n",
              "      <td>-0.173107</td>\n",
              "    </tr>\n",
              "    <tr>\n",
              "      <th>7</th>\n",
              "      <td>245.149994</td>\n",
              "      <td>236.899994</td>\n",
              "      <td>240.339996</td>\n",
              "      <td>244.929993</td>\n",
              "      <td>41483500</td>\n",
              "      <td>244.929993</td>\n",
              "      <td>NaN</td>\n",
              "    </tr>\n",
              "    <tr>\n",
              "      <th>8</th>\n",
              "      <td>245.699997</td>\n",
              "      <td>238.970001</td>\n",
              "      <td>242.800003</td>\n",
              "      <td>241.410004</td>\n",
              "      <td>32470000</td>\n",
              "      <td>241.410004</td>\n",
              "      <td>NaN</td>\n",
              "    </tr>\n",
              "    <tr>\n",
              "      <th>9</th>\n",
              "      <td>263.109985</td>\n",
              "      <td>249.380005</td>\n",
              "      <td>250.899994</td>\n",
              "      <td>262.470001</td>\n",
              "      <td>50455100</td>\n",
              "      <td>262.470001</td>\n",
              "      <td>NaN</td>\n",
              "    </tr>\n",
              "    <tr>\n",
              "      <th>10</th>\n",
              "      <td>271.700012</td>\n",
              "      <td>259.000000</td>\n",
              "      <td>270.799988</td>\n",
              "      <td>259.429993</td>\n",
              "      <td>50721800</td>\n",
              "      <td>259.429993</td>\n",
              "      <td>NaN</td>\n",
              "    </tr>\n",
              "    <tr>\n",
              "      <th>11</th>\n",
              "      <td>267.369995</td>\n",
              "      <td>261.230011</td>\n",
              "      <td>262.739990</td>\n",
              "      <td>266.070007</td>\n",
              "      <td>42223800</td>\n",
              "      <td>266.070007</td>\n",
              "      <td>NaN</td>\n",
              "    </tr>\n",
              "    <tr>\n",
              "      <th>12</th>\n",
              "      <td>270.070007</td>\n",
              "      <td>264.700012</td>\n",
              "      <td>268.700012</td>\n",
              "      <td>267.989990</td>\n",
              "      <td>40529100</td>\n",
              "      <td>267.989990</td>\n",
              "      <td>NaN</td>\n",
              "    </tr>\n",
              "    <tr>\n",
              "      <th>13</th>\n",
              "      <td>273.559998</td>\n",
              "      <td>265.839996</td>\n",
              "      <td>268.309998</td>\n",
              "      <td>273.250000</td>\n",
              "      <td>30580451</td>\n",
              "      <td>273.250000</td>\n",
              "      <td>NaN</td>\n",
              "    </tr>\n",
              "  </tbody>\n",
              "</table>\n",
              "</div>"
            ],
            "text/plain": [
              "          High         Low        Open  ...    Volume   Adj Close  Sentiment Score\n",
              "0   245.149994  236.899994  240.339996  ...  41483500  244.929993        -0.019727\n",
              "1   245.699997  238.970001  242.800003  ...  32470000  241.410004        -0.056653\n",
              "2   263.109985  249.380005  250.899994  ...  50455100  262.470001         0.123733\n",
              "3   271.700012  259.000000  270.799988  ...  50721800  259.429993         0.229607\n",
              "4   267.369995  261.230011  262.739990  ...  42223800  266.070007         0.229453\n",
              "5   270.070007  264.700012  268.700012  ...  40529100  267.989990         0.173313\n",
              "6   273.559998  265.839996  268.309998  ...  30580451  273.250000        -0.173107\n",
              "7   245.149994  236.899994  240.339996  ...  41483500  244.929993              NaN\n",
              "8   245.699997  238.970001  242.800003  ...  32470000  241.410004              NaN\n",
              "9   263.109985  249.380005  250.899994  ...  50455100  262.470001              NaN\n",
              "10  271.700012  259.000000  270.799988  ...  50721800  259.429993              NaN\n",
              "11  267.369995  261.230011  262.739990  ...  42223800  266.070007              NaN\n",
              "12  270.070007  264.700012  268.700012  ...  40529100  267.989990              NaN\n",
              "13  273.559998  265.839996  268.309998  ...  30580451  273.250000              NaN\n",
              "\n",
              "[14 rows x 7 columns]"
            ]
          },
          "metadata": {
            "tags": []
          },
          "execution_count": 37
        }
      ]
    },
    {
      "cell_type": "code",
      "metadata": {
        "id": "HPQZsxIusT9_",
        "colab_type": "code",
        "colab": {}
      },
      "source": [
        "\n",
        "# jonathan edited one to work for RLModel\n",
        "class SentimentCrawler():\n",
        "    def __init__(self):\n",
        "        nltk.download('vader_lexicon')\n",
        "        self.sent_analysis = SentimentIntensityAnalyzer()\n",
        "        self.base_url = 'https://www.marketwatch.com/search?q={ticker}&m=Keyword&rpp=15&mp=806&bd=true&bd=false&bdv={m}%2F{d}%2F{y}&rs=true'\n",
        "\n",
        "\n",
        "    def get_sentiment(self, ticker, days):\n",
        "        data = []\n",
        "\n",
        "        for cur_date in days:\n",
        "            year = cur_date.year\n",
        "            month = cur_date.month\n",
        "            day = cur_date.day\n",
        "            \n",
        "            print(cur_date)\n",
        "            url = self.base_url.format(ticker=ticker, m=month, d=day, y=year)\n",
        "            print(url)\n",
        "\n",
        "            response = requests.get(url)\n",
        "            content = BeautifulSoup(response.content, \"html.parser\")\n",
        "\n",
        "            for news in content.findAll('div', attrs={\"class\": \"searchresult\"}):\n",
        "                try:\n",
        "                    #date = content.find('div', attrs={\"class\": \"deemphasized\"}).text.encode('utf-8')\n",
        "                    news = news.text\n",
        "                    #clean_date = self._date_clean_up(date=date)\n",
        "                    sentiment_score = sent_analysis.polarity_scores(news.rstrip().lstrip())['compound']\n",
        "                    data.append((cur_date, news.rstrip().lstrip(), sentiment_score))\n",
        "                except:\n",
        "                    print('Encountered Error')\n",
        "        \n",
        "        ave_sentiment = self._make_sent_dataframe_from_crawler(data)\n",
        "\n",
        "        return ave_sentiment\n",
        "\n",
        "    def _make_sent_dataframe_from_crawler(self, data):\n",
        "        \"\"\"\n",
        "        Creating a dataframe from list of crawler data\n",
        "        :param data: list: Crawler data\n",
        "                    Format of the dataframe:\n",
        "                        - Index column: Date as format YYYY-MM-DD\n",
        "                        - Sentiment Score: Average per day of sentiment score\n",
        "                        - Articles: Article that was collected from the crawler\n",
        "        :return: Dataframe: Average sentiment per day\n",
        "                            - Format: Index: Date: YYYY-MM-DD\n",
        "                                        Sentiment Score: Daily average average\n",
        "        \"\"\"\n",
        "        collected_sent_data = pd.DataFrame(data, columns=['Date', 'Articles', 'Sentiment Score'])\n",
        "        collected_sent_data.drop(labels='Articles', axis=1, inplace=True)\n",
        "        collected_sent_data = collected_sent_data.set_index(pd.DatetimeIndex(collected_sent_data['Date']))\n",
        "        average_daily_sentiment = collected_sent_data.resample('D').mean()\n",
        "\n",
        "        return average_daily_sentiment\n",
        "\n",
        "    @staticmethod\n",
        "    def _date_clean_up(date):\n",
        "        \"\"\"\n",
        "        Function to take in date from crawler, which is date published, and converts to match the date format of the\n",
        "        stock data.\n",
        "        :param date: Date returned from the crawler\n",
        "        :return: Clean date in YYYY-MM-DD\n",
        "        \"\"\"\n",
        "        month_base_string = {'Dec.': 'Dec', 'Jan.': 'Jan', 'Feb.':'Feb', 'March': 'Mar', 'April': 'Apr',\n",
        "                             'May': 'May', 'June': 'Jun', 'July': 'Jul', 'Aug.': 'Aug', 'Sept.': 'Sept',\n",
        "                             'Oct.': 'Oct', 'Nov.': 'Nov'}\n",
        "\n",
        "        clean_date = '{year}-{month}-{day}'.format(year=date.splitlines()[0].decode().split(' ')[2:][2],\n",
        "                                                   month=month_base_string[date.splitlines()\n",
        "                                                                           [0].decode().split(' ')[2:][0]],\n",
        "                                                   day=date.splitlines()[0].decode().split(' ')[2:][1])\n",
        "        return clean_date\n",
        "\n",
        "\n",
        "\n"
      ],
      "execution_count": 0,
      "outputs": []
    },
    {
      "cell_type": "code",
      "metadata": {
        "id": "SOvuncKFIx3j",
        "colab_type": "code",
        "colab": {}
      },
      "source": [
        "class SentimentCrawler(object):\n",
        "\n",
        "    def __init__(self, start_year, end_year, start_month,\n",
        "                 end_month, start_day, end_day, ticker,\n",
        "                 path_to_save_csv):\n",
        "        self.start_day = start_day\n",
        "        self.end_day = end_day\n",
        "        self.start_month = start_month\n",
        "        self.end_month = end_month\n",
        "        self.start_year = start_year\n",
        "        self.end_year = end_year\n",
        "        self.ticker = ticker\n",
        "        self.save_path = path_to_save_csv\n",
        "\n",
        "    def sentiment_dataframe_creation(self):\n",
        "        \"\"\"\n",
        "        Crawler function that gathers data from market watch.\n",
        "        :return:\n",
        "        \"\"\"\n",
        "        year_list = range(self.start_year, self.end_year + 1)\n",
        "        month_list = range(self.start_month, self.end_month + 1)\n",
        "        day_list = range(self.start_day, self.end_day + 1)\n",
        "\n",
        "        data = []\n",
        "        iter_ct = 0\n",
        "\n",
        "        for year in year_list:\n",
        "            for month in month_list:\n",
        "                for day in day_list:\n",
        "                    print(\"Month: {month}, Day: {day}, Year: {year}\".format(month=str(month),\n",
        "                                                                            day=str(day),\n",
        "                                                                            year=str(year)))\n",
        "                    iter_ct += 1\n",
        "                    print(\"Current Count of iterations: {}\".format(str(iter_ct)))\n",
        "\n",
        "                    url = 'https://www.marketwatch.com/search?q={ticker}&m=Keyword&rpp=15&mp=806&bd=true&bd=false&bdv={m}%2F{d}%2F{y}&rs=true'.format(ticker=self.ticker, m=month, d=day, y=year)\n",
        "                    print(url)\n",
        "\n",
        "                    # url = 'https://www.marketwatch.com/search?q=AAPL&m=Keyword&rpp=15&mp=2005&bd=true&bd=false&bdv=1%2F3%2F2020&rs=true'\n",
        "                    response = requests.get(url)\n",
        "                    content = BeautifulSoup(response.content, \"html.parser\")\n",
        "\n",
        "                    for news in content.findAll('div', attrs={\"class\": \"searchresult\"}):\n",
        "                        try:\n",
        "                            date = content.find('div', attrs={\"class\": \"deemphasized\"}).text.encode('utf-8')\n",
        "                            news = news.text\n",
        "                            clean_date = self._date_clean_up(date=date)\n",
        "                            sentiment_score = sent_analysis.polarity_scores(news.rstrip().lstrip())['compound']\n",
        "                            data.append((clean_date, news.rstrip().lstrip(), sentiment_score))\n",
        "                        except:\n",
        "                            print('Encountered Error')\n",
        "\n",
        "\n",
        "        return self._make_sent_dataframe_from_crawler(data)\n",
        "\n",
        "    def _make_sent_dataframe_from_crawler(self, data):\n",
        "        \"\"\"\n",
        "        Creating a dataframe from list of crawler data\n",
        "        :param data: list: Crawler data\n",
        "                    Format of the dataframe:\n",
        "                        - Index column: Date as format YYYY-MM-DD\n",
        "                        - Sentiment Score: Average per day of sentiment score\n",
        "                        - Articles: Article that was collected from the crawler\n",
        "        :return: Dataframe: Average sentiment per day\n",
        "                            - Format: Index: Date: YYYY-MM-DD\n",
        "                                      Sentiment Score: Daily average average\n",
        "        \"\"\"\n",
        "        collected_sent_data = pd.DataFrame(data, columns=['Date', 'Articles', 'Sentiment Score'])\n",
        "        collected_sent_data.drop(labels='Articles', axis=1, inplace=True)\n",
        "        collected_sent_data = collected_sent_data.set_index(pd.DatetimeIndex(collected_sent_data['Date']))\n",
        "        average_daily_sentiment = collected_sent_data.resample('D').mean()\n",
        "        csv_path = '{root}/{ticker}_sentiment.csv'.format(root=self.save_path, ticker=self.ticker)\n",
        "        print(\"Saving the sentiment {path} to disk\".format(path=csv_path))\n",
        "        average_daily_sentiment.to_csv(csv_path, sep=',')\n",
        "        return average_daily_sentiment\n",
        "\n",
        "    @staticmethod\n",
        "    def _date_clean_up(date):\n",
        "        \"\"\"\n",
        "        Function to take in date from crawler, which is date published, and converts to match the date format of the\n",
        "        stock data.\n",
        "        :param date: Date returned from the crawler\n",
        "        :return: Clean date in YYYY-MM-DD\n",
        "        \"\"\"\n",
        "        month_base_string = {'Dec.': 'Dec', 'Jan.': 'Jan', 'Feb.':'Feb', 'March': 'Mar', 'April': 'Apr',\n",
        "                             'May': 'May', 'June': 'Jun', 'July': 'Jul', 'Aug.': 'Aug', 'Sept.': 'Sept',\n",
        "                             'Oct.': 'Oct', 'Nov.': 'Nov'}\n",
        "\n",
        "        clean_date = '{year}-{month}-{day}'.format(year=date.splitlines()[0].decode().split(' ')[2:][2],\n",
        "                                                   month=month_base_string[date.splitlines()\n",
        "                                                                           [0].decode().split(' ')[2:][0]],\n",
        "                                                   day=date.splitlines()[0].decode().split(' ')[2:][1])\n",
        "        return clean_date\n"
      ],
      "execution_count": 0,
      "outputs": []
    },
    {
      "cell_type": "code",
      "metadata": {
        "id": "095vAovUJF98",
        "colab_type": "code",
        "cellView": "form",
        "colab": {}
      },
      "source": [
        "#@title RealTimeApi Class\n",
        "class RealTimeApi(object):\n",
        "\n",
        "    def __init__(self, symbol, api_key='KHMFAMB5CA0XGKXO'):\n",
        "        self.api_key = api_key\n",
        "        self.ticker = symbol\n",
        "        self.ts = TimeSeries(api_key)\n",
        "        self.ti = TechIndicators(api_key)\n",
        "        self.sp = SectorPerformances(api_key)\n",
        "        self.counter = 0\n",
        "        self.MAX_API_CALL = 500\n",
        "\n",
        "    def create_real_time_stock_dataframe(self):\n",
        "        \"\"\"\n",
        "        Take the return of the real time stock api call and converts the return into a dataframe\n",
        "        :return: Dataframe of new stock data\n",
        "        \"\"\"\n",
        "        real_time_data = self.get_time_series_daily()[0]\n",
        "        column_list = ['Date', 'Open', 'High', 'Low', 'Close', 'Volume']\n",
        "        new_stock_data = []\n",
        "        for sd in real_time_data:\n",
        "            date = sd.split(' ')[0]\n",
        "            new_stock_data.append((date, real_time_data[sd]['1. open'],\n",
        "                                   real_time_data[sd]['2. high'],\n",
        "                                   real_time_data[sd]['3. low'],\n",
        "                                   real_time_data[sd]['4. close'],\n",
        "                                   real_time_data[sd]['5. volume']))\n",
        "\n",
        "        return pd.DataFrame(new_stock_data, columns=column_list)\n",
        "\n",
        "    def _counter(self):\n",
        "        \"\"\"\n",
        "        Utility function that keeps track of how many API calls are made. Limit is\n",
        "        5 per minute and no more then 500 per day per api_key. This function only\n",
        "        will track api calls and raise an exception when the count reaches the max\n",
        "        count of 500.\n",
        "        \"\"\"\n",
        "        self.counter += 1\n",
        "        if self.counter <= self.MAX_API_CALL:\n",
        "            print('{} API calls have been made. There are {} API calls left for '\n",
        "                  + 'the day'.format(self.counter, (self.MAX_API_CALL - self.counter)))\n",
        "            pass\n",
        "        else:\n",
        "            print('You have reached the limit of the API calls of {} '\n",
        "                  + 'for the day.'.format(self.MAX_API_CALL))\n",
        "            raise ValueError('Too many API calls have been made today.')\n",
        "\n",
        "    def _get_counter(self):\n",
        "        return 'Current API call counter is at: {}'.format(self.counter)\n",
        "\n",
        "    def get_time_series_intraday(self, interval='15min', outputsize='compact',\n",
        "                                 datatype='json'):\n",
        "        \"\"\"\n",
        "        This API returns intraday time series (timestamp, open, high, low, close,\n",
        "        volume) of the equity specified. API Parameters\n",
        "        Required: symbol\n",
        "            The name of the equity of your choice. For example: symbol=MSFT\n",
        "        Required: interval\n",
        "            Time interval between two consecutive data points in the time series.\n",
        "            The following values are supported: 1min, 5min, 15min, 30min, 60min\n",
        "        Optional: outputsize\n",
        "            By default, outputsize=compact. Strings compact and full are accepted\n",
        "            with the following specifications: compact returns only the latest 100\n",
        "            data points in the intraday time series; full returns the full-length\n",
        "            intraday time series. The \"compact\" option is recommended if you would\n",
        "            like to reduce the data size of each API call.\n",
        "        Optional: datatype\n",
        "            By default, datatype=json. Strings json and csv are accepted with the\n",
        "            following specifications: json returns the intraday time series in JSON\n",
        "            format; csv returns the time series as a CSV (comma separated value)\n",
        "            file.\n",
        "        \"\"\"\n",
        "        self._counter()\n",
        "        try:\n",
        "            data, meta_data = self.ts.get_intraday(symbol=self.ticker,\n",
        "                                                   interval=interval,\n",
        "                                                   outputsize=outputsize)\n",
        "        except:\n",
        "            raise Exception('API call get_intraday failed.')\n",
        "        return data, meta_data\n",
        "\n",
        "    def get_time_series_daily(self, outputsize='compact', datatype='json'):\n",
        "        \"\"\"\n",
        "        This API returns daily time series (date, daily open, daily high, daily low,\n",
        "        daily close, daily volume) of the global equity specified, covering 20+\n",
        "        years of historical data. The most recent data point is the prices and\n",
        "        volume information of the current trading day, updated realtime.\n",
        "        API Parameters\n",
        "        Required: symbol\n",
        "            The name of the equity of your choice. For example: symbol=MSFT\n",
        "        Optional: outputsize\n",
        "            By default, outputsize=compact. Strings compact and full are accepted\n",
        "            with the following specifications: compact returns only the latest 100\n",
        "            data points; full returns the full-length time series of 20+ years of\n",
        "            historical data. The \"compact\" option is recommended if you would like\n",
        "            to reduce the data size of each API call.\n",
        "        Optional: datatype\n",
        "            By default, datatype=json. Strings json and csv are accepted with the\n",
        "            following specifications: json returns the daily time series in JSON\n",
        "            format; csv returns the time series as a CSV (comma separated value)\n",
        "            file.\n",
        "        \"\"\"\n",
        "        self._counter()\n",
        "        try:\n",
        "            data, meta_data = self.ts.get_daily(symbol=self.ticker,\n",
        "                                                outputsize=outputsize)\n",
        "        except:\n",
        "            raise Exception('API call get_daily failed')\n",
        "\n",
        "        return data, meta_data\n",
        "\n",
        "    def get_time_series_daily_adjusted(self, outputsize='compact',\n",
        "                                       datatype='json', ):\n",
        "        \"\"\"\n",
        "        This API returns daily time series (date, daily open, daily high, daily low,\n",
        "         daily close, daily volume, daily adjusted close, and split/dividend events)\n",
        "          of the global equity specified, covering 20+ years of historical data.\n",
        "        The most recent data point is the prices and volume information of the\n",
        "        current trading day, updated realtime.\n",
        "        API Parameters\n",
        "        Required: symbol\n",
        "           The name of the equity of your choice. For example: symbol=MSFT\n",
        "        Optional: outputsize\n",
        "            By default, outputsize=compact. Strings compact and full are accepted\n",
        "            with the following specifications: compact returns only the latest 100\n",
        "            data points; full returns the full-length time series of 20+ years of\n",
        "            historical data. The \"compact\" option is recommended if you would\n",
        "            like to reduce the data size of each API call.\n",
        "        Optional: datatype\n",
        "            By default, datatype=json. Strings json and csv are accepted with the\n",
        "            following specifications: json returns the daily time series in JSON\n",
        "            format; csv returns the time series as a CSV (comma separated value)\n",
        "            file.\n",
        "        \"\"\"\n",
        "        self._counter()\n",
        "        try:\n",
        "            data, meta_data = self.ts.get_daily_adjusted(symbol=self.ticker,\n",
        "                                                         outputsize=outputsize,\n",
        "                                                         datatype=datatype)\n",
        "        except:\n",
        "            raise Exception('API call get_daily_adjusted failed')\n",
        "\n",
        "        return data, meta_data\n",
        "\n",
        "    def get_simple_moving_average(self, interval='daily',\n",
        "                                  time_period=20,\n",
        "                                  series_type='close',\n",
        "                                  datatype='json'):\n",
        "        \"\"\"\n",
        "        This API returns the simple moving average (SMA) values. See also:\n",
        "        Investopedia article and mathematical reference.\n",
        "        API Parameters\n",
        "        Required: symbol\n",
        "            The name of the security of your choice. For example: symbol=MSFT\n",
        "        Required: interval\n",
        "            Time interval between two consecutive data points in the time series.\n",
        "            The following values are supported: 1min, 5min, 15min, 30min, 60min,\n",
        "            daily, weekly, monthly\n",
        "        Required:time_period\n",
        "            Number of data points used to calculate each moving average value.\n",
        "            Positive integers are accepted (e.g., time_period=60, time_period=200)\n",
        "        Required: series_type\n",
        "            The desired price type in the time series. Four types are supported:\n",
        "            close, open, high, low\n",
        "        Optional: datatype\n",
        "            By default, datatype=json. Strings json and csv are accepted with the\n",
        "            following specifications: json returns the daily time series in JSON\n",
        "            format; csv returns the time series as a CSV (comma separated value)\n",
        "            file.\n",
        "        \"\"\"\n",
        "        self._counter()\n",
        "        try:\n",
        "            data, meta_data = self.ti.get_sma(symbol=self.ticker,\n",
        "                                              interval=interval,\n",
        "                                              time_period=time_period,\n",
        "                                              series_type=series_type,\n",
        "                                              datatype=datatype)\n",
        "        except:\n",
        "            raise Exception('API call simple_moving_average failed')\n",
        "\n",
        "        return data, meta_data\n",
        "\n",
        "    def get_exponential_moving_average(self, interval='daily',\n",
        "                                       time_period=20,\n",
        "                                       series_type='close',\n",
        "                                       datatype='json'):\n",
        "        \"\"\"\n",
        "        This API returns the exponential moving average (EMA) values.\n",
        "        API Parameters\n",
        "        Required: symbol\n",
        "           The name of the security of your choice. For example: symbol=MSFT\n",
        "        Required: interval\n",
        "            Time interval between two consecutive data points in the time series.\n",
        "            The following values are supported: 1min, 5min, 15min, 30min, 60min,\n",
        "            daily, weekly, monthly\n",
        "        Required:time_period\n",
        "            Number of data points used to calculate each moving average value.\n",
        "            Positive integers are accepted (e.g., time_period=60, time_period=200)\n",
        "        Required: series_type\n",
        "            The desired price type in the time series. Four types are supported:\n",
        "            close, open, high, low\n",
        "        Optional: datatype\n",
        "            By default, datatype=json. Strings json and csv are accepted with the\n",
        "            following specifications: json returns the daily time series in JSON\n",
        "            format; csv returns the time series as a CSV (comma separated value)\n",
        "            file.\n",
        "        \"\"\"\n",
        "        self._counter()\n",
        "        try:\n",
        "            data, meta_data = self.ti.get_ema(symbol=self.ticker,\n",
        "                                              interval=interval,\n",
        "                                              time_period=time_period,\n",
        "                                              series_type=series_type,\n",
        "                                              datatype=datatype)\n",
        "        except:\n",
        "            raise Exception('API call exponential_moving_average failed')\n",
        "\n",
        "        return data, meta_data\n",
        "\n",
        "    def get_moving_average_conv_div(self, interval='daily',\n",
        "                                    series_type='close',\n",
        "                                    fastperiod=12,\n",
        "                                    slowperiod=26,\n",
        "                                    signalperiod=9,\n",
        "                                    datatype='json'):\n",
        "        \"\"\"\n",
        "        This API returns the moving average convergence / divergence (MACD) values.\n",
        "        API Parameters\n",
        "        Required: symbol\n",
        "            The name of the security of your choice. For example: symbol=MSFT\n",
        "        Required: interval\n",
        "            Time interval between two consecutive data points in the time series.\n",
        "            The following values are supported: 1min, 5min, 15min, 30min, 60min,\n",
        "            daily, weekly, monthly\n",
        "        Required: series_type\n",
        "            The desired price type in the time series. Four types are supported:\n",
        "            close, open, high, low\n",
        "        Optional: fastperiod\n",
        "            Positive integers are accepted. By default, fastperiod=12.\n",
        "        Optional: slowperiod\n",
        "            Positive integers are accepted. By default, slowperiod=26.\n",
        "        Optional: signalperiod\n",
        "            Positive integers are accepted. By default, signalperiod=9.\n",
        "        Optional: datatype\n",
        "            By default, datatype=json. Strings json and csv are accepted with the\n",
        "            following specifications: json returns the daily time series in JSON\n",
        "            format; csv returns the time series as a CSV (comma separated value)\n",
        "            file.\n",
        "        \"\"\"\n",
        "        self._counter()\n",
        "        try:\n",
        "            data, meta_data = self.ti.get_macd(symbol=self.ticker,\n",
        "                                               interval=interval,\n",
        "                                               series_type=series_type,\n",
        "                                               fastperiod=fastperiod,\n",
        "                                               slowperiod=slowperiod,\n",
        "                                               signalperiod=signalperiod,\n",
        "                                               datatype=datatype)\n",
        "        except:\n",
        "            raise Exception('API call get_moving_average_conv_div failed')\n",
        "\n",
        "        return data, meta_data\n",
        "\n",
        "    def get_stochastic_oscillator(self, interval='daily',\n",
        "                                  fastkperiod=5,\n",
        "                                  slowkperiod=3,\n",
        "                                  slowdperiod=3,\n",
        "                                  slowkmatype=0,\n",
        "                                  slowdmatype=0,\n",
        "                                  datatype='json'):\n",
        "        \"\"\"\n",
        "        This API returns the stochastic oscillator (STOCH) values.\n",
        "        API Parameters\n",
        "        Required: symbol\n",
        "            The name of the security of your choice. For example: symbol=MSFT\n",
        "        Required: interval\n",
        "            Time interval between two consecutive data points in the time series.\n",
        "            The following values are supported: 1min, 5min, 15min, 30min, 60min,\n",
        "            daily, weekly, monthly\n",
        "        Optional: fastkperiod\n",
        "            The time period of the fastk moving average. Positive integers are\n",
        "            accepted. By default, fastkperiod=5.\n",
        "        Optional: slowkperiod\n",
        "            The time period of the slowk moving average. Positive integers are\n",
        "            accepted. By default, slowkperiod=3.\n",
        "        Optional: slowdperiod\n",
        "          The time period of the slowd moving average. Positive integers are\n",
        "          accepted. By default, slowdperiod=3.\n",
        "        Optional: slowkmatype\n",
        "            Moving average type for the slowk moving average. By default,\n",
        "            slowkmatype=0. Integers 0 - 8 are accepted with the following mappings.\n",
        "                0 = Simple Moving Average (SMA),\n",
        "                1 = Exponential Moving Average (EMA),\n",
        "                2 = Weighted Moving Average (WMA),\n",
        "                3 = Double Exponential Moving Average (DEMA),\n",
        "                4 = Triple Exponential Moving Average (TEMA),\n",
        "                5 = Triangular Moving Average (TRIMA),\n",
        "                6 = T3 Moving Average,\n",
        "                7 = Kaufman Adaptive Moving Average (KAMA),\n",
        "                8 = MESA Adaptive Moving Average (MAMA).\n",
        "        Optional: slowdmatype\n",
        "        Moving average type for the slowd moving average. By default, slowdmatype=0.\n",
        "        Integers 0 - 8 are accepted with the following mappings.\n",
        "            0 = Simple Moving Average (SMA),\n",
        "            1 = Exponential Moving Average (EMA),\n",
        "            2 = Weighted Moving Average (WMA),\n",
        "            3 = Double Exponential Moving Average (DEMA),\n",
        "            4 = Triple Exponential Moving Average (TEMA),\n",
        "            5 = Triangular Moving Average (TRIMA),\n",
        "            6 = T3 Moving Average,\n",
        "            7 = Kaufman Adaptive Moving Average (KAMA),\n",
        "            8 = MESA Adaptive Moving Average (MAMA).\n",
        "        Optional: datatype\n",
        "            By default, datatype=json. Strings json and csv are accepted with the\n",
        "            following specifications: json returns the daily time series in JSON\n",
        "            format; csv returns the time series as a CSV (comma separated value)\n",
        "            file.\n",
        "        \"\"\"\n",
        "        self._counter()\n",
        "        try:\n",
        "            data, meta_data = self.ti.get_stoch(symbol=self.ticker,\n",
        "                                                interval=interval,\n",
        "                                                fastkperiod=fastkperiod,\n",
        "                                                slowkperiod=slowkperiod,\n",
        "                                                slowdperiod=slowdperiod,\n",
        "                                                slowkmatype=slowkmatype,\n",
        "                                                slowdmatype=slowdmatype,\n",
        "                                                datatype=datatype)\n",
        "        except:\n",
        "            raise Exception('API call get_moving_average_conv_div failed')\n",
        "\n",
        "        return data, meta_data\n",
        "\n",
        "    def get_bollinger_bands(self, interval='daily',\n",
        "                            time_period=20,\n",
        "                            series_type='close',\n",
        "                            nbdevup=2,\n",
        "                            nbdevdn=2,\n",
        "                            matype=0,\n",
        "                            datatype='json'):\n",
        "        \"\"\"\n",
        "        This API returns the Bollinger bands (BBANDS) values.\n",
        "        API Parameters\n",
        "        Required: symbol\n",
        "           The name of the security of your choice. For example: symbol=MSFT\n",
        "        Required: interval\n",
        "            Time interval between two consecutive data points in the time series.\n",
        "            The following values are supported: 1min, 5min, 15min, 30min, 60min,\n",
        "            daily, weekly, monthly\n",
        "        Required:time_period\n",
        "            Number of data points used to calculate each BBANDS value. Positive\n",
        "            integers are accepted (e.g., time_period=60, time_period=200)\n",
        "        Required: series_type\n",
        "            The desired price type in the time series. Four types are supported:\n",
        "            close, open, high, low\n",
        "        Optional: nbdevup\n",
        "            The standard deviation multiplier of the upper band. Positive integers\n",
        "            are accepted. By default, nbdevup=2.\n",
        "        Optional: nbdevdn\n",
        "           The standard deviation multiplier of the lower band. Positive integers\n",
        "           are accepted. By default, nbdevdn=2.\n",
        "        Optional: matype\n",
        "            Moving average type of the time series. By default, matype=0.\n",
        "            Integers 0 - 8 are accepted with the following mappings.\n",
        "            0 = Simple Moving Average (SMA),\n",
        "            1 = Exponential Moving Average (EMA),\n",
        "            2 = Weighted Moving Average (WMA),\n",
        "            3 = Double Exponential Moving Average (DEMA),\n",
        "            4 = Triple Exponential Moving Average (TEMA),\n",
        "            5 = Triangular Moving Average (TRIMA),\n",
        "            6 = T3 Moving Average,\n",
        "            7 = Kaufman Adaptive Moving Average (KAMA),\n",
        "            8 = MESA Adaptive Moving Average (MAMA).\n",
        "        Optional: datatype\n",
        "            By default, datatype=json. Strings json and csv are accepted with the\n",
        "            following specifications: json returns the daily time series in JSON\n",
        "            format; csv returns the time series as a CSV (comma separated value)\n",
        "            file.\n",
        "        \"\"\"\n",
        "        self._counter()\n",
        "        try:\n",
        "            data, meta_data = self.ti.get_bbands(symbol=self.ticker,\n",
        "                                                 interval=interval,\n",
        "                                                 time_period=time_period,\n",
        "                                                 series_type=series_type,\n",
        "                                                 nbdevup=nbdevup,\n",
        "                                                 nbdevdn=nbdevdn,\n",
        "                                                 matype=matype,\n",
        "                                                 datatype=datatype)\n",
        "        except:\n",
        "            raise Exception('API call get_bollinger_bands failed')\n",
        "\n",
        "        return data, meta_data\n",
        "\n",
        "    def get_Chaikin_A_D_line(self, interval='daily',\n",
        "                             datatype='json'):\n",
        "\n",
        "        \"\"\"\n",
        "        This API returns the Chaikin A/D line (AD) values.\n",
        "        API Parameters\n",
        "        Required: symbol\n",
        "            The name of the security of your choice. For example: symbol=MSFT\n",
        "        Required: interval\n",
        "            Time interval between two consecutive data points in the time series.\n",
        "            The following values are supported: 1min, 5min, 15min, 30min, 60min,\n",
        "            daily, weekly, monthly\n",
        "        Optional: datatype\n",
        "            By default, datatype=json. Strings json and csv are accepted with the\n",
        "            following specifications: json returns the daily time series in JSON\n",
        "            format; csv returns the time series as a CSV (comma separated value)\n",
        "            file.\n",
        "        \"\"\"\n",
        "        self._counter()\n",
        "        try:\n",
        "            data, meta_data = self.ti.get_ad(symbol=self.ticker,\n",
        "                                             interval=interval,\n",
        "                                             datatype=datatype)\n",
        "        except:\n",
        "            raise Exception('API call get_Chaikin_A_D_line failed')\n",
        "\n",
        "        return data, meta_data\n",
        "\n",
        "    def get_balance_volume(self, interval='daily', datatype='json'):\n",
        "        \"\"\"\n",
        "        This API returns the on balance volume (OBV) values.\n",
        "        API Parameters\n",
        "        Required: symbol\n",
        "            The name of the security of your choice. For example: symbol=MSFT\n",
        "        Required: interval\n",
        "            Time interval between two consecutive data points in the time series.\n",
        "            The following values are supported: 1min, 5min, 15min, 30min, 60min,\n",
        "            daily, weekly, monthly\n",
        "        Optional: datatype\n",
        "            By default, datatype=json. Strings json and csv are accepted with the\n",
        "            following specifications: json returns the daily time series in JSON\n",
        "            format; csv returns the time series as a CSV (comma separated value)\n",
        "            file.\n",
        "        \"\"\"\n",
        "        self._counter()\n",
        "        try:\n",
        "            data, meta_data = self.ti.get_obv(symbol=self.ticker,\n",
        "                                              interval=interval,\n",
        "                                              datatype=datatype)\n",
        "        except:\n",
        "            raise Exception('API call get_balance_volume failed')\n",
        "\n",
        "        return data, meta_data\n",
        "\n",
        "    def get_sector_performance(self):\n",
        "        \"\"\"\n",
        "        This API returns the realtime and historical sector performances calculated\n",
        "        from S&P500 incumbents.\n",
        "        \"\"\"\n",
        "        self._counter()\n",
        "        try:\n",
        "            data, meta_data = self.sp.get_sector()\n",
        "        except:\n",
        "            raise Exception('API call get_sector_performance failed')\n",
        "\n",
        "        return data, meta_data"
      ],
      "execution_count": 0,
      "outputs": []
    },
    {
      "cell_type": "code",
      "metadata": {
        "id": "b8Kxemc-Jnx_",
        "colab_type": "code",
        "colab": {}
      },
      "source": [
        "class CombineSentimentAndRealTimeData(object):\n",
        "\n",
        "    def __init__(self, sentiment_data, stock_data):\n",
        "        self.sentiment_data = sentiment_data\n",
        "        self.stock_data = stock_data\n",
        "\n",
        "    def combine_data(self):\n",
        "        \"\"\"\n",
        "        Function to combine stock and sentiment dataframes\n",
        "        :return: Combined dataframe\n",
        "        \"\"\"\n",
        "        format = '%Y-%m-%d'\n",
        "        self.stock_data['Date'] = pd.to_datetime(self.stock_data['Date'], format=format)\n",
        "        merge_data = pd.merge(self.sentiment_data, self.stock_data, on='Date')\n",
        "        merge_data.fillna(inplace=True, value=0)\n",
        "\n",
        "        return merge_data"
      ],
      "execution_count": 0,
      "outputs": []
    },
    {
      "cell_type": "code",
      "metadata": {
        "id": "BRAnGxZYSOTt",
        "colab_type": "code",
        "colab": {}
      },
      "source": [
        "start_year = 2020\n",
        "end_year = 2020\n",
        "start_month = 1\n",
        "end_month = 3\n",
        "start_day = 1\n",
        "end_day = 31\n",
        "\n",
        "start = '2020-01-01'\n",
        "end = '2020-03-31'\n",
        "ticker = 'AAPL'\n",
        "\n",
        "sentiment_crawler = SentimentCrawler(start_year=start_year, end_year=end_year,\n",
        "                                        start_month=start_month, end_month=end_month,\n",
        "                                        start_day=start_day, end_day=end_day,\n",
        "                                        ticker=str(ticker),\n",
        "                                        path_to_save_csv='~/')\n",
        "\n",
        "sentiment = sentiment_crawler.sentiment_dataframe_creation()\n",
        "\n",
        "data = DataReader(ticker, 'yahoo', start=start , end=end)\n",
        "data.reset_index(inplace=True)\n",
        "\n",
        "combine = CombineSentimentAndRealTimeData(sentiment_data=sentiment, stock_data=data)\n",
        "combined_data_set = combine.combine_data()"
      ],
      "execution_count": 0,
      "outputs": []
    },
    {
      "cell_type": "code",
      "metadata": {
        "id": "R_zL0l1YJpdl",
        "colab_type": "code",
        "colab": {}
      },
      "source": [
        "col_order = ['Date', 'Open', 'High', 'Low', 'Close', 'Adj Close', 'Volume', 'Sentiment Score']\n",
        "combined_data_set = combined_data_set[col_order]\n",
        "combined_data_set"
      ],
      "execution_count": 0,
      "outputs": []
    },
    {
      "cell_type": "code",
      "metadata": {
        "id": "Bmtsb3QRq0vK",
        "colab_type": "code",
        "colab": {}
      },
      "source": [
        "#combined_data_set.set_index('Date', inplace=True)\n",
        "combined_data_set.to_csv('/gdrive/My Drive/Masters project/data/data_with_sent/aapl_sent_test.csv',index = False)"
      ],
      "execution_count": 0,
      "outputs": []
    },
    {
      "cell_type": "code",
      "metadata": {
        "id": "NxHcdMM6rMvf",
        "colab_type": "code",
        "colab": {}
      },
      "source": [
        "pd.read_csv('/gdrive/My Drive/Masters project/data/data_with_sent/aapl_sent_test.csv')"
      ],
      "execution_count": 0,
      "outputs": []
    },
    {
      "cell_type": "code",
      "metadata": {
        "id": "7iF1s-HkYNlt",
        "colab_type": "code",
        "outputId": "97553aa4-2625-4f1a-a840-b97dbd8dffdd",
        "colab": {
          "base_uri": "https://localhost:8080/",
          "height": 112
        }
      },
      "source": [
        "data = DataReader('AAPL', 'yahoo', start=date.today())\n",
        "data"
      ],
      "execution_count": 0,
      "outputs": [
        {
          "output_type": "execute_result",
          "data": {
            "text/html": [
              "<div>\n",
              "<style scoped>\n",
              "    .dataframe tbody tr th:only-of-type {\n",
              "        vertical-align: middle;\n",
              "    }\n",
              "\n",
              "    .dataframe tbody tr th {\n",
              "        vertical-align: top;\n",
              "    }\n",
              "\n",
              "    .dataframe thead th {\n",
              "        text-align: right;\n",
              "    }\n",
              "</style>\n",
              "<table border=\"1\" class=\"dataframe\">\n",
              "  <thead>\n",
              "    <tr style=\"text-align: right;\">\n",
              "      <th></th>\n",
              "      <th>High</th>\n",
              "      <th>Low</th>\n",
              "      <th>Open</th>\n",
              "      <th>Close</th>\n",
              "      <th>Volume</th>\n",
              "      <th>Adj Close</th>\n",
              "    </tr>\n",
              "    <tr>\n",
              "      <th>Date</th>\n",
              "      <th></th>\n",
              "      <th></th>\n",
              "      <th></th>\n",
              "      <th></th>\n",
              "      <th></th>\n",
              "      <th></th>\n",
              "    </tr>\n",
              "  </thead>\n",
              "  <tbody>\n",
              "    <tr>\n",
              "      <th>2020-04-08</th>\n",
              "      <td>267.369995</td>\n",
              "      <td>261.230011</td>\n",
              "      <td>262.73999</td>\n",
              "      <td>266.070007</td>\n",
              "      <td>39582531</td>\n",
              "      <td>266.070007</td>\n",
              "    </tr>\n",
              "  </tbody>\n",
              "</table>\n",
              "</div>"
            ],
            "text/plain": [
              "                  High         Low       Open       Close    Volume   Adj Close\n",
              "Date                                                                           \n",
              "2020-04-08  267.369995  261.230011  262.73999  266.070007  39582531  266.070007"
            ]
          },
          "metadata": {
            "tags": []
          },
          "execution_count": 10
        }
      ]
    },
    {
      "cell_type": "code",
      "metadata": {
        "id": "7H-ecrbOQ_XI",
        "colab_type": "code",
        "outputId": "630a3884-f598-4c1f-86e8-12edcbf0c0ac",
        "colab": {
          "base_uri": "https://localhost:8080/",
          "height": 34
        }
      },
      "source": [
        "np.argmax([1,1,1])"
      ],
      "execution_count": 0,
      "outputs": [
        {
          "output_type": "execute_result",
          "data": {
            "text/plain": [
              "0"
            ]
          },
          "metadata": {
            "tags": []
          },
          "execution_count": 61
        }
      ]
    }
  ]
}