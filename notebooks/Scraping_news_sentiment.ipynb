{
  "nbformat": 4,
  "nbformat_minor": 0,
  "metadata": {
    "colab": {
      "name": "Scraping_news_sentiment.ipynb",
      "provenance": [],
      "collapsed_sections": [],
      "include_colab_link": true
    },
    "kernelspec": {
      "name": "python3",
      "display_name": "Python 3"
    }
  },
  "cells": [
    {
      "cell_type": "markdown",
      "metadata": {
        "id": "view-in-github",
        "colab_type": "text"
      },
      "source": [
        "<a href=\"https://colab.research.google.com/github/jems2019/ReinforcementBasedTradingPlatform/blob/master/notebooks/Scraping_news_sentiment.ipynb\" target=\"_parent\"><img src=\"https://colab.research.google.com/assets/colab-badge.svg\" alt=\"Open In Colab\"/></a>"
      ]
    },
    {
      "cell_type": "code",
      "metadata": {
        "id": "JeTOueDDAgfB",
        "colab_type": "code",
        "colab": {}
      },
      "source": [
        "# !pip install bs4"
      ],
      "execution_count": 0,
      "outputs": []
    },
    {
      "cell_type": "code",
      "metadata": {
        "id": "iuijjVc-JOgb",
        "colab_type": "code",
        "outputId": "fef48adc-89e2-483e-adca-6f1d6b8d85d9",
        "colab": {
          "base_uri": "https://localhost:8080/",
          "height": 125
        }
      },
      "source": [
        "from google.colab import drive\n",
        "drive.mount('/content/drive')"
      ],
      "execution_count": 0,
      "outputs": [
        {
          "output_type": "stream",
          "text": [
            "Go to this URL in a browser: https://accounts.google.com/o/oauth2/auth?client_id=947318989803-6bn6qk8qdgf4n4g3pfee6491hc0brc4i.apps.googleusercontent.com&redirect_uri=urn%3Aietf%3Awg%3Aoauth%3A2.0%3Aoob&scope=email%20https%3A%2F%2Fwww.googleapis.com%2Fauth%2Fdocs.test%20https%3A%2F%2Fwww.googleapis.com%2Fauth%2Fdrive%20https%3A%2F%2Fwww.googleapis.com%2Fauth%2Fdrive.photos.readonly%20https%3A%2F%2Fwww.googleapis.com%2Fauth%2Fpeopleapi.readonly&response_type=code\n",
            "\n",
            "Enter your authorization code:\n",
            "··········\n",
            "Mounted at /content/drive\n"
          ],
          "name": "stdout"
        }
      ]
    },
    {
      "cell_type": "code",
      "metadata": {
        "id": "HBci98ck91tG",
        "colab_type": "code",
        "outputId": "0d31ad31-76a7-4a2e-ec8d-90288afb8660",
        "colab": {
          "base_uri": "https://localhost:8080/",
          "height": 34
        }
      },
      "source": [
        "import nltk\n",
        "import warnings\n",
        "warnings.filterwarnings('ignore')\n",
        "from nltk.sentiment.vader import SentimentIntensityAnalyzer\n",
        "nltk.download('vader_lexicon')\n",
        "\n",
        "sent_analysis = SentimentIntensityAnalyzer()"
      ],
      "execution_count": 0,
      "outputs": [
        {
          "output_type": "stream",
          "text": [
            "[nltk_data] Downloading package vader_lexicon to /root/nltk_data...\n"
          ],
          "name": "stdout"
        }
      ]
    },
    {
      "cell_type": "code",
      "metadata": {
        "id": "C7xi-2G89_lj",
        "colab_type": "code",
        "colab": {}
      },
      "source": [
        "from urllib.request import urlopen\n",
        "import requests\n",
        "from bs4 import BeautifulSoup\n",
        "from datetime import datetime, timedelta\n",
        "import time\n",
        "import pprint\n",
        "import pdb"
      ],
      "execution_count": 0,
      "outputs": []
    },
    {
      "cell_type": "code",
      "metadata": {
        "id": "avGVypDD-Jr7",
        "colab_type": "code",
        "colab": {}
      },
      "source": [
        "class SentimentAnalysis(object):\n",
        "\n",
        "  def __init__(self, stock='apple'):\n",
        "    self.url = 'https://www.businesstimes.com.sg/search/'+ str(stock) + '?page='\n",
        "    self.sentiment_dates = {}\n",
        "\n",
        "  def get_sentiment(self):\n",
        "    \"\"\"\n",
        "    Function that scrapes the articles of businesstimes.com/<stock> and parses \n",
        "    through the articles and using a simple vader lexicon sentiment analysis\n",
        "    library is able to come up with a sentiment score for the given article on \n",
        "    a given day. \n",
        "    If the sentimnet score is negative then the overall atricles for that day\n",
        "    are negative.\n",
        "    If the sentiment score is positive then the overall articles for that day\n",
        "    are positive.  \n",
        "    \"\"\"\n",
        "    for i in range(1,2):\n",
        "        page = urlopen(self.url + str(i)).read()\n",
        "        scrape = BeautifulSoup(page, features=\"html.parser\")\n",
        "        articles = scrape.findAll(\"div\", {\"class\": \"media-body\"})\n",
        "        print(len(articles))\n",
        "        print (i)\n",
        "        for post in articles:\n",
        "            time.sleep(1)\n",
        "            url = post.a['href']\n",
        "            date = post.time.text\n",
        "            print(date, url)\n",
        "            try:\n",
        "                page_link = urlopen(url).read()\n",
        "            except:\n",
        "                url = url[:-1]\n",
        "                page_link = urlopen(url).read()\n",
        "            soup = BeautifulSoup(page_link)\n",
        "            info = soup.findAll(\"p\")\n",
        "            text_string = \"\"\n",
        "            for sentence in info:\n",
        "                text_string += sentence.text\n",
        "            sentiment_score = sent_analysis.polarity_scores(text_string)['compound']\n",
        "            self.sentiment_dates.setdefault(date, []).append(sentiment_score)\n",
        "\n",
        "    self.date_of_sentiment = {}\n",
        "\n",
        "    for a,b in self.sentiment_dates.items():\n",
        "        self.date_of_sentiment[datetime.strptime(a, '%d %b %Y').date() \n",
        "        + timedelta(days=1)] = round(sum(b)/float(len(b)),2)\n",
        "\n",
        "    pub_date = min(self.date_of_sentiment.keys())\n",
        "\n",
        "    return self.date_of_sentiment"
      ],
      "execution_count": 0,
      "outputs": []
    },
    {
      "cell_type": "code",
      "metadata": {
        "id": "MgBcnMGkBSAp",
        "colab_type": "code",
        "colab": {}
      },
      "source": [
        "scores = SentimentAnalysis()"
      ],
      "execution_count": 0,
      "outputs": []
    },
    {
      "cell_type": "code",
      "metadata": {
        "id": "Qo9iaL_hAeKP",
        "colab_type": "code",
        "outputId": "aa064c0e-570b-492f-d4de-5f3902b3afab",
        "colab": {
          "base_uri": "https://localhost:8080/",
          "height": 230
        }
      },
      "source": [
        "data = scores.get_sentiment()"
      ],
      "execution_count": 0,
      "outputs": [
        {
          "output_type": "stream",
          "text": [
            "10\n",
            "1\n",
            "07 Nov 2019 https://www.businesstimes.com.sg/technology/qualcomms-licensing-forecast-helped-by-apple-deal-drives-share-gains\n",
            "05 Nov 2019 https://www.businesstimes.com.sg/real-estate/apple-pledges-us25b-for-affordable-california-housing\n",
            "01 Nov 2019 https://www.businesstimes.com.sg/technology/ex-apple-executive-joins-startup-aimed-at-banishing-smartphone-cables\n",
            "01 Nov 2019 https://www.businesstimes.com.sg/lifestyle/weekend-interview/tim-kobe-designer-of-apple-store-ceo-of-eight-inc\n",
            "31 Oct 2019 https://www.businesstimes.com.sg/technology/apple-beats-profit-forecasts-amid-growth-in-services-wearables\n",
            "31 Oct 2019 https://www.businesstimes.com.sg/technology/gender-neutral-emojis-hit-screens-in-new-apple-update-0\n",
            "30 Oct 2019 https://www.businesstimes.com.sg/technology/gender-neutral-emojis-hit-screens-in-new-apple-update\n",
            "29 Oct 2019 https://www.businesstimes.com.sg/real-estate/lego-builds-a-new-headquarters-to-compete-with-apple-and-nike\n",
            "18 Oct 2019 https://www.businesstimes.com.sg/technology/apple-boss-tim-cook-meets-chinese-regulator-after-hk-app-criticism\n",
            "17 Oct 2019 https://www.businesstimes.com.sg/technology/startup-headed-by-ex-apple-engineer-aims-to-eliminate-smartphone-buttons\n"
          ],
          "name": "stdout"
        }
      ]
    },
    {
      "cell_type": "code",
      "metadata": {
        "id": "XotcsnVbB4aV",
        "colab_type": "code",
        "outputId": "54c85a26-78ae-4122-8a8c-5c4958b62b8e",
        "colab": {
          "base_uri": "https://localhost:8080/",
          "height": 158
        }
      },
      "source": [
        "data"
      ],
      "execution_count": 0,
      "outputs": [
        {
          "output_type": "execute_result",
          "data": {
            "text/plain": [
              "{datetime.date(2019, 10, 18): 0.85,\n",
              " datetime.date(2019, 10, 19): 0.14,\n",
              " datetime.date(2019, 10, 30): 0.98,\n",
              " datetime.date(2019, 10, 31): 0.29,\n",
              " datetime.date(2019, 11, 1): 0.64,\n",
              " datetime.date(2019, 11, 2): 0.99,\n",
              " datetime.date(2019, 11, 6): 0.96,\n",
              " datetime.date(2019, 11, 8): 0.98}"
            ]
          },
          "metadata": {
            "tags": []
          },
          "execution_count": 22
        }
      ]
    },
    {
      "cell_type": "code",
      "metadata": {
        "id": "wlBupY5oxLzU",
        "colab_type": "code",
        "colab": {}
      },
      "source": [
        ""
      ],
      "execution_count": 0,
      "outputs": []
    }
  ]
}